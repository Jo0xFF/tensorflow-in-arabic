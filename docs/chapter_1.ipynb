{
  "cells": [
    {
      "cell_type": "markdown",
      "metadata": {
        "id": "erVYo6Lghz8Z"
      },
      "source": [
        "#(Computer Vision) الفصل الاول: الرؤية الحاسوبية\n",
        "في هذا الفصل من الكُتيب سوف يتم طرح بعض الخوارزميات المستخدمه من اجل معالجة الصور وبعض المكتبات المستعمله لكي ينطلق المُتعلم في طريقة نحو الاتقان وبناء خوارزمية تعلم عميق بشكل سليم\n"
      ]
    },
    {
      "cell_type": "markdown",
      "metadata": {
        "id": "uL5eaZMlPe0f"
      },
      "source": [
        "\n",
        "## الشبكات العصبية الترشيحية (Convolutional neural network)\n",
        "\n",
        "ما هي الشبكة العصبية التشريحية؟ هي نوع خاص من الشبكات العصبية يمكن أن تستعمل في إيجاد الأنماط بداخل البيانات المعطاة لها.\n",
        "\n",
        "\n",
        "\n",
        "على سبيل المثال: لو لدينا صور القرص المضغوط فيمكن تخمين الأنماط على أنها دائرة وفي المنتصف هنالك نقطة مجوفة، قد يتساءل البعض لربما تحدث مشكلة إذا تم إدخال بيانات لصور الدونات مثلا، هل سوف تتعرف عليها الخوارزمية؟ هذا الجواب عائد كيف تتعلم هذه المعمارية من الخوارزميات فبعضها يجد أن الدونات لديها سُمك بين الأطراف أكثر من القرص المضغوط وهكذا يتم التفريق بينهم."
      ]
    },
    {
      "cell_type": "markdown",
      "metadata": {
        "id": "MuuGMBdwPjXa"
      },
      "source": [
        "## المواضيع التي سوف يتم طرحها ‏‪ (Topics of the section)\n",
        "سوف يتم البدء في تحميل البيانات المكونة من مجموعة من الصور سوف نتناولها بأكثر من طريقه\n",
        "1. تحميلها أولاً من [TensorFlow Datasets](https://www.tensorflow.org/datasets/overview)\n",
        "\n",
        "    - اكتشاف البيانات من الداخل ورؤيتها\n",
        "    - ملاحظة الفروقات لاحقاً بينها وبين البيانات الخام عند قراءتها باستعمال المكتبات الخاصة لقراءة ومعالجة الصور\n",
        "2. إعداد الصور من داخل مجلدات وكيف نستطيع قراءتها وما هي الباراميترات المهمة\n",
        "    - طريقه تحميل الصور من داخل المجلدات إلى الكود تحتاج إلى هيكلية معينه\n",
        "سوف يتم التدرج وبناء مشروع كامل بالخطوة الأولى وبعدها سوف نبني مشروع آخر بنفس الطريقة لكن باستعمال الطريقة الثانية"
      ]
    },
    {
      "cell_type": "markdown",
      "metadata": {
        "id": "OH08sBD5rPlO"
      },
      "source": [
        "## تحميل الملفات باستخدام TensorFlow Dataset\n",
        "dataset قبل البدء من أهم المميزات في الـ\n",
        "\n",
        "TensorFlow وهي شكل البيانات في مكتبه Tensors هو أنها مُعده من قبل على شكل \n",
        "\n",
        "وهي عبارة عن مصفوفة بكل اختصار.\n",
        "\n",
        "وميزه أخرى, يمكننا أيضاً عمل العديد من التجارب على بيانات مُعده بشكل ممتاز وهذا يعطي نتائج مبهرة وجميلة"
      ]
    },
    {
      "cell_type": "markdown",
      "metadata": {
        "id": "rx77X1autA0T"
      },
      "source": [
        "### (Download images) تحميل البيانات"
      ]
    },
    {
      "cell_type": "code",
      "execution_count": null,
      "metadata": {
        "id": "UokyDMhptAhF"
      },
      "outputs": [],
      "source": [
        "# import tensorflow dataset \n",
        "import tensorflow_datasets as tfds"
      ]
    },
    {
      "cell_type": "code",
      "execution_count": null,
      "metadata": {
        "colab": {
          "base_uri": "https://localhost:8080/"
        },
        "id": "OEU_hxEgtAed",
        "outputId": "e977d8db-65d8-40df-af10-bd638aacabb4"
      },
      "outputs": [
        {
          "name": "stdout",
          "output_type": "stream",
          "text": [
            "['abstract_reasoning', 'accentdb', 'aeslc', 'aflw2k3d', 'ag_news_subset', 'ai2_arc', 'ai2_arc_with_ir', 'amazon_us_reviews', 'anli', 'arc', 'bair_robot_pushing_small', 'bccd', 'beans', 'big_patent', 'bigearthnet', 'billsum', 'binarized_mnist', 'binary_alpha_digits', 'blimp', 'bool_q', 'c4', 'caltech101', 'caltech_birds2010', 'caltech_birds2011', 'cars196', 'cassava', 'cats_vs_dogs', 'celeb_a', 'celeb_a_hq', 'cfq', 'chexpert', 'cifar10', 'cifar100', 'cifar10_1', 'cifar10_corrupted', 'citrus_leaves', 'cityscapes', 'civil_comments', 'clevr', 'clic', 'clinc_oos', 'cmaterdb', 'cnn_dailymail', 'coco', 'coco_captions', 'coil100', 'colorectal_histology', 'colorectal_histology_large', 'common_voice', 'coqa', 'cos_e', 'cosmos_qa', 'covid19sum', 'crema_d', 'curated_breast_imaging_ddsm', 'cycle_gan', 'deep_weeds', 'definite_pronoun_resolution', 'dementiabank', 'diabetic_retinopathy_detection', 'div2k', 'dmlab', 'downsampled_imagenet', 'dsprites', 'dtd', 'duke_ultrasound', 'emnist', 'eraser_multi_rc', 'esnli', 'eurosat', 'fashion_mnist', 'flic', 'flores', 'food101', 'forest_fires', 'fuss', 'gap', 'geirhos_conflict_stimuli', 'genomics_ood', 'german_credit_numeric', 'gigaword', 'glue', 'goemotions', 'gpt3', 'groove', 'gtzan', 'gtzan_music_speech', 'hellaswag', 'higgs', 'horses_or_humans', 'i_naturalist2017', 'imagenet2012', 'imagenet2012_corrupted', 'imagenet2012_real', 'imagenet2012_subset', 'imagenet_a', 'imagenet_r', 'imagenet_resized', 'imagenet_v2', 'imagenette', 'imagewang', 'imdb_reviews', 'irc_disentanglement', 'iris', 'kitti', 'kmnist', 'lfw', 'librispeech', 'librispeech_lm', 'libritts', 'ljspeech', 'lm1b', 'lost_and_found', 'lsun', 'malaria', 'math_dataset', 'mctaco', 'mnist', 'mnist_corrupted', 'movie_lens', 'movie_rationales', 'movielens', 'moving_mnist', 'multi_news', 'multi_nli', 'multi_nli_mismatch', 'natural_questions', 'natural_questions_open', 'newsroom', 'nsynth', 'nyu_depth_v2', 'omniglot', 'open_images_challenge2019_detection', 'open_images_v4', 'openbookqa', 'opinion_abstracts', 'opinosis', 'opus', 'oxford_flowers102', 'oxford_iiit_pet', 'para_crawl', 'patch_camelyon', 'paws_wiki', 'paws_x_wiki', 'pet_finder', 'pg19', 'places365_small', 'plant_leaves', 'plant_village', 'plantae_k', 'qa4mre', 'qasc', 'quickdraw_bitmap', 'radon', 'reddit', 'reddit_disentanglement', 'reddit_tifu', 'resisc45', 'robonet', 'rock_paper_scissors', 'rock_you', 'salient_span_wikipedia', 'samsum', 'savee', 'scan', 'scene_parse150', 'scicite', 'scientific_papers', 'sentiment140', 'shapes3d', 'smallnorb', 'snli', 'so2sat', 'speech_commands', 'spoken_digit', 'squad', 'stanford_dogs', 'stanford_online_products', 'starcraft_video', 'stl10', 'sun397', 'super_glue', 'svhn_cropped', 'ted_hrlr_translate', 'ted_multi_translate', 'tedlium', 'tf_flowers', 'the300w_lp', 'tiny_shakespeare', 'titanic', 'trec', 'trivia_qa', 'tydi_qa', 'uc_merced', 'ucf101', 'vctk', 'vgg_face2', 'visual_domain_decathlon', 'voc', 'voxceleb', 'voxforge', 'waymo_open_dataset', 'web_questions', 'wider_face', 'wiki40b', 'wikihow', 'wikipedia', 'wikipedia_toxicity_subtypes', 'wine_quality', 'winogrande', 'wmt14_translate', 'wmt15_translate', 'wmt16_translate', 'wmt17_translate', 'wmt18_translate', 'wmt19_translate', 'wmt_t2t_translate', 'wmt_translate', 'wordnet', 'xnli', 'xquad', 'xsum', 'yelp_polarity_reviews', 'yes_no']\n"
          ]
        }
      ],
      "source": [
        "# List all the datasets\n",
        "dataset_list = tfds.list_builders()\n",
        "print(dataset_list)"
      ]
    },
    {
      "cell_type": "markdown",
      "metadata": {
        "id": "qgh6u0cJvEkl"
      },
      "source": [
        "بإستعمال الدالة .list_builders()\n",
        "\n",
        "نستطيع فرز جميع البيانات المُعدة التي تملكها المكتبه في الوقت الحالي \n",
        "\n",
        "\n",
        "البيانات العائدة تعود بصيغة List لذلك نستطيع تخزينها بداخل مُتغير \n",
        "\n",
        "\n",
        "``` 1444/1/4 ``` الوقت الذي تم كتابه الشرح فيه"
      ]
    },
    {
      "cell_type": "code",
      "execution_count": null,
      "metadata": {
        "colab": {
          "base_uri": "https://localhost:8080/"
        },
        "id": "6un_Lcbsfv__",
        "outputId": "3876d129-15a8-4ac3-ce7a-82ab39c96c1d"
      },
      "outputs": [
        {
          "name": "stdout",
          "output_type": "stream",
          "text": [
            "True\n"
          ]
        }
      ],
      "source": [
        "# Check a certain dataset\n",
        "print(\"rock_paper_scissors\" in dataset_list)"
      ]
    },
    {
      "cell_type": "markdown",
      "metadata": {
        "id": "_n-XANeNwTHG"
      },
      "source": [
        "سوف نستعمل البيانات المُعدة التي تملك عن صور من اللعبة الشهيرة \"حجرة ورقة مقص\"\n",
        "\n",
        "لقد قمت باختيارها عن طريق استعمال موقعهم الخاص الخاص بهذه المجموعة الضخمة من البيانات\n",
        "[TensorFlow datasets Catalog](https://www.tensorflow.org/datasets/catalog/overview)"
      ]
    },
    {
      "cell_type": "code",
      "execution_count": null,
      "metadata": {
        "id": "FTXWv3abwNEl"
      },
      "outputs": [],
      "source": [
        "# Load the desired dataset\n",
        "(train_data, test_data), dataset_info = tfds.load(name=\"rock_paper_scissors\",\n",
        "                                                  split=[\"train\", \"test\"],\n",
        "                                                  shuffle_files=True,\n",
        "                                                  as_supervised=True,\n",
        "                                                  with_info=True)"
      ]
    },
    {
      "cell_type": "code",
      "execution_count": null,
      "metadata": {
        "colab": {
          "base_uri": "https://localhost:8080/"
        },
        "id": "AmBRObmeyh56",
        "outputId": "a0ae0e35-9847-4148-fc78-fc82a4932cc8"
      },
      "outputs": [
        {
          "data": {
            "text/plain": [
              "<TakeDataset element_spec=(TensorSpec(shape=(300, 300, 3), dtype=tf.uint8, name=None), TensorSpec(shape=(), dtype=tf.int64, name=None))>"
            ]
          },
          "execution_count": 5,
          "metadata": {},
          "output_type": "execute_result"
        }
      ],
      "source": [
        "train_data.take(0)"
      ]
    },
    {
      "cell_type": "markdown",
      "metadata": {
        "id": "LQBIYxdi0Cj2"
      },
      "source": [
        "ووضع الباراميترات كالآتي .load() أولاً تم تنزيل البيانات عن طريق\n",
        "- name= اسم مجموعة البيانات التي تريدها\n",
        "- split: تقسيم البيانات إلى جزئين وهو التدريب والاختبار لاحقاً\n",
        "    - كيف تم معرفة ما هي التقسيمة ؟ عن طريق الموقع تم وضع الجزئين\n",
        "    - [in section of split](https://www.tensorflow.org/datasets/catalog/rock_paper_scissors)\n",
        "- shuffle_files: إعادة ترتيب ملفات الصور أثناء تنزيلها وهذا يفيد بشكل كبير أثناء عملية تدريب الخوارزمية لكي لا يقع المودل في مُشكله تدعى\n",
        "Overfitting\n",
        "\n",
        "- as_supervised: تحميل الملفات بصيغة Tuple => (image, label)\n",
        "    - لذلك تم تقسيم المتغيرات بداخل الأقواس لكي نستخدم Tuple unpacking \n",
        "    - حيث تتقسم بالشكل التالي ( (image_train, label_train) , (image_test, label_test) ) ===> (train_data, test_data)\n",
        "-with_info: تأتي مع بعض البيانات من هذه المكتبة بمعلومات عن المجموعة البياناتيه المُحملة meta data\n"
      ]
    },
    {
      "cell_type": "code",
      "execution_count": null,
      "metadata": {
        "colab": {
          "base_uri": "https://localhost:8080/"
        },
        "id": "SBJ7bpGXyqrs",
        "outputId": "cb6ba19c-9a95-4b0b-cac1-c28a9abdf290"
      },
      "outputs": [
        {
          "data": {
            "text/plain": [
              "FeaturesDict({\n",
              "    'image': Image(shape=(300, 300, 3), dtype=tf.uint8),\n",
              "    'label': ClassLabel(shape=(), dtype=tf.int64, num_classes=3),\n",
              "})"
            ]
          },
          "execution_count": 6,
          "metadata": {},
          "output_type": "execute_result"
        }
      ],
      "source": [
        "# Check the features meta\n",
        "dataset_info.features"
      ]
    },
    {
      "cell_type": "code",
      "execution_count": null,
      "metadata": {
        "colab": {
          "base_uri": "https://localhost:8080/"
        },
        "id": "f59rBzIr3qbA",
        "outputId": "55c220f7-1a64-4414-f95a-464ec40d3817"
      },
      "outputs": [
        {
          "data": {
            "text/plain": [
              "ClassLabel(shape=(), dtype=tf.int64, num_classes=3)"
            ]
          },
          "execution_count": 7,
          "metadata": {},
          "output_type": "execute_result"
        }
      ],
      "source": [
        "# How to access the label for image\n",
        "dataset_info.features[\"label\"]"
      ]
    },
    {
      "cell_type": "code",
      "execution_count": null,
      "metadata": {
        "colab": {
          "base_uri": "https://localhost:8080/"
        },
        "id": "4QTdVqgF3vEK",
        "outputId": "affd061a-0e6f-4c3a-b1ed-0f96f7e44250"
      },
      "outputs": [
        {
          "data": {
            "text/plain": [
              "['rock', 'paper', 'scissors']"
            ]
          },
          "execution_count": 8,
          "metadata": {},
          "output_type": "execute_result"
        }
      ],
      "source": [
        "# Access all the list of labels \n",
        "dataset_info.features[\"label\"].names"
      ]
    },
    {
      "cell_type": "markdown",
      "metadata": {
        "id": "3uP21apw35xC"
      },
      "source": [
        "للحصول على أسماء كل كلاس موجودة في هذه الحزمة من البيانات نستطيع استعمال بيانات الميتا ونستعملها عليها الآتي:\n",
        "- .features: تحتوي على المفتاح المؤدي إلى أسماء الكلاسات Dictionary تقوم بإرجاع\n",
        "- features[\"label\"]: نقوم بإدخال اسم المفتاح KEY\n",
        "- .names: باستعمال العنصر هذا نستطيع الولوج إلى أسماء الكلاسات\n",
        "\n",
        "سؤال: لماذا نريد معرفة أسماء الكلاسات وتخزينها للاستخدام لاحقاً ؟\n",
        "\n",
        "\n",
        "جواب: عندما تقوم خوارزمية التعلم العميق في تصنيف البيانات تحتاج إلى مُخرج تعرفه الخوارزمية في هذه الحالة تعطى أسماء المخرجات إلى الخوارزمية لكي تستطيع تصنيفها.\n"
      ]
    },
    {
      "cell_type": "code",
      "execution_count": null,
      "metadata": {
        "colab": {
          "base_uri": "https://localhost:8080/"
        },
        "id": "TGZwqepq33Bw",
        "outputId": "58492623-f84f-430d-d7f4-0b0377e951e7"
      },
      "outputs": [
        {
          "data": {
            "text/plain": [
              "['rock', 'paper', 'scissors']"
            ]
          },
          "execution_count": 9,
          "metadata": {},
          "output_type": "execute_result"
        }
      ],
      "source": [
        "# Store the list of labels into variable for future use\n",
        "class_names = dataset_info.features[\"label\"].names\n",
        "class_names"
      ]
    },
    {
      "cell_type": "markdown",
      "metadata": {
        "id": "qIrjicrfLOm7"
      },
      "source": [
        "### (EDA) استكشاف البيانات"
      ]
    },
    {
      "cell_type": "code",
      "execution_count": null,
      "metadata": {
        "colab": {
          "base_uri": "https://localhost:8080/"
        },
        "id": "m4pSET1Z6cVo",
        "outputId": "39559fed-197f-4d02-e33d-b151ca74a990"
      },
      "outputs": [
        {
          "name": "stdout",
          "output_type": "stream",
          "text": [
            "Image Shape: (300, 300, 3)\n",
            "Image Data Type: <dtype: 'uint8'>\n",
            "Image Label (in number): 2\n",
            "Image Label (in String 'real name'): scissors\n",
            "Image Matrix: [[[254 254 254]\n",
            "  [253 253 253]\n",
            "  [254 254 254]\n",
            "  ...\n",
            "  [251 251 251]\n",
            "  [250 250 250]\n",
            "  [250 250 250]]\n",
            "\n",
            " [[254 254 254]\n",
            "  [254 254 254]\n",
            "  [253 253 253]\n",
            "  ...\n",
            "  [250 250 250]\n",
            "  [251 251 251]\n",
            "  [249 249 249]]\n",
            "\n",
            " [[254 254 254]\n",
            "  [254 254 254]\n",
            "  [254 254 254]\n",
            "  ...\n",
            "  [251 251 251]\n",
            "  [250 250 250]\n",
            "  [252 252 252]]\n",
            "\n",
            " ...\n",
            "\n",
            " [[252 252 252]\n",
            "  [251 251 251]\n",
            "  [252 252 252]\n",
            "  ...\n",
            "  [247 247 247]\n",
            "  [249 249 249]\n",
            "  [248 248 248]]\n",
            "\n",
            " [[253 253 253]\n",
            "  [253 253 253]\n",
            "  [251 251 251]\n",
            "  ...\n",
            "  [248 248 248]\n",
            "  [248 248 248]\n",
            "  [248 248 248]]\n",
            "\n",
            " [[252 252 252]\n",
            "  [253 253 253]\n",
            "  [252 252 252]\n",
            "  ...\n",
            "  [248 248 248]\n",
            "  [247 247 247]\n",
            "  [250 250 250]]]\n"
          ]
        }
      ],
      "source": [
        "# Small EDA for image features\n",
        "for image, label in train_data.take(1):\n",
        "    print(f\"Image Shape: {image.shape}\")\n",
        "    print(f\"Image Data Type: {image.dtype}\")\n",
        "    print(f\"Image Label (in number): {label}\")\n",
        "    print(f\"Image Label (in String 'real name'): {class_names[label.numpy()]}\")\n",
        "    print(f\"Image Matrix: {image}\")"
      ]
    },
    {
      "cell_type": "markdown",
      "metadata": {
        "id": "cjImsnV19TmG"
      },
      "source": [
        "من الجيد كأول خطوة عند تحميل أي بيانات، أخذ بعض الوقت لمشاهدة أحجام الصور أو نوع البيانات ومشاهده هل المصفوفة تحتوي على بيانات تم تحسين أرقامها بصيغة 0-1 بدل من أن تبدأ الأرقام من 0-255 وهذا راجع لكون الباش عندما نقوم باستعماله يجب أن تكون جميع البيانات بنفس البُعد لو كانت مثلاً\n",
        "(3 ,300 ,300) فجميعها يجب أن تكون هكذا\n",
        "\n",
        "- أول رقم يمثل الارتفاع\n",
        "- ثاني رقم يمثل العرض\n",
        "- ثالث رقم يمثل عدد قنوات الألوان وهي الأحمر والأخضر والأزرق\n",
        "حسب تجاربي السابقة في بناء هذه الخوارزمية وتدريبها.\n",
        "الشبكة العصبية تعمل بشكل أكبر كفاءة مع بيانات من نوع float32\n",
        "\n",
        "وأيضاً نلاحظ ان الكلاسات عباره عن أرقام integers\n",
        "[1,2,3,4]\n",
        "\n",
        "وليست OneHot [0, 1, 0]\n",
        "- الرقم واحد يشير عن هذه الصوره تنتمي للكلاس هذا مثلاً نقول هو الحجر بالمصفوفه التي بالبايثون "
      ]
    },
    {
      "cell_type": "markdown",
      "metadata": {
        "id": "BNV7OemzLTLl"
      },
      "source": [
        "### (Preprocess images) معالجة البيانات\n",
        "من أجل الحصول على أفضل نتيجة ممكنة خلال تدريب خوارزمية الشبكة العصبية التشريحية تُعتبر من أهم الخطوات في بناء أي موديل هو تجهيز البيانات بالشكل الملائم"
      ]
    },
    {
      "cell_type": "code",
      "execution_count": null,
      "metadata": {
        "id": "09jXS7HyDZtb"
      },
      "outputs": [],
      "source": [
        "# importing the TensorFlow library\n",
        "import tensorflow as tf"
      ]
    },
    {
      "cell_type": "code",
      "execution_count": null,
      "metadata": {
        "id": "zrPyCxMD-fqv"
      },
      "outputs": [],
      "source": [
        "def process_img(image, label, img_shape=224):\n",
        "    \"\"\" \n",
        "    Convert image dtype from uint8 ===> float32\n",
        "    also reshape the images to (224, 224, 3) by default unless you want to specify a number you want.\n",
        "\n",
        "    --------------\n",
        "    Args:\n",
        "    image: image in tensor (matrix)\n",
        "    label: classes in number format\n",
        "    image_shape: the shape of image you want \n",
        "\n",
        "    --------------\n",
        "    Returns: \n",
        "    Tuple of casted Image matrix of type float32 and the label with it in the form of (image, label)\n",
        "    \"\"\"\n",
        "    img = tf.image.resize(image, [img_shape, img_shape])\n",
        "    img = img /255.\n",
        "    return tf.cast(img, tf.float32), label"
      ]
    },
    {
      "cell_type": "markdown",
      "metadata": {
        "id": "iJGunQ6yDvFi"
      },
      "source": [
        "في هذه الخطوة:\n",
        "لقد قمنا بعمل دالة تقوم بعمل الآتي تأخذ الصور كصيغة مصفوفة وأيضاً تأخذ الكلاسات بصيغة رقمية وتحولها الى\n",
        "\n",
        "```( (224, 224, 3), الكلاس )```\n",
        "\n",
        "وأيضا حولنا جميع قيم المصفوفه إلى قيم بين 0 - 1 لكي تستطيع الخوارزمية أن تتنبأ بشكل ممتاز عكس إذا كانت القيم بين 0 - 255\n",
        "\n",
        "سؤال: من أين أتت الأقواس الزائده التي بالخارج تحيط بالكلاس ومصفوفة الصورة ؟\n",
        "\n",
        "الجواب: عند إرجاع قيم من دالة مع وضع فاصلة بين مُتغيرين في البايثون فإنه سيتم إرجاعه كـصيغة \n",
        "\n",
        "*Tuple*\n",
        "\n",
        "![](https://i.imgur.com/cGQCpQG.png)\n",
        "\n",
        "*Tupleصورة توضيحية وضع الفاصله هنا يسبب في ارجاع القيم كـ*"
      ]
    },
    {
      "cell_type": "code",
      "execution_count": null,
      "metadata": {
        "colab": {
          "base_uri": "https://localhost:8080/"
        },
        "id": "NWQfMklY7dIK",
        "outputId": "60ba78d6-7ca4-4386-c7a7-45dbde0a09cf"
      },
      "outputs": [
        {
          "data": {
            "text/plain": [
              "(<PrefetchDataset element_spec=(TensorSpec(shape=(None, 224, 224, 3), dtype=tf.float32, name=None), TensorSpec(shape=(None,), dtype=tf.int64, name=None))>,\n",
              " <PrefetchDataset element_spec=(TensorSpec(shape=(None, 224, 224, 3), dtype=tf.float32, name=None), TensorSpec(shape=(None,), dtype=tf.int64, name=None))>)"
            ]
          },
          "execution_count": 13,
          "metadata": {},
          "output_type": "execute_result"
        }
      ],
      "source": [
        "# Preprocess the images & Batch it\n",
        "train_data = train_data.map(map_func=process_img, num_parallel_calls=tf.data.AUTOTUNE)\n",
        "train_data = train_data.batch(32).prefetch(tf.data.AUTOTUNE)\n",
        "\n",
        "test_data = test_data.map(map_func=process_img, num_parallel_calls=tf.data.AUTOTUNE)\n",
        "test_data = test_data.batch(32).prefetch(tf.data.AUTOTUNE)\n",
        "\n",
        "\n",
        "train_data, test_data"
      ]
    },
    {
      "cell_type": "markdown",
      "metadata": {
        "id": "IvMZ49tgFIza"
      },
      "source": [
        "الكثير من العمليات حدثت هنا لكنها بسيطة وسوف تشرح كالتالي:\n",
        "- .map(): تعمل بإرسال اجزاء من البيانات هنا الى داله اخرى وهي التي كتبناها في الاعلى سابقاً ويتم تحويل جزء البيانات فلنقل المصفوفه الاولى وتعود لنا بصيغتها الجديدة التي قمنا بتحديدها سلفًا\n",
        "- num_parallel_calls: هنا قمنا بعمل Parallel Processing لتسريع عملية المعالجة تخيل معي انك تقوم بأكثر من عملية في وقت واحد من غير انتظار العملية الاولى لكي تنتظر وتبدأ العملية التاليه فهذا يكسبنا الوقت في البيانات الضخمة.\n",
        "- .batch(): تجميع البيانات في حزمه لكي تتيح للموديل ان يرى فقط هذه الجزئيه وعددها 32 بمعنى انه يرى في المره الواحده 32 جزئيه من البيانات بدل البيانات جميعها في آن واحد \n",
        "\n",
        "- .prefetch(): تستخدم في تسريع ايضاً عملية رفع البيانات عندما تبدأ عملية تدريب الخوارزمية\n",
        "    - ملاحظة: يمكنك اكمال الخطوات من غيرها, لكن يفضل وضعها في اخر شيء من الـ input pipeline\n"
      ]
    },
    {
      "cell_type": "markdown",
      "metadata": {
        "id": "O0qwjelQLqFN"
      },
      "source": [
        "### (Building CNN model) بناء الخوارزمية الخاصة بـالشبكة العصبية الترشيحية\n",
        "\n",
        "قبل البدأ في استعمال وبناء معمارية CNN\n",
        "\n",
        "وهي نوع خاص من الشبكات العصبية الترشيحية الموجودة في مكتبه Conv2D سوف يتم إستعمال\n",
        "\n",
        "TensorFlow\n",
        "\n",
        "---\n",
        "\n",
        "\n",
        "Shape علينا اولاً معرفه ماهو الـ\n",
        "\n",
        "شكل المدخل وكم بُعد يحتاج هل استوفينا شروطه ؟\n",
        "\n",
        "Conv2D شكل المدخل في :\n",
        "\n",
        "```batch_shape + (rows, cols, channels)```\n",
        "\n",
        "المصدر: [https://www.tensorflow.org/api_docs/python/tf/keras/layers/Conv2D](https://www.tensorflow.org/api_docs/python/tf/keras/layers/Conv2D)"
      ]
    },
    {
      "cell_type": "code",
      "execution_count": null,
      "metadata": {
        "colab": {
          "base_uri": "https://localhost:8080/"
        },
        "id": "yqxjt6f8FHM2",
        "outputId": "8641f4c5-e520-4a36-9544-73f08b510a84"
      },
      "outputs": [
        {
          "data": {
            "text/plain": [
              "<PrefetchDataset element_spec=(TensorSpec(shape=(None, 224, 224, 3), dtype=tf.float32, name=None), TensorSpec(shape=(None,), dtype=tf.int64, name=None))>"
            ]
          },
          "execution_count": 14,
          "metadata": {},
          "output_type": "execute_result"
        }
      ],
      "source": [
        "# inspect the object of prefetch\n",
        "train_data"
      ]
    },
    {
      "cell_type": "markdown",
      "metadata": {
        "id": "2yG9TEunNaCZ"
      },
      "source": [
        "shape=(None, 224, 224, 3) كما نرى ماهو مكتوب \n",
        "\n",
        "هذا يدل ان حجم الصوره موجود الا وهو اخر 3 ارقام كما شرحت في السابق, ولكن هنالك \n",
        "شيء إضافي هنا وهو\n",
        "\n",
        "```None```\n",
        "المعنى انه تم حجز خانه للـ Batch size\n",
        "\n",
        "وهي التي عملناها في الخطوات السابقه عندما حددنا عددها وهو 32\n",
        "\n",
        "- None: خاصه بالمودل يعتمدها كـفراغ إلى ان يأتي وقت التدريب ويملؤها بالرقم 32\n",
        "\n"
      ]
    },
    {
      "cell_type": "code",
      "execution_count": null,
      "metadata": {
        "id": "efd--8v8NUAT"
      },
      "outputs": [],
      "source": [
        "# Build the Sequential Stacking\n",
        "model = tf.keras.Sequential([\n",
        "    tf.keras.layers.Conv2D(filters=32, kernel_size=3, activation=\"relu\"),\n",
        "    tf.keras.layers.Conv2D(32, 3, activation=\"relu\"),\n",
        "    tf.keras.layers.GlobalMaxPooling2D(),\n",
        "    tf.keras.layers.Dense(len(class_names), activation=\"softmax\")\n",
        "])\n",
        "\n",
        "model.compile(loss=\"sparse_categorical_crossentropy\",\n",
        "              optimizer=\"adam\",\n",
        "              metrics=[\"accuracy\"])\n"
      ]
    },
    {
      "cell_type": "markdown",
      "metadata": {
        "id": "bMblBdD6KBLg"
      },
      "source": [
        "لبناء معمارية شبكة عصبية هنالك طرق لبنائها إما عن طريق \n",
        "- Sequential (سوف نستعمل هذه)\n",
        "- Functional API (مرنه أكثر)\n",
        "\n",
        "لقد استعملنا في بناء هذه الخوارزمية طبقتين من Conv2D\n",
        "- وظيفتها استخراج الانماط المهمة في الصورة وإيجاد أهم القيم التي تساعد في جعل عملية تصنيف الصور لاحقاً\n",
        "    - filters: كم عدد الخلايا التي تستخرج من خلالها القيم في الصورة \n",
        "    - kernel_size: هو عدد البكسلات التي تملكها باراميتر Filters\n",
        "        - بمعنى لو وضعنا رقم 3 معناها كل فلتر سوف يملك 3*3 بكسل ويتحرك ويستخرج القيم المهمة في الصورة\n",
        "    - activation: وهي عمليات حسابية تحدث على الانماط المستخرجة ومشكلتنا هنا تمثل Non-linear بمعنى انها مشكله غير خطية  وهذه الصورة\n",
        "\n",
        "GlobalMaxPooling2D:\n",
        "- تقوم بتقليل عدد الابعاد للمصفوفات المرجعة من الطبقات التي جاءت من الأعلى المعمارية\n",
        "\n",
        "Dense:\n",
        "- وهو طبقة عصبية تستخدم لتعلم الانماط لكن في الاعلى استعملت كأخر طبقة وهي طبقة المخرجات\n",
        "\n",
        "\n",
        "model.compile():\n",
        "- loss: لتحديد أي هامش خطأ نرجع للمشكله التي نريد حلها ونفكر قليلاً هل هي من ضمن أكثر من كلاس للتصنيف ؟ ام انها فقط تملك كلاسين ونحاول التفريق بينهم.\n",
        "    - بصيغة ابسط: هي الدالة التي تخبر الخوارزمية إلى أي مدى التنبؤ الخاص بها خاطئ\n",
        "    - sparse_categorical_crossentropy: وضعناها بسبب ان الكلاسات على صيغة integers\n",
        "        - integers: بمعنى [1,2,3]\n",
        "        - OneHot: تكون شكلها هكذا [0,0,1]\n",
        "        - categorical_crossentropy معلومة إضافية: لو كانت بصيغة الوان هوت نستطيع إستخدام \n",
        "\n",
        "\n",
        "- optimizer: لتحديد الدالة التي تستطيع من خلالها تحسين إيجاد الانماط في البيانات أثناء عملية التمرين\n",
        "    - اشهر الدوال Adam()\n",
        "\n",
        "- metrics: تحديد وتفسير أداء الخوارزمية هل النتائج مرضية أم تحتاج إلى تحسين ؟\n",
        "\n"
      ]
    },
    {
      "cell_type": "markdown",
      "metadata": {
        "id": "ASVx4QCLSkob"
      },
      "source": [
        "### (Model training) البدء في عملية تدريب الخوارزمية\n",
        "لكي نستطيع تدريب الخوارزمية نقوم بإستدعاء الداله .fit()\n",
        "\n",
        "ملاحظة: هذه الداله أيضاً تقوم بإرجاع معلومات عن المقاييس يمكن الاستفاده منها لاحقاً في إنشاء رسومات بيانيه\n",
        "\n",
        "ماهي الباراميترات المستخدمة ؟ \n",
        "- yولأننا دمجناها في مُتغير واحد سابقاً لذلك لانحتاج لمُتغير (X, y)أول خانه: وهي تأخذ بيانات الـ \n",
        "- Epochs: هو عدد مرات مشاهدة الخوارزمية للبيانات اثناء التدريب للدورة الواحدة\n",
        "    - على سبيل المثال لو لدينا 10 ألاف شريحة من البيانات ووضعنا 10 دورات هذا يعني انها سوف ترى الـ 10 ألاف 10 مرات\n",
        "- validation_data: هي نفس أول باراميتر في الخانه1 "
      ]
    },
    {
      "cell_type": "code",
      "execution_count": null,
      "metadata": {
        "colab": {
          "base_uri": "https://localhost:8080/"
        },
        "id": "cSr-l1bKPOOs",
        "outputId": "c69667ff-bb64-49cd-d1c4-80f21db515d6"
      },
      "outputs": [
        {
          "name": "stdout",
          "output_type": "stream",
          "text": [
            "Epoch 1/10\n",
            "79/79 [==============================] - 22s 112ms/step - loss: 1.0509 - accuracy: 0.4996 - val_loss: 1.1098 - val_accuracy: 0.3333\n",
            "Epoch 2/10\n",
            "79/79 [==============================] - 8s 101ms/step - loss: 0.9284 - accuracy: 0.6060 - val_loss: 1.0557 - val_accuracy: 0.3763\n",
            "Epoch 3/10\n",
            "79/79 [==============================] - 8s 100ms/step - loss: 0.8068 - accuracy: 0.6591 - val_loss: 0.9941 - val_accuracy: 0.4355\n",
            "Epoch 4/10\n",
            "79/79 [==============================] - 8s 101ms/step - loss: 0.7284 - accuracy: 0.6841 - val_loss: 0.9525 - val_accuracy: 0.4892\n",
            "Epoch 5/10\n",
            "79/79 [==============================] - 8s 107ms/step - loss: 0.6700 - accuracy: 0.7107 - val_loss: 0.9186 - val_accuracy: 0.5188\n",
            "Epoch 6/10\n",
            "79/79 [==============================] - 8s 101ms/step - loss: 0.6145 - accuracy: 0.7452 - val_loss: 0.8669 - val_accuracy: 0.5484\n",
            "Epoch 7/10\n",
            "79/79 [==============================] - 8s 101ms/step - loss: 0.5622 - accuracy: 0.7762 - val_loss: 0.8205 - val_accuracy: 0.5995\n",
            "Epoch 8/10\n",
            "79/79 [==============================] - 8s 102ms/step - loss: 0.5091 - accuracy: 0.8075 - val_loss: 0.7491 - val_accuracy: 0.6398\n",
            "Epoch 9/10\n",
            "79/79 [==============================] - 8s 102ms/step - loss: 0.4575 - accuracy: 0.8341 - val_loss: 0.7057 - val_accuracy: 0.6801\n",
            "Epoch 10/10\n",
            "79/79 [==============================] - 8s 103ms/step - loss: 0.4130 - accuracy: 0.8595 - val_loss: 0.6854 - val_accuracy: 0.6774\n"
          ]
        }
      ],
      "source": [
        "# Train the model for features extraction\n",
        "history = model.fit(train_data,\n",
        "                    epochs=10,\n",
        "                    validation_data=test_data)"
      ]
    },
    {
      "cell_type": "code",
      "execution_count": null,
      "metadata": {
        "colab": {
          "base_uri": "https://localhost:8080/"
        },
        "id": "r4gzp-L3POMU",
        "outputId": "9cf7f6fb-7c4f-497a-fbd7-d5203d459380"
      },
      "outputs": [
        {
          "data": {
            "text/plain": [
              "{'accuracy': [0.49960318207740784,\n",
              "  0.6059523820877075,\n",
              "  0.6591269969940186,\n",
              "  0.6841269731521606,\n",
              "  0.7107142806053162,\n",
              "  0.7452380657196045,\n",
              "  0.776190459728241,\n",
              "  0.807539701461792,\n",
              "  0.8341270089149475,\n",
              "  0.8595238327980042],\n",
              " 'loss': [1.0508699417114258,\n",
              "  0.9283791184425354,\n",
              "  0.806816577911377,\n",
              "  0.7283884286880493,\n",
              "  0.6699739694595337,\n",
              "  0.6145328879356384,\n",
              "  0.5621534585952759,\n",
              "  0.5090625882148743,\n",
              "  0.457501083612442,\n",
              "  0.41296741366386414],\n",
              " 'val_accuracy': [0.3333333432674408,\n",
              "  0.37634408473968506,\n",
              "  0.4354838728904724,\n",
              "  0.48924732208251953,\n",
              "  0.5188171863555908,\n",
              "  0.5483871102333069,\n",
              "  0.5994623899459839,\n",
              "  0.6397849321365356,\n",
              "  0.6801075339317322,\n",
              "  0.6774193644523621],\n",
              " 'val_loss': [1.1097803115844727,\n",
              "  1.0557432174682617,\n",
              "  0.9941222667694092,\n",
              "  0.9524931311607361,\n",
              "  0.9186267852783203,\n",
              "  0.8669115304946899,\n",
              "  0.82050621509552,\n",
              "  0.7490584850311279,\n",
              "  0.7057470679283142,\n",
              "  0.6854193210601807]}"
            ]
          },
          "execution_count": 17,
          "metadata": {},
          "output_type": "execute_result"
        }
      ],
      "source": [
        "history.history"
      ]
    },
    {
      "cell_type": "markdown",
      "metadata": {
        "id": "Ulo3ss23Rzgu"
      },
      "source": [
        "هنا لو اخذنا الاوبجكت العائد من الداله .fit()\n",
        "\n",
        "```history.``` نستطيع ان نرى الكثير من الخصائص والدوائل لو كتبنا\n",
        "\n",
        "ولو قمنا بإرجاع history.history\n",
        "\n",
        "سوف نرى القيم التي كانت تظهر أثناء تدريب الخوارزمية وهذه سوف نستعملها كمتغيرات للرسم البياني التالي.....\n",
        "\n",
        "ماسوف نفعله بالخطوه القادمة أننا سوف نقوم باستعمال هذا الـ Dictionary\n",
        "\n",
        "ونقوم باستعمال كل قيمة على حدى"
      ]
    },
    {
      "cell_type": "code",
      "execution_count": null,
      "metadata": {
        "colab": {
          "base_uri": "https://localhost:8080/"
        },
        "id": "-qCEBg7m4Mzv",
        "outputId": "590fe79e-92e3-4269-a55b-92e986e58fc5"
      },
      "outputs": [
        {
          "data": {
            "text/plain": [
              "[0, 1, 2, 3, 4, 5, 6, 7, 8, 9]"
            ]
          },
          "execution_count": 18,
          "metadata": {},
          "output_type": "execute_result"
        }
      ],
      "source": [
        "history.epoch"
      ]
    },
    {
      "cell_type": "markdown",
      "metadata": {
        "id": "P6UlYhMMSdvI"
      },
      "source": [
        "سوف نستفيد من قيم الدورات بوضعها كـــ قيم الاكس في الرسم البياني لكي نرى إلى اي مدى تتطور التنبؤات أثناء تدرب المودل"
      ]
    },
    {
      "cell_type": "markdown",
      "metadata": {
        "id": "BjPUxFf5NitA"
      },
      "source": [
        "### (Plotting loss metrics) رسم مخططات بيانيه لكل من هوامش الخطأ\n",
        "بعدما استطعنا من تدريب الخوارزمية الان يجب ان نرى بشكل بياني هل النتائج مرضيه ام ان هنالك مشكله ما ؟ وهنالك أيضاً طرق اخرى بمعرفه مستوى تدريب الخوارزمية. لكن سوف نكتفي هنا بالرسم البياني البسيط بإستعمال مكتبه\n",
        "Matplotlib\n"
      ]
    },
    {
      "cell_type": "code",
      "execution_count": null,
      "metadata": {
        "id": "6aOXrlM94XeD"
      },
      "outputs": [],
      "source": [
        "# importing the matplotlib for visualization\n",
        "import matplotlib.pyplot as plt"
      ]
    },
    {
      "cell_type": "code",
      "execution_count": null,
      "metadata": {
        "id": "ZM7Emvkt4mnW"
      },
      "outputs": [],
      "source": [
        "def plot_model_history(history):\n",
        "    \"\"\"\n",
        "    Plotting the model Accuracy & Loss metrics and see how model was performing during the training.\n",
        "\n",
        "    --------------------------\n",
        "    Args:\n",
        "    history: the history object returned from keras by .fit() method\n",
        "    \"\"\"\n",
        "    # Prepare accurcies for train & val\n",
        "    accuracy_train = history.history[\"accuracy\"]\n",
        "    loss_train = history.history[\"loss\"]\n",
        "\n",
        "    # Prepare losses for train & val\n",
        "    accuracy_val = history.history[\"val_accuracy\"]\n",
        "    loss_val = history.history[\"val_loss\"]\n",
        "\n",
        "    # how many epochs trained on\n",
        "    epochs = history.epoch\n",
        "\n",
        "    # Accuracy\n",
        "    plt.plot(epochs, accuracy_train, label=\"Training Accuracy\")\n",
        "    plt.plot(epochs, accuracy_val, label=\"Validation Accuracy\")\n",
        "    plt.title(\"Accuracy\")\n",
        "    plt.legend()\n",
        "    plt.xlabel(\"Epochs\")\n",
        "    plt.show()\n",
        "\n",
        "    # Loss\n",
        "    plt.figure()\n",
        "    plt.plot(epochs, loss_train, label=\"Training Loss\")\n",
        "    plt.plot(epochs, loss_val, label=\"Validation Loss\")\n",
        "    plt.title(\"Loss\")\n",
        "    plt.legend()\n",
        "    plt.xlabel(\"Epochs\")\n",
        "    plt.show()"
      ]
    },
    {
      "cell_type": "markdown",
      "metadata": {
        "id": "pn962JLSPe-4"
      },
      "source": [
        "plt.plot():\n",
        "-  اول باراميتر: نقوم بوضع الأكس وهو عدد الدورات \n",
        "- نقوم بوضع في كلا الدالتين وهي قيم الدقه لكل من التدريب والتحقق Y ثاني باراميتر: وهو على محور\n",
        "- ثالث باراميتر: وهي توضع كمفاتيح للمخطوطه وكل واحده تظهر بلون مختلف\n",
        "\n",
        "plt.figure():\n",
        "- قمنا بوضعها في شطر \"هامش الخطأ\" فقط راجع لكيفيه عمل هذه المكتبه لفصل الرسمتين عن بعض \n",
        "    - #loss\n",
        "\n",
        "\n",
        "plt.legend():\n",
        "- لكي تظهر مفاتيح الرسمه البيانيه\n",
        "\n",
        "plt.xlabel():\n",
        "- لوضع اسم على محور X\n",
        "\n",
        "plt.show():\n",
        "- لإظهار الرسمات يجب في اخر كود الرسم ان تضعها مالم تكن محرر جيوبيتر او غوغل كولاب\n",
        "\n",
        "plt.title():\n",
        "- تضع عنوان للرسمة كامله\n"
      ]
    },
    {
      "cell_type": "code",
      "execution_count": null,
      "metadata": {
        "colab": {
          "base_uri": "https://localhost:8080/",
          "height": 573
        },
        "id": "bFiYBNgC9TdT",
        "outputId": "8b13260b-3dee-49ac-ffbf-825eb04d24b5"
      },
      "outputs": [
        {
          "data": {
            "image/png": "[encoded data removed]",
            "text/plain": [
              "<Figure size 432x288 with 1 Axes>"
            ]
          },
          "metadata": {
            "needs_background": "light"
          },
          "output_type": "display_data"
        },
        {
          "data": {
            "image/png": "[encoded data removed]",
            "text/plain": [
              "<Figure size 432x288 with 1 Axes>"
            ]
          },
          "metadata": {
            "needs_background": "light"
          },
          "output_type": "display_data"
        }
      ],
      "source": [
        "# plot the losses\n",
        "plot_model_history(history)"
      ]
    },
    {
      "cell_type": "markdown",
      "metadata": {
        "id": "00Ls1Zv5XY-N"
      },
      "source": [
        "ماذا نستطيع ان نفسر من هذه الرسمتان ؟\n",
        " أول رسمة للدقه نستطيع ان نفسر ان بيانات التحقق لم تبلي جيداً وان التمرين يعمل بشكل جيد فقط على البيانات التي تمرن عليها ولكن لو تأتيه بيانات من خارج ماتعلمه سوف يجد صعوبه في تفسيرها\n",
        "\n",
        " ثاني رسمة: نستطيع ان نرى ان هامش الخطأ مرتفع بشكل كبير في التحقق عن التدريب وهذا يحدث عن تحدث مشكله فرط التخصيص\t\n",
        "\n",
        "```Overfitting فرط التخصيص\tأو```\n",
        "\n",
        "وتحدث عندما تتدرب الخوارزمية على نفس العينه بشكل كبير أو هنالك نقص في البيانات وهنا تحدث المشكله بحيث يصبح ضعيف معلوماتياً ويصعب عليه تصنيف الأشياء بدقات مختلفه وتشوهات مثلاً في الصور لايستطيع ان يفسرها.\n"
      ]
    },
    {
      "cell_type": "markdown",
      "metadata": {
        "id": "uMHiKCZh_yCO"
      },
      "source": [
        "### (Predictions on new data) التنبؤ بإستخدام بيانات جديدة\n",
        "سوف نستعمل بيانات خارجية الان لكي نرى هل الخوارزمية التي دربناها كفوءة في تنبؤها أم لا ؟"
      ]
    },
    {
      "cell_type": "code",
      "execution_count": null,
      "metadata": {
        "id": "ny0dceQf9XnX"
      },
      "outputs": [],
      "source": [
        "def prepare_image_from_path(filepath, img_shape=224):\n",
        "    \"\"\"\n",
        "    Prepare image from Path and load it using TensorFlow I/O  and Return it into tensors,\n",
        "    With reshaping the image to (224, 224, 3) in the end.\n",
        "\n",
        "    ---------\n",
        "    Args:\n",
        "    filepath: the image path in your system\n",
        "    img_shape: the shape of images that your model trained on. Default(224)\n",
        "        E.g. if Changed to 300 ==> (300, 300, 3)\n",
        "    \n",
        "    Returns:\n",
        "    tf image normalized\n",
        "    \"\"\"\n",
        "    # Load the image \n",
        "    image = tf.io.read_file(filepath)\n",
        "\n",
        "    # Decode the image from object I/O to tensors\n",
        "    image = tf.image.decode_image(image, channels=3) # Channels=3 because the images has 3 channels just to make sure\n",
        "\n",
        "    # Reshape image into desired output\n",
        "    image = tf.image.resize(image, [img_shape, img_shape])\n",
        "\n",
        "    # Cast it into dtype of float32\n",
        "    image = tf.cast(image, dtype=tf.float32)\n",
        "\n",
        "    return image/255."
      ]
    },
    {
      "cell_type": "markdown",
      "metadata": {
        "id": "KkN0GaKyZAA6"
      },
      "source": [
        "tf.io.read_file():\n",
        "- نستطيع من خلال هذه الداله أن نقرأ المسار للصوره وتحميلها الى مُتغير نستطيع استخدامه في التعديل او استخراج معلومات الصوره منه\n",
        "\n",
        "tf.image.decode_image():\n",
        "- تحويل الكائن الى تينسور وهي مصفوفه في TensorFlow \n",
        "\n",
        "tf.image.resize():\n",
        "- نقوم بإعادة صياغة أبعاد الصوره لنفس الرقم الذي حولناه في أول مره قمنا بتحميل البيانات\n",
        "\n",
        "tf.cast():\n",
        "- تحويل المصفوفه الرقمية الى نوع tf.float32\n",
        "    - كما ذكرت سابقاً ان الشبكة العصبية تعمل جيد مع هذا النوع\n",
        "\n",
        "وفي اخر خطوة قمنا بجعل جميع القيم تتمحور مابين الرقمين 0 - 1"
      ]
    },
    {
      "cell_type": "markdown",
      "metadata": {
        "id": "iF4TVT73aYR_"
      },
      "source": [
        "#### (Download new image from the wild) تحميل صوره من مصادر خارجية"
      ]
    },
    {
      "cell_type": "code",
      "execution_count": null,
      "metadata": {
        "colab": {
          "base_uri": "https://localhost:8080/"
        },
        "id": "wv4XRHrbEyEE",
        "outputId": "fecbf15e-ec86-463c-91c8-fb154ae14d30"
      },
      "outputs": [
        {
          "name": "stdout",
          "output_type": "stream",
          "text": [
            "--2022-08-04 07:41:32--  https://i.imgur.com/PFwWPWO.png\n",
            "Resolving i.imgur.com (i.imgur.com)... 151.101.52.193\n",
            "Connecting to i.imgur.com (i.imgur.com)|151.101.52.193|:443... connected.\n",
            "HTTP request sent, awaiting response... 200 OK\n",
            "Length: 49897 (49K) [image/png]\n",
            "Saving to: ‘PFwWPWO.png’\n",
            "\n",
            "\rPFwWPWO.png           0%[                    ]       0  --.-KB/s               \rPFwWPWO.png         100%[===================>]  48.73K  --.-KB/s    in 0.006s  \n",
            "\n",
            "2022-08-04 07:41:32 (7.53 MB/s) - ‘PFwWPWO.png’ saved [49897/49897]\n",
            "\n"
          ]
        }
      ],
      "source": [
        "# Download scissor move for \"rock paper scissor\"\n",
        "!wget https://i.imgur.com/PFwWPWO.png"
      ]
    },
    {
      "cell_type": "markdown",
      "metadata": {
        "id": "HRzVqlguaRlk"
      },
      "source": [
        "نقوم بتحميل الصوره لشخص اختار حركة المقص بيده, بعد تحميلها سوف نستخدم الداله التي قمنا بكتابها لكي نجهز الصورة وبعدها هنا نقطة مهمة جداً\n",
        "\n",
        "tf.expand_dims():\n",
        "- استعملناها لكي نعوض عن خانه Batch \n",
        "    - لأجل وضعها بالمكان الصحيح نقوم بوضع axis=0 \n",
        "    - اي وضعها بالبدايه وهذا مايعنيه صفر\n",
        "\n",
        "وهذه القيمة المُرجعة التي نريدها\n",
        "\n",
        "```shape=(1, 224, 224, 3)```"
      ]
    },
    {
      "cell_type": "code",
      "execution_count": null,
      "metadata": {
        "colab": {
          "base_uri": "https://localhost:8080/"
        },
        "id": "zyIMeQasFO1s",
        "outputId": "4a89d4f5-b004-470a-c347-caff0d9f3519"
      },
      "outputs": [
        {
          "data": {
            "text/plain": [
              "<tf.Tensor: shape=(1, 224, 224, 3), dtype=float32, numpy=\n",
              "array([[[[1., 1., 1.],\n",
              "         [1., 1., 1.],\n",
              "         [1., 1., 1.],\n",
              "         ...,\n",
              "         [1., 1., 1.],\n",
              "         [1., 1., 1.],\n",
              "         [1., 1., 1.]],\n",
              "\n",
              "        [[1., 1., 1.],\n",
              "         [1., 1., 1.],\n",
              "         [1., 1., 1.],\n",
              "         ...,\n",
              "         [1., 1., 1.],\n",
              "         [1., 1., 1.],\n",
              "         [1., 1., 1.]],\n",
              "\n",
              "        [[1., 1., 1.],\n",
              "         [1., 1., 1.],\n",
              "         [1., 1., 1.],\n",
              "         ...,\n",
              "         [1., 1., 1.],\n",
              "         [1., 1., 1.],\n",
              "         [1., 1., 1.]],\n",
              "\n",
              "        ...,\n",
              "\n",
              "        [[1., 1., 1.],\n",
              "         [1., 1., 1.],\n",
              "         [1., 1., 1.],\n",
              "         ...,\n",
              "         [1., 1., 1.],\n",
              "         [1., 1., 1.],\n",
              "         [1., 1., 1.]],\n",
              "\n",
              "        [[1., 1., 1.],\n",
              "         [1., 1., 1.],\n",
              "         [1., 1., 1.],\n",
              "         ...,\n",
              "         [1., 1., 1.],\n",
              "         [1., 1., 1.],\n",
              "         [1., 1., 1.]],\n",
              "\n",
              "        [[1., 1., 1.],\n",
              "         [1., 1., 1.],\n",
              "         [1., 1., 1.],\n",
              "         ...,\n",
              "         [1., 1., 1.],\n",
              "         [1., 1., 1.],\n",
              "         [1., 1., 1.]]]], dtype=float32)>"
            ]
          },
          "execution_count": 24,
          "metadata": {},
          "output_type": "execute_result"
        }
      ],
      "source": [
        "img = prepare_image_from_path(\"/content/PFwWPWO.png\")\n",
        "img = tf.expand_dims(img, axis=0)\n",
        "img"
      ]
    },
    {
      "cell_type": "code",
      "execution_count": null,
      "metadata": {
        "colab": {
          "base_uri": "https://localhost:8080/"
        },
        "id": "2tCPc7MbFZLg",
        "outputId": "04a70b45-714d-40cd-ffe3-7cd22c3ad453"
      },
      "outputs": [
        {
          "data": {
            "text/plain": [
              "array([[0.7315165 , 0.05610512, 0.21237844]], dtype=float32)"
            ]
          },
          "execution_count": 25,
          "metadata": {},
          "output_type": "execute_result"
        }
      ],
      "source": [
        "# Make predictions with model\n",
        "preds = model.predict(img)\n",
        "preds"
      ]
    },
    {
      "cell_type": "markdown",
      "metadata": {
        "id": "-utrjVREbMap"
      },
      "source": [
        "الان نريد ان نجعل الخوارزمية التي دربناها للتو أن تتنبأ بالصورة الجديدة ماهي بعد ان نستعملها مع الصورة الجديدة نرى ان المخرجات منها هنالك 3 أرقام ماهي ؟\n",
        "\n",
        "هذه الارقام الثلاثه هي نتيجة كل 3 من الحجر والورقة والمقص ونسبه الاحتمال العاليه منهم هو مايراه الكلاس الصحيح"
      ]
    },
    {
      "cell_type": "code",
      "execution_count": null,
      "metadata": {
        "colab": {
          "base_uri": "https://localhost:8080/"
        },
        "id": "phAsq8C4GF1a",
        "outputId": "3540e114-931a-486a-cf11-8d116e4a4cbb"
      },
      "outputs": [
        {
          "data": {
            "text/plain": [
              "0"
            ]
          },
          "execution_count": 26,
          "metadata": {},
          "output_type": "execute_result"
        }
      ],
      "source": [
        "# Get the index of the highest predicted probability\n",
        "preds.argmax()"
      ]
    },
    {
      "cell_type": "markdown",
      "metadata": {
        "id": "G3sGXhy8boFB"
      },
      "source": [
        "argmax():\n",
        "- نستطيع من خلالها ان نستخرج الانديكس لأعلى قيمة وهي القيمة التي سوف نستخدمها لاحقاً بداخل قائمة الكلاس التي استخرجناها في بدايه هذا الفصل"
      ]
    },
    {
      "cell_type": "code",
      "execution_count": null,
      "metadata": {
        "colab": {
          "base_uri": "https://localhost:8080/",
          "height": 36
        },
        "id": "7OFuVlmLF3pg",
        "outputId": "07628967-b6f4-410c-9e58-c15ac4c0ea76"
      },
      "outputs": [
        {
          "data": {
            "application/vnd.google.colaboratory.intrinsic+json": {
              "type": "string"
            },
            "text/plain": [
              "'rock'"
            ]
          },
          "execution_count": 27,
          "metadata": {},
          "output_type": "execute_result"
        }
      ],
      "source": [
        "# Get the label name from the prediction probability\n",
        "class_names[preds.argmax()]"
      ]
    },
    {
      "cell_type": "markdown",
      "metadata": {
        "id": "DC7R0Rpbb3bl"
      },
      "source": [
        "لو وضعنا الكود الذي بالاعلى الخاص بالانديكس بداخل List\n",
        "\n",
        "التي قمنا بإنشائها سوف نحصل على اسم الكلاس\n",
        "\n",
        "الان سوف نجمعها في داله لكي نستخدمها كلما احتجناها"
      ]
    },
    {
      "cell_type": "code",
      "execution_count": null,
      "metadata": {
        "id": "vvUFHB1fGjE7"
      },
      "outputs": [],
      "source": [
        "# Functionize plotting & predictions\n",
        "def plot_pred_image(model, filepath, class_names):\n",
        "    \"\"\"\n",
        "    Plot the predicted image from the given filepath, Then using the trained model to get class probabilities,\n",
        "    Then Label image with it's own title class\n",
        "\n",
        "    ----------------\n",
        "    Args:\n",
        "    model: the trained model from TensorFlow.\n",
        "    filepath: the location where the image resides\n",
        "    class_names: List of class names that indicates what's the model trained on\n",
        "    \"\"\"\n",
        "    # Prepare the image into tensors\n",
        "    image = prepare_image_from_path(filepath)\n",
        "\n",
        "    # make predictions with model\n",
        "    preds = model.predict(tf.expand_dims(image, axis=0))\n",
        "\n",
        "    # Get the label for the predicted class\n",
        "    label = class_names[preds.argmax()]\n",
        "\n",
        "    # Plot the image with label\n",
        "    plt.imshow(image)\n",
        "    plt.title(label)\n",
        "    plt.axis(False);"
      ]
    },
    {
      "cell_type": "code",
      "execution_count": null,
      "metadata": {
        "colab": {
          "base_uri": "https://localhost:8080/",
          "height": 264
        },
        "id": "3EecWA9yKKjl",
        "outputId": "1b0c3bea-62d0-4e4f-9f05-432e2918886b"
      },
      "outputs": [
        {
          "data": {
            "image/png": "[encoded data removed]",
            "text/plain": [
              "<Figure size 432x288 with 1 Axes>"
            ]
          },
          "metadata": {
            "needs_background": "light"
          },
          "output_type": "display_data"
        }
      ],
      "source": [
        "plot_pred_image(model, \"/content/PFwWPWO.png\", class_names)"
      ]
    },
    {
      "cell_type": "markdown",
      "metadata": {
        "id": "Kx3wzFjMcLFU"
      },
      "source": [
        "النتيجة النهائية للخوارزمية وتنبؤها بالصوره, لم يستطع ان يتعرف ويفسرها بالشكل الصحيح\n",
        "\n",
        "ظهرت له انها حجر وهي مقص بالحقيقه, لا مشكله فهذه النتيجة تحدث من حيث لأخر...\n",
        "\n",
        "ملاحظة: هنالك طرق لتحسين النتائج سوف اكتبها بالأقسام القادمة إن شاء الله"
      ]
    },
    {
      "cell_type": "markdown",
      "metadata": {
        "id": "ed-zjPtsirTu"
      },
      "source": [
        "## (Load data from directory) إستخدام الصور بطريقه المجلدات\n",
        "في هذا القسم من الفصل سوف نستخدم الطريقه التي ذكرت بأول الفصل ألا وهي أن تكون الصور لديك في مجلدات في النظام\n",
        "\n",
        "ملاحظة: المجلدات التي تحوي الصور يجب ان تكون بصيغة معينه\n"
      ]
    },
    {
      "cell_type": "markdown",
      "metadata": {
        "id": "xKANdlB5jQzt"
      },
      "source": [
        "### (Folders Structure) هيكل المجلدات\n",
        "يجب إتباع هيكلية معينه للمجلدات لكي تعمل الدوال عندما نستعملها لاحقا\n",
        "\n",
        "الشجرة الهيكلية للمجلدات يجب ان تكون:\n",
        "```\n",
        "Fruits_root <== المجلد الذي يحوي مجلدان Train + test \n",
        "└───train <== يحتوي على أسماء الكلاسات للصور للتدريب\n",
        "│   └───acai <== مجلد أيضا هو بدوره يحوي الصور الخاصه به\n",
        "│   │   │   images (1).jpeg\n",
        "│   │   │   images (2).jpeg\n",
        "│   │   │   ...      \n",
        "│   └───cupuacu\n",
        "│   │   │   images (1).jpeg\n",
        "│   │   │   images (2).jpeg\n",
        "│   │   │   ...\n",
        "│   └───....\n",
        "│   \n",
        "└───test <== مجلد يحتوي على الكلاسات الخاصه للاختبار\n",
        "│   └───acai <== مجلد أيضا هو بدوره يحوي الصور الخاصه به\n",
        "│   │   │   images (1).jpeg\n",
        "│   │   │   images (2).jpeg\n",
        "│   │   │   ...      \n",
        "│   └───cupuacu\n",
        "│   │   │   images (1).jpeg\n",
        "│   │   │   images (2).jpeg\n",
        "│   │   │   ...\n",
        "│   └───....\n",
        "```\n",
        "\n",
        "ملاحظة: ليس بالضرورة أن يحتوي المجلد على test\n",
        "\n",
        "فمن الممكن أن يكون Validation\n",
        "\n",
        "أو لايوجد أي مجلد عدا Train"
      ]
    },
    {
      "cell_type": "markdown",
      "metadata": {
        "id": "7gPufeBqni_3"
      },
      "source": [
        "### (Prepare images) تجهيز البيانات للمعالجة\n",
        "الأن لدينا مجلد مضغوط ونريد فك الضغط لكي نرى المجلدات, بعدها نريد ان نقوم بتجهيز داله خاصه تقوم بتحميل جميع الصور من المجلدات الى كائن في الكود لكي نستطيع من بعدها معالجة الصور وغيرها من الخطوات السابقه التي ذكرناها كتحويل جميع قيم الصور من 0-255 إلى 0-1 الخ......\n",
        "\n",
        "\n",
        "سوف اشرح طريقتين في تحميل الصور بإستخدام\n",
        "- ImageDataGenerator\n",
        "- image_dataset_from_directory \n",
        "\n",
        "وسوف يتم توضيح الميزه بينهما"
      ]
    },
    {
      "cell_type": "code",
      "execution_count": null,
      "metadata": {
        "id": "Xb2Lfs9uWS7M"
      },
      "outputs": [],
      "source": [
        "!wget https://github.com/Jo0xFF/tensorflow-in-arabic/raw/main/data/archive.zip"
      ]
    },
    {
      "cell_type": "markdown",
      "metadata": {
        "id": "UJ9e61xZX2pz"
      },
      "source": [
        "تحميل البيانات من مخزن قيت هب الخاص بالمشروع وتحميلها في الجهاز الخاص بك"
      ]
    },
    {
      "cell_type": "code",
      "execution_count": null,
      "metadata": {
        "id": "x5VKvGpNrCrp"
      },
      "outputs": [],
      "source": [
        "!unzip -q \"/content/archive.zip\""
      ]
    },
    {
      "cell_type": "markdown",
      "metadata": {
        "id": "1wcX9Pa1YAXU"
      },
      "source": [
        "نقوم بفك الضغط عن الديتا سواء بالكود المستعمل او بطريقة يدوية لاتوجد مشكله بكلا الطريقتين"
      ]
    },
    {
      "cell_type": "code",
      "execution_count": null,
      "metadata": {
        "id": "JpQBmqWmKP2n"
      },
      "outputs": [],
      "source": [
        "from tensorflow.keras.preprocessing.image import ImageDataGenerator\n",
        "from tensorflow.keras.preprocessing import image_dataset_from_directory"
      ]
    },
    {
      "cell_type": "markdown",
      "metadata": {
        "id": "zrBFZpt6qX-S"
      },
      "source": [
        "TensorFlow من مكتبة ImageDataGenerator نقوم بإدراج\n",
        "\n",
        "TensorFlow من مكتبة image_dataset_from_directory وأيضاً سوف نقوم بإدراج الدالة الاخرى "
      ]
    },
    {
      "cell_type": "markdown",
      "metadata": {
        "id": "ukwlEQKpZbRZ"
      },
      "source": [
        "#### ImageDataGenerator تجهيز البيانات بإستعمال "
      ]
    },
    {
      "cell_type": "code",
      "execution_count": null,
      "metadata": {
        "colab": {
          "base_uri": "https://localhost:8080/"
        },
        "id": "Kj92ZdioqXiV",
        "outputId": "c4d78281-cd9f-4d04-baac-38f00882e9e6"
      },
      "outputs": [
        {
          "name": "stdout",
          "output_type": "stream",
          "text": [
            "Found 90 images belonging to 6 classes.\n",
            "Found 30 images belonging to 6 classes.\n"
          ]
        }
      ],
      "source": [
        "# Define train & test directories\n",
        "TRAIN_DIR = \"/content/ds_frutas_am/train\"\n",
        "TEST_DIR = \"/content/ds_frutas_am/test\"\n",
        "\n",
        "# setup generators for each train & test\n",
        "train_gen = ImageDataGenerator(rescale=1/255.)\n",
        "test_gen = ImageDataGenerator(rescale=1/255.)\n",
        "\n",
        "# Preprocess the image data & batch it\n",
        "train_data = train_gen.flow_from_directory(directory=TRAIN_DIR, # the directory where the images resides to load it\n",
        "                                           target_size=(224, 224), # Convert all images to this shape (224, 224)\n",
        "                                           class_mode=\"categorical\", # which kind of problem you're classifying\n",
        "                                           batch_size=32, # the number of batches \n",
        "                                           shuffle=True, # shuffle the data to prevent overfitting\n",
        "                                           seed=1337) # for reproducability purpose\n",
        "\n",
        "test_data = test_gen.flow_from_directory(TEST_DIR,\n",
        "                                         target_size=(224, 224),\n",
        "                                         class_mode=\"categorical\",\n",
        "                                         batch_size=32,\n",
        "                                         seed=1337)"
      ]
    },
    {
      "cell_type": "code",
      "execution_count": null,
      "metadata": {
        "colab": {
          "base_uri": "https://localhost:8080/"
        },
        "id": "o_KC9kPFxJeC",
        "outputId": "353e5472-3758-4b9c-84c4-94f9496e73c0"
      },
      "outputs": [
        {
          "data": {
            "text/plain": [
              "<keras.preprocessing.image.DirectoryIterator at 0x7fc59b14a4d0>"
            ]
          },
          "execution_count": 13,
          "metadata": {},
          "output_type": "execute_result"
        }
      ],
      "source": [
        "train_data"
      ]
    },
    {
      "cell_type": "markdown",
      "metadata": {
        "id": "hNpw5ajaSIgu"
      },
      "source": [
        "ImageDataGenerator():\n",
        "- rescale: هو باراميتر يتيح لنا من خلال هذا الكلاس ان نضع القيم خلال حد مابين 0-1\n",
        "\n",
        "وهذه العملية تسمى Normalization\n",
        "\n",
        "flow_from_directory(): عند إستخدام الكائن العائد من الكلاس نستطيع\n",
        "- directory: وضع مسار حيث تتواجد ملفات التدريب\n",
        "- target_size: تحديد أبعاد الصورة\n",
        "- class_mode: ماهي نوع المشكلة التي نريد حلها ؟ طبقاً للبيانات التي نملكها نملك 6 كلاسات نريد تصنيفها لذلك المشكلة\n",
        "(Categorical)\n",
        "- batch_size: عدد الحزم التي يراها المودل خلال دورة واحدة من الـ Epochs\n",
        "- shuffle: إعادة ترتيب الملفات بسبب التدريب ولكن لانضعها في الاختبار لكي لاتتسبب في مشكله اثناء التصنيف لاحقاً\n",
        "- seed: لأجل الحصول على نفس النتيجة لاحقاً إذا اراد شخص تجريبها هذه الأكواد\n",
        "\n",
        "في الخطوة القادمة سوف اشرح الطريقة الاخرى لتجهيز البيانات باستعمال دالة اخرى وليست مُولد بيانات\n",
        "\n",
        "`Generator`\n",
        "\n",
        "ويمكنك أختيار احدهما والخيار عائد إليك"
      ]
    },
    {
      "cell_type": "markdown",
      "metadata": {
        "id": "2tRcZywlZ6Aj"
      },
      "source": [
        "#### image_dataset_from_directory تجهيز البيانات بإستعمال "
      ]
    },
    {
      "cell_type": "code",
      "execution_count": null,
      "metadata": {
        "colab": {
          "base_uri": "https://localhost:8080/"
        },
        "id": "YWIJRfgdZ9xx",
        "outputId": "b8c746a9-9ea9-43bc-e7da-ca63e627edaa"
      },
      "outputs": [
        {
          "name": "stdout",
          "output_type": "stream",
          "text": [
            "Found 90 files belonging to 6 classes.\n",
            "Found 30 files belonging to 6 classes.\n"
          ]
        }
      ],
      "source": [
        "# Define train & test directories\n",
        "TRAIN_DIR = \"/content/ds_frutas_am/train\"\n",
        "TEST_DIR = \"/content/ds_frutas_am/test\"\n",
        "\n",
        "# setting up image shape & batch size\n",
        "IMAGE_SHAPE = (224, 224)\n",
        "BATCH_SIZE = 32\n",
        "\n",
        "# Prepare data from directories\n",
        "train_data = image_dataset_from_directory(directory=TRAIN_DIR, # the directory where the images resides to load it\n",
        "                                          label_mode=\"categorical\", # which kind of problem you're classifying\n",
        "                                          image_size=IMAGE_SHAPE, # Convert all images to this shape (224, 224)\n",
        "                                          batch_size=BATCH_SIZE, # the number of batches \n",
        "                                          shuffle=True, # shuffle the data to prevent overfitting\n",
        "                                          seed=1337) # for reproducability purpose\n",
        "\n",
        "test_data = image_dataset_from_directory(directory=TEST_DIR,\n",
        "                                         label_mode=\"categorical\",\n",
        "                                         image_size=IMAGE_SHAPE,\n",
        "                                         batch_size=BATCH_SIZE,\n",
        "                                         seed=1337)"
      ]
    },
    {
      "cell_type": "markdown",
      "metadata": {
        "id": "KKUU3o9KhNc0"
      },
      "source": [
        "لاتختلف كثيراً عن الطريقة السابقة في تعريف بعض المُتغيرات وتتشابة ماعدا أن هنالك إختلاف بسيط بالمُسميات لكنها تؤدي نفس الغرض مثل\n",
        "- directory: وضع مسار حيث تتواجد ملفات التدريب\n",
        "- batch_size\n",
        "- image_size\n",
        "- seed\n",
        "- label_mode ==>Class_mode المسمى اختلف كان بالمُولد يسمى\n",
        "\n",
        "هذه جميعها تتبع نفس الشرح الذي في الخطوة السابقة لذلك لانحتاج إلى إعادة شرحها.\n",
        "\n",
        "-------\n",
        "الأن نعود إلى موضوع مالفرق بينهم إذا عندما ذكرت ذلك في بداية القسم لتجهيز البيانات\n",
        "\n",
        "ImageDataGenerator: \n",
        "- السرعة: لو كان لدينا بيانات بحجم ضخم سوف تصبح العملية ابطأ أثناء عملية التدريب للخوارزمية وذلك راجع لسبب أنها تحصل عمليات إنشاء صور جديدة بألوان وأشكال وأحجام مختلفه حسب تعديلك لهذه المُتغيرات.\n",
        "- Augmentation: يمكنك بكل سهولة إنشاء صور جديدة من نفس الصورة التي تعمل عليها لكي تمنع حدوث (فرط التخصيص) أو مايسمى ‏‪ Overfitting‬ \n",
        "    - للاستزادة بأنواع مختلفه منها يمكنك رؤية الموقع الرئيسي: [ImageDataGenerator Docs](https://www.tensorflow.org/api_docs/python/tf/keras/preprocessing/image/ImageDataGenerator)\n",
        "\n",
        "image_dataset_from_directory:\n",
        "- القيم مرجعة عبارة عن ‏‪ tf.data.Dataset object‬وهذا النوع الجديد بحد ذاته يعطي ميز كثيرة منها\n",
        "    - السرعة في تجهيز البيانات وضخها بالخوارزمية prefetch يمكنك استعمال ‏‪والتي تتيح إستخدام tf.data.Dataset.from_tensor_slices()‬\n",
        "- Augmentation: لاتوجد هذه الميزة فلذلك تضطر لإستعمال أحد الدوال المخصصة من  ‬‏‪لذلك لديك خيارين [Keras](https://keras.io/guides/preprocessing_layers/)\n",
        "    - عمل ‏‪ Sequential model ‬وجمع فيه الدوال التي نريدها من اجل عمل توليد لصور جديدة من صورة واحدة, وهذا موجود في المستندات الخاصة في ‏‪ Keras ‬في الاعلى\n",
        "    - في نفس المعمارية الاساسية نضع فقط لو اردنا ‏‪ Rescaling ‬فقط أو أي دالة أخرى\n",
        "\n",
        "ملاحظة: الأن عرفنا بعض الفروقات لكن السؤال الأهم ماهي قيم الـ الكلاسات المُرجعة هل هي بصيغة ‏‪ integers‬أم انها بصيغة ‏‪وتم ذكر ذلك في قسم سابق OneHot\n",
        "\n",
        "الجواب: هو انها تعود بصيغة ‏‪ `OneHot [0,0,1,0]`‬لطريقة ‏‪ image_dataset_from_directory ‬فقط\n",
        "\n",
        "طريقة ‏‪ ImageDataGenerator‬تعود بصيغة اعداد طبيعية 0,1,2,3"
      ]
    },
    {
      "cell_type": "markdown",
      "metadata": {
        "id": "iMY28f0M6tBq"
      },
      "source": [
        "##### طريقة إنشاء طبقة من الـ ‏‪ Data Augmentation using Sequential"
      ]
    },
    {
      "cell_type": "code",
      "execution_count": null,
      "metadata": {
        "id": "CeWXmZ4-2R1_"
      },
      "outputs": [],
      "source": [
        "# How to make Augmentation layer\n",
        "augmentation_layer = tf.keras.Sequential([\n",
        "    tf.keras.layers.Rescaling(1/255.),\n",
        "    tf.keras.layers.RandomCrop(0.2, 0.2), \n",
        "    tf.keras.layers.RandomFlip(\"horizontal\"),\n",
        "    tf.keras.layers.RandomTranslation(0.2, 0.1),\n",
        "    tf.keras.layers.RandomRotation(0.2),\n",
        "    tf.keras.layers.RandomZoom(0.2),\n",
        "    tf.keras.layers.RandomHeight(0.1),\n",
        "    tf.keras.layers.RandomWidth(0.2),\n",
        "    tf.keras.layers.RandomContrast(0.1)\n",
        "], name=\"augmentation_layer\")"
      ]
    },
    {
      "cell_type": "markdown",
      "metadata": {
        "id": "TZZXpWx83c-o"
      },
      "source": [
        "[Keras](https://keras.io/guides/preprocessing_layers/) هذه كلها موجودة في المستندات "
      ]
    },
    {
      "cell_type": "code",
      "execution_count": null,
      "metadata": {
        "id": "PdqXWzWi6pYY"
      },
      "outputs": [],
      "source": [
        "# # Build the Sequential stack\n",
        "# model_gen = tf.keras.Sequential([\n",
        "#     augmentation_layer, # <========== ONLY THIS NEW!!\n",
        "#     tf.keras.layers.Conv2D(filters=32, kernel_size=3, activation=\"relu\"),\n",
        "#     tf.keras.layers.Conv2D(32, 3, activation=\"relu\"),\n",
        "#     tf.keras.layers.GlobalMaxPooling2D(),\n",
        "#     tf.keras.layers.Dense(6, activation=\"softmax\")\n",
        "# ])\n",
        "\n",
        "# model_gen.compile(loss=\"categorical_crossentropy\",\n",
        "#               optimizer=\"adam\",\n",
        "#               metrics=[\"accuracy\"])"
      ]
    },
    {
      "cell_type": "markdown",
      "metadata": {
        "id": "8xYPmXeKZ_mf"
      },
      "source": [
        "### (Prepare Classes) تجهيز الكلاسات"
      ]
    },
    {
      "cell_type": "code",
      "execution_count": null,
      "metadata": {
        "colab": {
          "base_uri": "https://localhost:8080/"
        },
        "id": "QGKPauv00K0o",
        "outputId": "9efa23a2-8537-4fcf-815a-6d244893c43f"
      },
      "outputs": [
        {
          "data": {
            "text/plain": [
              "['acai', 'cupuacu', 'graviola', 'guarana', 'pupunha', 'tucuma']"
            ]
          },
          "execution_count": 42,
          "metadata": {},
          "output_type": "execute_result"
        }
      ],
      "source": [
        "# Get the Class names from the folder names\n",
        "import pathlib\n",
        "fruits_dir = pathlib.Path(TRAIN_DIR)\n",
        "class_names = list(sorted(data.name for data in fruits_dir.glob(\"*\")))\n",
        "class_names"
      ]
    },
    {
      "cell_type": "markdown",
      "metadata": {
        "id": "FtjMcK-Y1I-j"
      },
      "source": [
        "باستعمال مكتبه pathlib\n",
        "\n",
        "نستطيع أن نسترجع أسماء الملفات في النظام وهي نفسها أسماء الكلاسات هنا لذلك وجدنا متغير الكلاسات وأيضاً رتبناها بسبب التنبؤ لاحقاً لكي تصبح النتائج مرتبه بشكل صحيح عند وضع تنبؤ الخوارزمية والكلاس المقابل لها هل أوجدها بشكل صحيح أم لا ؟"
      ]
    },
    {
      "cell_type": "markdown",
      "metadata": {
        "id": "8d17kmsX4gO_"
      },
      "source": [
        "#### تجهيز الكلاسات بإستعمال كائن ‏‪ ImageDataGenerator"
      ]
    },
    {
      "cell_type": "code",
      "execution_count": null,
      "metadata": {
        "colab": {
          "base_uri": "https://localhost:8080/"
        },
        "id": "vFZpkYhb38zt",
        "outputId": "97cab7c0-c73e-4bfb-983a-0e32fdbda436"
      },
      "outputs": [
        {
          "data": {
            "text/plain": [
              "{'acai': 0,\n",
              " 'cupuacu': 1,\n",
              " 'graviola': 2,\n",
              " 'guarana': 3,\n",
              " 'pupunha': 4,\n",
              " 'tucuma': 5}"
            ]
          },
          "execution_count": 21,
          "metadata": {},
          "output_type": "execute_result"
        }
      ],
      "source": [
        "train_data.class_indices"
      ]
    },
    {
      "cell_type": "markdown",
      "metadata": {
        "id": "IlQdJWlx5RqN"
      },
      "source": [
        "نستطيع إستخراج أسماء وأرقام الكلاسات لو احتجنا للأرقام في أي مرحلة ما"
      ]
    },
    {
      "cell_type": "markdown",
      "metadata": {
        "id": "qhCgZlZy57U6"
      },
      "source": [
        "#### تجهيز الكلاسات بإستعمال كائن ‏‪ tf.data.Dataset of Tensorflow"
      ]
    },
    {
      "cell_type": "code",
      "execution_count": null,
      "metadata": {
        "colab": {
          "base_uri": "https://localhost:8080/"
        },
        "id": "QT8t_ROj4VR-",
        "outputId": "68e6cf74-5abf-459f-d478-844c202c174c"
      },
      "outputs": [
        {
          "data": {
            "text/plain": [
              "['acai', 'cupuacu', 'graviola', 'guarana', 'pupunha', 'tucuma']"
            ]
          },
          "execution_count": 23,
          "metadata": {},
          "output_type": "execute_result"
        }
      ],
      "source": [
        "train_data.class_names"
      ]
    },
    {
      "cell_type": "markdown",
      "metadata": {
        "id": "5WkbXzC16K7A"
      },
      "source": [
        "نستطيع بهذه الطريقة أيضاً إستخراج أسماء الكلاسات التي حصلنا عليه عند تجهيز البيانات باستعمال الدوال التي في خطوة تجهيز الكلاسات"
      ]
    },
    {
      "cell_type": "markdown",
      "metadata": {
        "id": "ojUog5mmwew-"
      },
      "source": [
        "### (Building CNN model & Training) البدء في بناء الخوارزمية وتدريبها"
      ]
    },
    {
      "cell_type": "code",
      "execution_count": null,
      "metadata": {
        "id": "3coKQjXfr5pn"
      },
      "outputs": [],
      "source": [
        "# Build the Sequential stack\n",
        "model_gen = tf.keras.Sequential([\n",
        "    tf.keras.layers.Conv2D(filters=32, kernel_size=3, activation=\"relu\"),\n",
        "    tf.keras.layers.Conv2D(32, 3, activation=\"relu\"),\n",
        "    tf.keras.layers.GlobalMaxPooling2D(),\n",
        "    tf.keras.layers.Dense(6, activation=\"softmax\")\n",
        "])\n",
        "\n",
        "model_gen.compile(loss=\"categorical_crossentropy\",\n",
        "              optimizer=\"adam\",\n",
        "              metrics=[\"accuracy\"])\n"
      ]
    },
    {
      "cell_type": "markdown",
      "metadata": {
        "id": "FKrgLrbo1krH"
      },
      "source": [
        "فقط categorical_crossentropy التغير الوحيد هنا في الكود أن مقياس الـخطأ تغير الى \n",
        "\n",
        "التي كانت في البداية sparse من غير "
      ]
    },
    {
      "cell_type": "code",
      "execution_count": null,
      "metadata": {
        "colab": {
          "base_uri": "https://localhost:8080/"
        },
        "id": "jnFOy9ybty0W",
        "outputId": "92fe2192-5b2b-43ba-99fe-6b1784fe6edf"
      },
      "outputs": [
        {
          "name": "stdout",
          "output_type": "stream",
          "text": [
            "Epoch 1/10\n",
            "3/3 [==============================] - 2s 776ms/step - loss: 1.8226 - accuracy: 0.1222 - val_loss: 1.7934 - val_accuracy: 0.2000\n",
            "Epoch 2/10\n",
            "3/3 [==============================] - 0s 128ms/step - loss: 1.7958 - accuracy: 0.1222 - val_loss: 1.7839 - val_accuracy: 0.1667\n",
            "Epoch 3/10\n",
            "3/3 [==============================] - 0s 122ms/step - loss: 1.7801 - accuracy: 0.2444 - val_loss: 1.7741 - val_accuracy: 0.3667\n",
            "Epoch 4/10\n",
            "3/3 [==============================] - 0s 123ms/step - loss: 1.7656 - accuracy: 0.2778 - val_loss: 1.7652 - val_accuracy: 0.3333\n",
            "Epoch 5/10\n",
            "3/3 [==============================] - 0s 123ms/step - loss: 1.7558 - accuracy: 0.3333 - val_loss: 1.7556 - val_accuracy: 0.4000\n",
            "Epoch 6/10\n",
            "3/3 [==============================] - 0s 133ms/step - loss: 1.7428 - accuracy: 0.4111 - val_loss: 1.7468 - val_accuracy: 0.3667\n",
            "Epoch 7/10\n",
            "3/3 [==============================] - 0s 119ms/step - loss: 1.7313 - accuracy: 0.4333 - val_loss: 1.7365 - val_accuracy: 0.3333\n",
            "Epoch 8/10\n",
            "3/3 [==============================] - 0s 121ms/step - loss: 1.7165 - accuracy: 0.4222 - val_loss: 1.7233 - val_accuracy: 0.3667\n",
            "Epoch 9/10\n",
            "3/3 [==============================] - 0s 118ms/step - loss: 1.7052 - accuracy: 0.4111 - val_loss: 1.7106 - val_accuracy: 0.5000\n",
            "Epoch 10/10\n",
            "3/3 [==============================] - 0s 120ms/step - loss: 1.6847 - accuracy: 0.4667 - val_loss: 1.6952 - val_accuracy: 0.5000\n"
          ]
        }
      ],
      "source": [
        "# Train the model\n",
        "history_gen = model_gen.fit(train_data,\n",
        "                            epochs=10,\n",
        "                            validation_data=test_data)"
      ]
    },
    {
      "cell_type": "code",
      "execution_count": null,
      "metadata": {
        "colab": {
          "base_uri": "https://localhost:8080/"
        },
        "id": "5U2spa80uJYr",
        "outputId": "51e4da53-32ef-4bea-c532-41ff1d1d4482"
      },
      "outputs": [
        {
          "name": "stdout",
          "output_type": "stream",
          "text": [
            "1/1 [==============================] - 0s 102ms/step - loss: 1.6952 - accuracy: 0.5000\n"
          ]
        },
        {
          "data": {
            "text/plain": [
              "[1.695190191268921, 0.5]"
            ]
          },
          "execution_count": 35,
          "metadata": {},
          "output_type": "execute_result"
        }
      ],
      "source": [
        "# Evaluate it using test data\n",
        "model_gen.evaluate(test_data)"
      ]
    },
    {
      "cell_type": "markdown",
      "metadata": {
        "id": "DwMK_bWi15fD"
      },
      "source": [
        "هنا نرى ان نتيجة تدريب الخوارزمية ومقدرتها على التفريق بين 6 فواكة هو 50% تقريبا وهذا جيد الى حد ما"
      ]
    },
    {
      "cell_type": "markdown",
      "metadata": {
        "id": "5Rg_vKewxIKS"
      },
      "source": [
        "### (Plotting loss metrics) رسم مخططات بيانيه لكل من هوامش الخطأ"
      ]
    },
    {
      "cell_type": "code",
      "execution_count": null,
      "metadata": {
        "colab": {
          "base_uri": "https://localhost:8080/",
          "height": 573
        },
        "id": "Yhc1_F4KwPlV",
        "outputId": "64434b3c-3b40-44eb-be98-11973e10f854"
      },
      "outputs": [
        {
          "data": {
            "image/png": "[encoded data removed]",
            "text/plain": [
              "<Figure size 432x288 with 1 Axes>"
            ]
          },
          "metadata": {
            "needs_background": "light"
          },
          "output_type": "display_data"
        },
        {
          "data": {
            "image/png": "[encoded data removed]",
            "text/plain": [
              "<Figure size 432x288 with 1 Axes>"
            ]
          },
          "metadata": {
            "needs_background": "light"
          },
          "output_type": "display_data"
        }
      ],
      "source": [
        "# Plot the losses\n",
        "plot_model_history(history_gen)"
      ]
    },
    {
      "cell_type": "markdown",
      "metadata": {
        "id": "6hzJjEIk2EuX"
      },
      "source": [
        "هنا نجد ان مقياس الدقه في التحقق كان أفضل من التدريب لكن عند نقطة ما اصبح اسوء وهذا يدل ان الخوارزمية في نقطة ما اصبحت لا تستطيع التمييز بين احد الفواكة\n",
        "\n",
        "مقياس هامش الخطأ هنا مقارب جداً لهامش الخطأ الخاص بالتدريب ولكنه اصبح اعلى من الخط الازرق وهو التدريب لربما كما ذكرنا اصبح Overfitting"
      ]
    },
    {
      "cell_type": "markdown",
      "metadata": {
        "id": "uVBmZQY829R3"
      },
      "source": [
        "### (Predictions on new data) التنبؤ بإستخدام بيانات جديدة\n",
        "فلنرى الأن هل الخوارزمية تدربت بشكل ممتاز ونرى النتائج بشكل بصري أكثر"
      ]
    },
    {
      "cell_type": "code",
      "execution_count": null,
      "metadata": {
        "colab": {
          "base_uri": "https://localhost:8080/"
        },
        "id": "p3ZLvAdmxzW_",
        "outputId": "2bfc2605-d366-4f56-9b1c-86b50cb0a60f"
      },
      "outputs": [
        {
          "name": "stdout",
          "output_type": "stream",
          "text": [
            "--2022-08-04 08:01:01--  https://www.thespruceeats.com/thmb/t51g_Q0TMLbsLT51YhPIJgtwIP0=/2000x1333/filters:fill(auto,1)/GettyImages-162912489-584df2435f9b58a8cd096aaa.jpg\n",
            "Resolving www.thespruceeats.com (www.thespruceeats.com)... 151.101.2.137, 151.101.66.137, 151.101.130.137, ...\n",
            "Connecting to www.thespruceeats.com (www.thespruceeats.com)|151.101.2.137|:443... connected.\n",
            "HTTP request sent, awaiting response... 200 OK\n",
            "Length: 163721 (160K) [image/jpeg]\n",
            "Saving to: ‘GettyImages-162912489-584df2435f9b58a8cd096aaa.jpg’\n",
            "\n",
            "\r          GettyImag   0%[                    ]       0  --.-KB/s               \rGettyImages-1629124 100%[===================>] 159.88K  --.-KB/s    in 0.02s   \n",
            "\n",
            "2022-08-04 08:01:01 (8.07 MB/s) - ‘GettyImages-162912489-584df2435f9b58a8cd096aaa.jpg’ saved [163721/163721]\n",
            "\n"
          ]
        }
      ],
      "source": [
        "# Download image from external source\n",
        "!wget \"https://www.thespruceeats.com/thmb/t51g_Q0TMLbsLT51YhPIJgtwIP0=/2000x1333/filters:fill(auto,1)/GettyImages-162912489-584df2435f9b58a8cd096aaa.jpg\""
      ]
    },
    {
      "cell_type": "markdown",
      "metadata": {
        "id": "7t4YEJNu3Npp"
      },
      "source": [
        "نقوم بتحميل صورة عشوائية من غوغل عن احد الفواكهة وهي acai"
      ]
    },
    {
      "cell_type": "code",
      "execution_count": null,
      "metadata": {
        "colab": {
          "base_uri": "https://localhost:8080/",
          "height": 264
        },
        "id": "_N0V8Ccu3ILB",
        "outputId": "7e09e0af-e596-4e91-fe0b-7e64193d8cf0"
      },
      "outputs": [
        {
          "data": {
            "image/png": "[encoded data removed]",
            "text/plain": [
              "<Figure size 432x288 with 1 Axes>"
            ]
          },
          "metadata": {
            "needs_background": "light"
          },
          "output_type": "display_data"
        }
      ],
      "source": [
        "# Try the predict the image\n",
        "plot_pred_image(model_gen, \"/content/GettyImages-162912489-584df2435f9b58a8cd096aaa.jpg\", class_names)"
      ]
    },
    {
      "cell_type": "markdown",
      "metadata": {
        "id": "-bULRiqv3mUB"
      },
      "source": [
        "النتيجة جميله جداً لقد استطاعت الخوارزمية فعلاً من التعرف على الفاكهة وتصنيفها"
      ]
    },
    {
      "cell_type": "markdown",
      "metadata": {
        "id": "f3RLv3Dc31ar"
      },
      "source": [
        "في مواضيع قادمة عن هذا الفصل سوف أقوم بكتابه كيفية تحسين الدقه وكيف التعامل مع بيانات تكون أحادية النتيجة بمعنى لو اردنا تصنيف شيء من قيمة واحدة\n",
        "\n",
        "مثال: هل الصورة تفاحة أم برتقالة\n",
        "\n",
        "لأن الامثله التي شرحت في هذا الفصل تُمثل تصنيف مشكله متعددة النتائج Multi Class classification\n",
        "\n",
        "وبالتوفيق لكم جميعاً في رحلة التعلم وإنتظرونا في المواضيع والفصول القادمة بإذن الله"
      ]
    }
  ],
  "metadata": {
    "colab": {
      "collapsed_sections": [
        "qIrjicrfLOm7",
        "BNV7OemzLTLl",
        "O0qwjelQLqFN",
        "ASVx4QCLSkob",
        "BjPUxFf5NitA",
        "uMHiKCZh_yCO",
        "iF4TVT73aYR_",
        "xKANdlB5jQzt",
        "7gPufeBqni_3",
        "ojUog5mmwew-",
        "5Rg_vKewxIKS",
        "uVBmZQY829R3"
      ],
      "name": "الفصل الأول: الرؤية الحاسوبية.ipynb",
      "provenance": [],
      "toc_visible": true
    },
    "gpuClass": "standard",
    "kernelspec": {
      "display_name": "Python 3.8.0 64-bit",
      "language": "python",
      "name": "python3"
    },
    "language_info": {
      "name": "python",
      "version": "3.8.0"
    },
    "vscode": {
      "interpreter": {
        "hash": "80f377e767f8c9e09e05c0fdd98eed7c70a155c6cab531c8f2a55c78b87713ce"
      }
    }
  },
  "nbformat": 4,
  "nbformat_minor": 0
}
