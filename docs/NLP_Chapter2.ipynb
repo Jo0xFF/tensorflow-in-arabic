{
  "nbformat": 4,
  "nbformat_minor": 0,
  "metadata": {
    "colab": {
      "name": "NLP_Chapter2.ipynb",
      "provenance": [],
      "toc_visible": true
    },
    "kernelspec": {
      "name": "python3",
      "display_name": "Python 3"
    },
    "language_info": {
      "name": "python"
    }
  },
  "cells": [
    {
      "cell_type": "markdown",
      "source": [
        "# الفصل الثاني: معالجة اللغات الطبيعية  ‏‪ (Natural Language Processing)\n",
        "في هذا الفصل سوف يتم شرح طرق عدة لبناء الخوارزميات لمعالجة اللغات الطبيعية وكيفية تحضير البيانات الخاصه لهذا النوع وشرح مفاهيم جديدة خاصه بهذا المجال وتعتبر ركائز هذا المجال ومفاهيم هامة.\n",
        "\n",
        "\n",
        "\n",
        "هذا المجال يهتم بمعالجة اللغات الطبيعية التي يتحدثها البشر ويفسرها ويقوم بمعالجتها الى اشكال مختلفه مثلاً:\n",
        "- Sentiment analysis\n",
        "- Text summarization\n",
        "- Speech recognition\n",
        "- Question answering\n",
        "- Machine translation\n",
        "\n",
        "وغيرها الكثير... \n",
        "\n",
        "![](https://i.imgur.com/EySeYsR.jpg)\n",
        "\n",
        "ملاحظة: جميع الصور الكاريكاتيريه هي من صنع خوارزمية تعلم عميق\n",
        "\n",
        " المصدر:  ‏‪ [Craiyon](https://www.craiyon.com/)\n",
        "\n",
        "\n",
        "مصادر للقراءة بشكل اكثر عن المجال:\n",
        "- [A Simple Introduction to Natural Language Processing\n",
        "](https://becominghuman.ai/a-simple-introduction-to-natural-language-processing-ea66a1747b32)\n"
      ],
      "metadata": {
        "id": "4TT7uXdpZpGA"
      }
    },
    {
      "cell_type": "markdown",
      "source": [
        "## import libraries & modules for NLP إدراج بعض المكتبات والموديلرز من أجل معالجة اللغات الطبيعية"
      ],
      "metadata": {
        "id": "sxO3I2uYBDX7"
      }
    },
    {
      "cell_type": "code",
      "execution_count": null,
      "metadata": {
        "id": "oAipJOEmWnpo"
      },
      "outputs": [],
      "source": [
        "import pandas as pd\n",
        "import tensorflow as tf\n",
        "from tensorflow.keras import layers\n",
        "import matplotlib.pyplot as plt\n",
        "import os\n",
        "import random\n",
        "from wordcloud import WordCloud, STOPWORDS"
      ]
    },
    {
      "cell_type": "markdown",
      "source": [
        "إدراج المكتبات التي نحتاجها في الوقت الحالي مالمن يظهر شيء نريده بلحظتها لذلك سوف نقوم بشكل مبدئي وضع هذه المكتبات بشكل أولي ونرى ماذا يحدث بعدها من إدراجات لمكتبات اخرى\n",
        "\n",
        "المكتبات الان:\n",
        "- Pandas: مكتبة تستفيد منها لمعالجة البيانات سواء نصية أو رقمية أو غيرها من الانواع الاخرى.\n",
        "- tensorflow: مكتبة تساعدك على بناء خوارزميات تعلم عميق من غير الحاجة لبنائها من الصفر وفهمك لعلوم الرياضيات لايحتاج ان يكون ذو مستوى عالي فقط رياضيات من المرحلة المتوسطة كافي.\n",
        "    - tensorflow.keras import layers = لإدراج طبقات المعماريات بسهولة\n",
        "- matplotlib: تستخدم لرسم المقاييس بشكل بياني واشكال اخرى لتستطيع رؤية النتائج بشكل جميل\n",
        "- os: موديلر خاص بالبايثون يستخدم للتعامل مع النظام التشغيلي بشكل مباشر\n",
        "- random: موديلر نريد استخدامة لعرض النصوص بشكل عشوائي واشياء اخرى\n",
        "- wordcloud: مكتبة خارجية لرسم سحابة الكلمات, تفيد برؤية اكثر الكلمات استخداما في البيانات التي لديك"
      ],
      "metadata": {
        "id": "iYKKTn1ZytQU"
      }
    },
    {
      "cell_type": "markdown",
      "source": [
        "## Prepare for Kaggle API | تجهيز البيئة من أجل تحميل البيانات من موقع كاقل"
      ],
      "metadata": {
        "id": "F7FHYm8LBbys"
      }
    },
    {
      "cell_type": "code",
      "source": [
        "# Setting kaggle environment variable directory\n",
        "!pip -q install kaggle\n",
        "os.environ[\"KAGGLE_CONFIG_DIR\"] = \"/content\""
      ],
      "metadata": {
        "id": "y3lVKYioYC3b"
      },
      "execution_count": null,
      "outputs": []
    },
    {
      "cell_type": "markdown",
      "source": [
        "نقوم بتنزيل مكتبة كاقل ‏‪من اجل تحميل البيانات المطلوبة التي نريد تصنيفها من موقعهم الخاص (Kaggle)\n",
        "\n",
        "الخطوة الثانية: من اجل إتمام العملية بشكل تام نريد تحديد متغيرات النظام لتتمكن من معرفة أين توجد بيانات الـ اي بي اي الخاص بنا مما يتيح لنا تحميل اي بيانات نريد من موقعهم.\n",
        "\n",
        "ملاحظة: في المسار ‏‪هو الموقع الذي حددته يمكنك تغييره بأي مسار تريد \"/content/\"\n",
        "\n",
        "لكن إذا تم تغيير المسار يجب وضع ملف الـ ‏‪في المكان الذي حددته Json\n",
        "\n",
        "مثال: لو وضعت المسار إلى ‏‪ app/kaggle/\n",
        "\n",
        "فيجب عليك وضع ملف الـ ‏‪ Json‬في المسار الذي بالاعلى "
      ],
      "metadata": {
        "id": "8jVxEkba026m"
      }
    },
    {
      "cell_type": "markdown",
      "source": [
        "### Download dataset from Kaggle | تحميل البيانات باستعمال كاقل"
      ],
      "metadata": {
        "id": "9iLF62MlBrBV"
      }
    },
    {
      "cell_type": "code",
      "source": [
        "# Download the data using Kaggle API\n",
        "!kaggle datasets download -d d4rklucif3r/restaurant-reviews"
      ],
      "metadata": {
        "colab": {
          "base_uri": "https://localhost:8080/"
        },
        "id": "huDm8NSkcVsb",
        "outputId": "50cc2bd5-fa85-4f64-85e9-286033928888"
      },
      "execution_count": null,
      "outputs": [
        {
          "output_type": "stream",
          "name": "stdout",
          "text": [
            "Warning: Your Kaggle API key is readable by other users on this system! To fix this, you can run 'chmod 600 /content/kaggle.json'\n",
            "Downloading restaurant-reviews.zip to /content\n",
            "  0% 0.00/24.1k [00:00<?, ?B/s]\n",
            "100% 24.1k/24.1k [00:00<00:00, 37.0MB/s]\n"
          ]
        }
      ]
    },
    {
      "cell_type": "markdown",
      "source": [
        "هذا الكود بالكامل تم نسخة من خلال الموقع بالخطوات التاليه:\n",
        "\n",
        "- اذهب إلى اي صفحة مجموعة بيانات تريد تنزيلها من الموقع كاقل ‏‪ (Kaggle)\n",
        "- من خلال الشريط في الاعلى حيث يتواجد اسم المستخدم للشخص الذي رفع البيانات في اقصى اليمين من الشريط هنالك ثلاث نقاط عاموديه انقر عليها\n",
        "- سوف تنسدل قائمة قم بالضغط على ‏‪Copy API command\n",
        "- قبل لصق الامر يجب ان نضع علامة التعجب(!) في البداية لجعل جيوبتر ينتبه انه امر خاص بالنظام لينفذه\n",
        "- الان يمكنك لصق الامر الذي قمت بنسخة\n",
        "    - كمثل تفعيل أوامر ‏‪ Bash\n"
      ],
      "metadata": {
        "id": "XNDoJh_u16d1"
      }
    },
    {
      "cell_type": "code",
      "source": [
        "# Unzip the packaged data from kaggle\n",
        "!unzip \"restaurant-reviews.zip\""
      ],
      "metadata": {
        "colab": {
          "base_uri": "https://localhost:8080/"
        },
        "id": "eiWiw5O1dAn5",
        "outputId": "e7c1647d-a218-46a9-9d67-c139a7918f99"
      },
      "execution_count": null,
      "outputs": [
        {
          "output_type": "stream",
          "name": "stdout",
          "text": [
            "Archive:  restaurant-reviews.zip\n",
            "  inflating: Restaurant_Reviews.tsv  \n"
          ]
        }
      ]
    },
    {
      "cell_type": "markdown",
      "source": [
        "بعد تحميل البيانات من خلال الكود في الاعلى, الان يجب علينا فك الضغط عن هذه البيانات."
      ],
      "metadata": {
        "id": "OIOm8H8W3IXa"
      }
    },
    {
      "cell_type": "markdown",
      "source": [
        "## Reading the data using pandas | قراءة البيانات باستعمال مكتبة بانداس\n",
        "هذه البيانات تم استعمالها من: ‏‪ [Restaurant Reviews](https://www.kaggle.com/datasets/d4rklucif3r/restaurant-reviews)"
      ],
      "metadata": {
        "id": "htGdXAZ5dyzr"
      }
    },
    {
      "cell_type": "code",
      "source": [
        "# reading table data\n",
        "df = pd.read_table(\"/content/Restaurant_Reviews.tsv\")\n",
        "df.head()"
      ],
      "metadata": {
        "colab": {
          "base_uri": "https://localhost:8080/",
          "height": 206
        },
        "id": "0ZJC0he5dtfs",
        "outputId": "8625f173-214f-479f-b397-760b15980667"
      },
      "execution_count": null,
      "outputs": [
        {
          "output_type": "execute_result",
          "data": {
            "text/plain": [
              "                                              Review  Liked\n",
              "0                           Wow... Loved this place.      1\n",
              "1                                 Crust is not good.      0\n",
              "2          Not tasty and the texture was just nasty.      0\n",
              "3  Stopped by during the late May bank holiday of...      1\n",
              "4  The selection on the menu was great and so wer...      1"
            ],
            "text/html": [
              "\n",
              "  <div id=\"df-f313a8a5-cf1f-4517-b4cb-7d4a38eccb54\">\n",
              "    <div class=\"colab-df-container\">\n",
              "      <div>\n",
              "<style scoped>\n",
              "    .dataframe tbody tr th:only-of-type {\n",
              "        vertical-align: middle;\n",
              "    }\n",
              "\n",
              "    .dataframe tbody tr th {\n",
              "        vertical-align: top;\n",
              "    }\n",
              "\n",
              "    .dataframe thead th {\n",
              "        text-align: right;\n",
              "    }\n",
              "</style>\n",
              "<table border=\"1\" class=\"dataframe\">\n",
              "  <thead>\n",
              "    <tr style=\"text-align: right;\">\n",
              "      <th></th>\n",
              "      <th>Review</th>\n",
              "      <th>Liked</th>\n",
              "    </tr>\n",
              "  </thead>\n",
              "  <tbody>\n",
              "    <tr>\n",
              "      <th>0</th>\n",
              "      <td>Wow... Loved this place.</td>\n",
              "      <td>1</td>\n",
              "    </tr>\n",
              "    <tr>\n",
              "      <th>1</th>\n",
              "      <td>Crust is not good.</td>\n",
              "      <td>0</td>\n",
              "    </tr>\n",
              "    <tr>\n",
              "      <th>2</th>\n",
              "      <td>Not tasty and the texture was just nasty.</td>\n",
              "      <td>0</td>\n",
              "    </tr>\n",
              "    <tr>\n",
              "      <th>3</th>\n",
              "      <td>Stopped by during the late May bank holiday of...</td>\n",
              "      <td>1</td>\n",
              "    </tr>\n",
              "    <tr>\n",
              "      <th>4</th>\n",
              "      <td>The selection on the menu was great and so wer...</td>\n",
              "      <td>1</td>\n",
              "    </tr>\n",
              "  </tbody>\n",
              "</table>\n",
              "</div>\n",
              "      <button class=\"colab-df-convert\" onclick=\"convertToInteractive('df-f313a8a5-cf1f-4517-b4cb-7d4a38eccb54')\"\n",
              "              title=\"Convert this dataframe to an interactive table.\"\n",
              "              style=\"display:none;\">\n",
              "        \n",
              "  <svg xmlns=\"http://www.w3.org/2000/svg\" height=\"24px\"viewBox=\"0 0 24 24\"\n",
              "       width=\"24px\">\n",
              "    <path d=\"M0 0h24v24H0V0z\" fill=\"none\"/>\n",
              "    <path d=\"M18.56 5.44l.94 2.06.94-2.06 2.06-.94-2.06-.94-.94-2.06-.94 2.06-2.06.94zm-11 1L8.5 8.5l.94-2.06 2.06-.94-2.06-.94L8.5 2.5l-.94 2.06-2.06.94zm10 10l.94 2.06.94-2.06 2.06-.94-2.06-.94-.94-2.06-.94 2.06-2.06.94z\"/><path d=\"M17.41 7.96l-1.37-1.37c-.4-.4-.92-.59-1.43-.59-.52 0-1.04.2-1.43.59L10.3 9.45l-7.72 7.72c-.78.78-.78 2.05 0 2.83L4 21.41c.39.39.9.59 1.41.59.51 0 1.02-.2 1.41-.59l7.78-7.78 2.81-2.81c.8-.78.8-2.07 0-2.86zM5.41 20L4 18.59l7.72-7.72 1.47 1.35L5.41 20z\"/>\n",
              "  </svg>\n",
              "      </button>\n",
              "      \n",
              "  <style>\n",
              "    .colab-df-container {\n",
              "      display:flex;\n",
              "      flex-wrap:wrap;\n",
              "      gap: 12px;\n",
              "    }\n",
              "\n",
              "    .colab-df-convert {\n",
              "      background-color: #E8F0FE;\n",
              "      border: none;\n",
              "      border-radius: 50%;\n",
              "      cursor: pointer;\n",
              "      display: none;\n",
              "      fill: #1967D2;\n",
              "      height: 32px;\n",
              "      padding: 0 0 0 0;\n",
              "      width: 32px;\n",
              "    }\n",
              "\n",
              "    .colab-df-convert:hover {\n",
              "      background-color: #E2EBFA;\n",
              "      box-shadow: 0px 1px 2px rgba(60, 64, 67, 0.3), 0px 1px 3px 1px rgba(60, 64, 67, 0.15);\n",
              "      fill: #174EA6;\n",
              "    }\n",
              "\n",
              "    [theme=dark] .colab-df-convert {\n",
              "      background-color: #3B4455;\n",
              "      fill: #D2E3FC;\n",
              "    }\n",
              "\n",
              "    [theme=dark] .colab-df-convert:hover {\n",
              "      background-color: #434B5C;\n",
              "      box-shadow: 0px 1px 3px 1px rgba(0, 0, 0, 0.15);\n",
              "      filter: drop-shadow(0px 1px 2px rgba(0, 0, 0, 0.3));\n",
              "      fill: #FFFFFF;\n",
              "    }\n",
              "  </style>\n",
              "\n",
              "      <script>\n",
              "        const buttonEl =\n",
              "          document.querySelector('#df-f313a8a5-cf1f-4517-b4cb-7d4a38eccb54 button.colab-df-convert');\n",
              "        buttonEl.style.display =\n",
              "          google.colab.kernel.accessAllowed ? 'block' : 'none';\n",
              "\n",
              "        async function convertToInteractive(key) {\n",
              "          const element = document.querySelector('#df-f313a8a5-cf1f-4517-b4cb-7d4a38eccb54');\n",
              "          const dataTable =\n",
              "            await google.colab.kernel.invokeFunction('convertToInteractive',\n",
              "                                                     [key], {});\n",
              "          if (!dataTable) return;\n",
              "\n",
              "          const docLinkHtml = 'Like what you see? Visit the ' +\n",
              "            '<a target=\"_blank\" href=https://colab.research.google.com/notebooks/data_table.ipynb>data table notebook</a>'\n",
              "            + ' to learn more about interactive tables.';\n",
              "          element.innerHTML = '';\n",
              "          dataTable['output_type'] = 'display_data';\n",
              "          await google.colab.output.renderOutput(dataTable, element);\n",
              "          const docLink = document.createElement('div');\n",
              "          docLink.innerHTML = docLinkHtml;\n",
              "          element.appendChild(docLink);\n",
              "        }\n",
              "      </script>\n",
              "    </div>\n",
              "  </div>\n",
              "  "
            ]
          },
          "metadata": {},
          "execution_count": 5
        }
      ]
    },
    {
      "cell_type": "markdown",
      "source": [
        "من خلال فحص الكلمات والجُمل بالنظر إلى إطار العمل ‏‪ (DataFrame)‬‬الذي امامنا يمكننا تفسير الأرقام كالآتي:\n",
        "- 1 = أعجبهم الطعام\n",
        "- 0 = لم يعجبهم الطعام\n",
        "\n",
        "البيانات هنا كانت ايضاً بصيغة جداول ‏‪ tsv\n",
        "\n",
        "لقد استعملنا هنا ‏‪ pd.read_table()‬بدل من ‏‪ pd.read_csv()‬\n",
        "\n",
        "بالعادة تكون اغلب الملفات بصيغة ‏‪ csv\n",
        "- CSV = Comma seprated value\n",
        "\n",
        "مصادر للقراءة:\n",
        "- [pandas read csv files](https://www.shanelynn.ie/python-pandas-read-csv-load-data-from-csv-files/)"
      ],
      "metadata": {
        "id": "PHKjABDKeNZ2"
      }
    },
    {
      "cell_type": "markdown",
      "source": [
        "## EDA | تحليل البيانات واستكشافها\n",
        "![](https://i.imgur.com/kqzHIlc.jpg)\n",
        "\n",
        "الأن بعد تحميل البيانات وقرائتها, يجب علينا ان نقوم باستكشاف البيانات قبل عمل بعض عمليات المعالجة على البيانات وتجريب الخوارزميات عليها\n",
        "\n",
        "ماسوف نقوم باستكشافه هو:\n",
        "- هل يوجد هنالك بيانات بقيم ‏‪Null\n",
        "- كم عدد البيانات التي نملكها ؟\n",
        "- هل البيانات غير متوازنه من ناحية الكلاسات؟"
      ],
      "metadata": {
        "id": "Iv6pq63Pea3D"
      }
    },
    {
      "cell_type": "code",
      "source": [
        "# Check for NaN values\n",
        "df.isna().sum()"
      ],
      "metadata": {
        "colab": {
          "base_uri": "https://localhost:8080/"
        },
        "id": "V816D-Vmd6Cj",
        "outputId": "0f94d73d-cef5-4748-d8ee-068beb979e3d"
      },
      "execution_count": null,
      "outputs": [
        {
          "output_type": "execute_result",
          "data": {
            "text/plain": [
              "Review    0\n",
              "Liked     0\n",
              "dtype: int64"
            ]
          },
          "metadata": {},
          "execution_count": 6
        }
      ]
    },
    {
      "cell_type": "markdown",
      "source": [
        "نقوم بعمل للجداول لدينا هل هنالك قيمة فارغة ‏‪ Nan‬‬‬؟\n",
        "\n",
        "وهدف الدالة  ‏‪ .sum()‬لكي يتم جمع القيم كلها وجمعها في نتيجة وحيدة كيف تظهر لنا المخرجات ومن ضمنها تقييم الزبائن للطعام ووصف آرائهم التي تمثل النصوص لدينا"
      ],
      "metadata": {
        "id": "3wVK2ZtEgDTh"
      }
    },
    {
      "cell_type": "code",
      "source": [
        "# Check for NaNs\n",
        "df.isna()"
      ],
      "metadata": {
        "colab": {
          "base_uri": "https://localhost:8080/",
          "height": 424
        },
        "id": "I49NiAxffQ01",
        "outputId": "60bcf1a2-7c46-4212-a84b-837f75dae1f4"
      },
      "execution_count": null,
      "outputs": [
        {
          "output_type": "execute_result",
          "data": {
            "text/plain": [
              "     Review  Liked\n",
              "0     False  False\n",
              "1     False  False\n",
              "2     False  False\n",
              "3     False  False\n",
              "4     False  False\n",
              "..      ...    ...\n",
              "995   False  False\n",
              "996   False  False\n",
              "997   False  False\n",
              "998   False  False\n",
              "999   False  False\n",
              "\n",
              "[1000 rows x 2 columns]"
            ],
            "text/html": [
              "\n",
              "  <div id=\"df-555fcadf-cfa4-4871-a3bf-b1bb8d04af1e\">\n",
              "    <div class=\"colab-df-container\">\n",
              "      <div>\n",
              "<style scoped>\n",
              "    .dataframe tbody tr th:only-of-type {\n",
              "        vertical-align: middle;\n",
              "    }\n",
              "\n",
              "    .dataframe tbody tr th {\n",
              "        vertical-align: top;\n",
              "    }\n",
              "\n",
              "    .dataframe thead th {\n",
              "        text-align: right;\n",
              "    }\n",
              "</style>\n",
              "<table border=\"1\" class=\"dataframe\">\n",
              "  <thead>\n",
              "    <tr style=\"text-align: right;\">\n",
              "      <th></th>\n",
              "      <th>Review</th>\n",
              "      <th>Liked</th>\n",
              "    </tr>\n",
              "  </thead>\n",
              "  <tbody>\n",
              "    <tr>\n",
              "      <th>0</th>\n",
              "      <td>False</td>\n",
              "      <td>False</td>\n",
              "    </tr>\n",
              "    <tr>\n",
              "      <th>1</th>\n",
              "      <td>False</td>\n",
              "      <td>False</td>\n",
              "    </tr>\n",
              "    <tr>\n",
              "      <th>2</th>\n",
              "      <td>False</td>\n",
              "      <td>False</td>\n",
              "    </tr>\n",
              "    <tr>\n",
              "      <th>3</th>\n",
              "      <td>False</td>\n",
              "      <td>False</td>\n",
              "    </tr>\n",
              "    <tr>\n",
              "      <th>4</th>\n",
              "      <td>False</td>\n",
              "      <td>False</td>\n",
              "    </tr>\n",
              "    <tr>\n",
              "      <th>...</th>\n",
              "      <td>...</td>\n",
              "      <td>...</td>\n",
              "    </tr>\n",
              "    <tr>\n",
              "      <th>995</th>\n",
              "      <td>False</td>\n",
              "      <td>False</td>\n",
              "    </tr>\n",
              "    <tr>\n",
              "      <th>996</th>\n",
              "      <td>False</td>\n",
              "      <td>False</td>\n",
              "    </tr>\n",
              "    <tr>\n",
              "      <th>997</th>\n",
              "      <td>False</td>\n",
              "      <td>False</td>\n",
              "    </tr>\n",
              "    <tr>\n",
              "      <th>998</th>\n",
              "      <td>False</td>\n",
              "      <td>False</td>\n",
              "    </tr>\n",
              "    <tr>\n",
              "      <th>999</th>\n",
              "      <td>False</td>\n",
              "      <td>False</td>\n",
              "    </tr>\n",
              "  </tbody>\n",
              "</table>\n",
              "<p>1000 rows × 2 columns</p>\n",
              "</div>\n",
              "      <button class=\"colab-df-convert\" onclick=\"convertToInteractive('df-555fcadf-cfa4-4871-a3bf-b1bb8d04af1e')\"\n",
              "              title=\"Convert this dataframe to an interactive table.\"\n",
              "              style=\"display:none;\">\n",
              "        \n",
              "  <svg xmlns=\"http://www.w3.org/2000/svg\" height=\"24px\"viewBox=\"0 0 24 24\"\n",
              "       width=\"24px\">\n",
              "    <path d=\"M0 0h24v24H0V0z\" fill=\"none\"/>\n",
              "    <path d=\"M18.56 5.44l.94 2.06.94-2.06 2.06-.94-2.06-.94-.94-2.06-.94 2.06-2.06.94zm-11 1L8.5 8.5l.94-2.06 2.06-.94-2.06-.94L8.5 2.5l-.94 2.06-2.06.94zm10 10l.94 2.06.94-2.06 2.06-.94-2.06-.94-.94-2.06-.94 2.06-2.06.94z\"/><path d=\"M17.41 7.96l-1.37-1.37c-.4-.4-.92-.59-1.43-.59-.52 0-1.04.2-1.43.59L10.3 9.45l-7.72 7.72c-.78.78-.78 2.05 0 2.83L4 21.41c.39.39.9.59 1.41.59.51 0 1.02-.2 1.41-.59l7.78-7.78 2.81-2.81c.8-.78.8-2.07 0-2.86zM5.41 20L4 18.59l7.72-7.72 1.47 1.35L5.41 20z\"/>\n",
              "  </svg>\n",
              "      </button>\n",
              "      \n",
              "  <style>\n",
              "    .colab-df-container {\n",
              "      display:flex;\n",
              "      flex-wrap:wrap;\n",
              "      gap: 12px;\n",
              "    }\n",
              "\n",
              "    .colab-df-convert {\n",
              "      background-color: #E8F0FE;\n",
              "      border: none;\n",
              "      border-radius: 50%;\n",
              "      cursor: pointer;\n",
              "      display: none;\n",
              "      fill: #1967D2;\n",
              "      height: 32px;\n",
              "      padding: 0 0 0 0;\n",
              "      width: 32px;\n",
              "    }\n",
              "\n",
              "    .colab-df-convert:hover {\n",
              "      background-color: #E2EBFA;\n",
              "      box-shadow: 0px 1px 2px rgba(60, 64, 67, 0.3), 0px 1px 3px 1px rgba(60, 64, 67, 0.15);\n",
              "      fill: #174EA6;\n",
              "    }\n",
              "\n",
              "    [theme=dark] .colab-df-convert {\n",
              "      background-color: #3B4455;\n",
              "      fill: #D2E3FC;\n",
              "    }\n",
              "\n",
              "    [theme=dark] .colab-df-convert:hover {\n",
              "      background-color: #434B5C;\n",
              "      box-shadow: 0px 1px 3px 1px rgba(0, 0, 0, 0.15);\n",
              "      filter: drop-shadow(0px 1px 2px rgba(0, 0, 0, 0.3));\n",
              "      fill: #FFFFFF;\n",
              "    }\n",
              "  </style>\n",
              "\n",
              "      <script>\n",
              "        const buttonEl =\n",
              "          document.querySelector('#df-555fcadf-cfa4-4871-a3bf-b1bb8d04af1e button.colab-df-convert');\n",
              "        buttonEl.style.display =\n",
              "          google.colab.kernel.accessAllowed ? 'block' : 'none';\n",
              "\n",
              "        async function convertToInteractive(key) {\n",
              "          const element = document.querySelector('#df-555fcadf-cfa4-4871-a3bf-b1bb8d04af1e');\n",
              "          const dataTable =\n",
              "            await google.colab.kernel.invokeFunction('convertToInteractive',\n",
              "                                                     [key], {});\n",
              "          if (!dataTable) return;\n",
              "\n",
              "          const docLinkHtml = 'Like what you see? Visit the ' +\n",
              "            '<a target=\"_blank\" href=https://colab.research.google.com/notebooks/data_table.ipynb>data table notebook</a>'\n",
              "            + ' to learn more about interactive tables.';\n",
              "          element.innerHTML = '';\n",
              "          dataTable['output_type'] = 'display_data';\n",
              "          await google.colab.output.renderOutput(dataTable, element);\n",
              "          const docLink = document.createElement('div');\n",
              "          docLink.innerHTML = docLinkHtml;\n",
              "          element.appendChild(docLink);\n",
              "        }\n",
              "      </script>\n",
              "    </div>\n",
              "  </div>\n",
              "  "
            ]
          },
          "metadata": {},
          "execution_count": 7
        }
      ]
    },
    {
      "cell_type": "markdown",
      "source": [
        "دعونا نرى  ‏‪ .isna()‬وحدها ماذا ترجع لنا من قيم ؟ فكما نرى عبارة عن نفس الاعمده ولكن بدل من قيمها تظهر لنا قيم جديدة وهي  ‏‪ False or True‬في حالة اظهرت لنا ‏‪ False‬فمعناه انه لا توجد قيمة فارغة هنا واذا حدث عكس ذلك فيوجد قيمة فارغة هنا وهي  ‏‪ NaN‬.\n",
        "\n"
      ],
      "metadata": {
        "id": "0-5jVHuDf2oG"
      }
    },
    {
      "cell_type": "code",
      "source": [
        "# Get DataFrame short describation\n",
        "df.info()"
      ],
      "metadata": {
        "colab": {
          "base_uri": "https://localhost:8080/"
        },
        "id": "Lj_AAmTgiN7r",
        "outputId": "56b64f43-006f-4edc-99cc-6261517fb649"
      },
      "execution_count": null,
      "outputs": [
        {
          "output_type": "stream",
          "name": "stdout",
          "text": [
            "<class 'pandas.core.frame.DataFrame'>\n",
            "RangeIndex: 1000 entries, 0 to 999\n",
            "Data columns (total 2 columns):\n",
            " #   Column  Non-Null Count  Dtype \n",
            "---  ------  --------------  ----- \n",
            " 0   Review  1000 non-null   object\n",
            " 1   Liked   1000 non-null   int64 \n",
            "dtypes: int64(1), object(1)\n",
            "memory usage: 15.8+ KB\n"
          ]
        }
      ]
    },
    {
      "cell_type": "markdown",
      "source": [
        "وهنالك طريقة أخرى سريعة أيضاً ولديها مخرجات اخرى مثل حجم إطار العمل ‏‪ DataFrame‬في الذاكرة\n",
        "\n",
        "ويمكننا ان نرى القيم الفارغة ‏‪ NaN‬هل تتواجد ام لا\n",
        "\n"
      ],
      "metadata": {
        "id": "0kPsfV-GiRAz"
      }
    },
    {
      "cell_type": "code",
      "source": [
        "# Check how many samples\n",
        "df.shape"
      ],
      "metadata": {
        "colab": {
          "base_uri": "https://localhost:8080/"
        },
        "id": "hO6_hJ3RiAZ2",
        "outputId": "4baae3d1-bed1-4d62-bd46-90dada54a5e0"
      },
      "execution_count": null,
      "outputs": [
        {
          "output_type": "execute_result",
          "data": {
            "text/plain": [
              "(1000, 2)"
            ]
          },
          "metadata": {},
          "execution_count": 9
        }
      ]
    },
    {
      "cell_type": "markdown",
      "source": [
        "خطوة هامة أيضاً نريد ان نرى كم لدينا من صفوف وأعمدة لدينا:\n",
        "- يبدو ان لدينا 1000 سطر من الاراء لتصنيفها\n",
        "     - الصفوف: كم مثال نص لدينا في البيانات\n",
        "     - الاعمدة: عدد الخصائص في البيانات هذه \n",
        "        - مثال على الخصائص: ان تكون البيانات مكونه من عدة أشياء اخرى غير تقييم الطعام مثل اعمار الاشخاص وهل هم مثلا مصابين بأمراض مثل مرض السكري؟"
      ],
      "metadata": {
        "id": "miVizXXWiFJR"
      }
    },
    {
      "cell_type": "code",
      "source": [
        "# Check for class imbalances\n",
        "df[\"Liked\"].value_counts().plot(kind=\"bar\")"
      ],
      "metadata": {
        "colab": {
          "base_uri": "https://localhost:8080/",
          "height": 279
        },
        "id": "TkBF8zrvfYkY",
        "outputId": "0d7ccfa2-a843-4c1c-f0b4-62fefeb75342"
      },
      "execution_count": null,
      "outputs": [
        {
          "output_type": "execute_result",
          "data": {
            "text/plain": [
              "<matplotlib.axes._subplots.AxesSubplot at 0x7f287d93bf90>"
            ]
          },
          "metadata": {},
          "execution_count": 10
        },
        {
          "output_type": "display_data",
          "data": {
            "text/plain": [
              "<Figure size 432x288 with 1 Axes>"
            ],
            "image/png": "[encoded data removed]"
          },
          "metadata": {
            "needs_background": "light"
          }
        }
      ]
    },
    {
      "cell_type": "markdown",
      "source": [
        "بعد الرؤية بشكل سريع الأن من المنظر يبدو ان البيانات لدينا لا تعاني من مشكلة الــ ‏‪ Imbalance\n",
        "\n",
        "ماذا تعني هذه المشكلة ؟ هذه المشكلة تؤثر سلباً عند تمرين الخوارزمية فترى امثلة كثيرة عن مثلاً ان البيانات التي نملكها الان وهي أراء الزبائن بالطعام المُقدم من المطعم. فتخيل الان انها ترى الخوارزمية كم هائل من النصوص التي تصف بمديح هذا الطعام ولكن هنالك نسبة ضئيلة بالتقييمات السلبية, هنا تحدث المشكلة وهي الخوارزمية لم ترى بالقدر الكافي من هذه التقييمات السلبية.\n",
        "\n",
        "وهذه المشكلة نطلق عليها بالبيانات نطلق عليها ‏‪ Class imbalance"
      ],
      "metadata": {
        "id": "QpoItC16i2UV"
      }
    },
    {
      "cell_type": "code",
      "source": [
        "# Check the exact numbers of samples\n",
        "df[\"Liked\"].value_counts()"
      ],
      "metadata": {
        "colab": {
          "base_uri": "https://localhost:8080/"
        },
        "id": "Oa6_GGXsg5tX",
        "outputId": "4ec7609e-4ea9-4e1f-ecfd-5ac58db2555b"
      },
      "execution_count": null,
      "outputs": [
        {
          "output_type": "execute_result",
          "data": {
            "text/plain": [
              "1    500\n",
              "0    500\n",
              "Name: Liked, dtype: int64"
            ]
          },
          "metadata": {},
          "execution_count": 11
        }
      ]
    },
    {
      "cell_type": "markdown",
      "source": [
        "كما نرى بالارقام فإن البيانات موزونه بشكل ممتاز جداً وهي ان تصبح اعداد الكلاسات متساوية ولايوجد رقم مثلا في الكلاس صفر= 500 تقييم, وكلاس اخر يملك مثلا 200  تقييم فهذه مشكلة وهنالك طرق كثيرة لحلها\n",
        "\n",
        "مصادر للقراءة عن هذه الحلول والمشاكل:\n",
        "- [How to handle imbalanced classes blog by elitedatascience](https://elitedatascience.com/imbalanced-classes)\n",
        "- [How to handle imbalanced dataset by M. Farhan Tandia](https://www.linkedin.com/pulse/some-tricks-handling-imbalanced-dataset-image-m-farhan-tandia/)"
      ],
      "metadata": {
        "id": "0W9ko4XNk9en"
      }
    },
    {
      "cell_type": "markdown",
      "source": [
        "### WordCloud | سحابة الكلمات\n",
        "\n",
        "![](https://i.imgur.com/33YciTf.png)\n",
        "\n",
        "تقنية جيدة للاطلاع على أكثر الكلمات تكراراً في الجملة وطبعاً في هذه التقنية يُفضل أن نقوم بإزالة كلمات التوقف ‏‪ (Stopwords)‬أولا قبل البدء في تنفيذ هذه التقنية والسبب راجع لكيفية عمل هذه التقنية وهو البحث عن كلمات بتكرار ضخم عن البقية. والسبب اننا نريد حذف كلمات التوقف تخيل معي ان هنالك كلمات لا تضيف لنا معنى هام في السياق وتندرج ايضاً مع الكلمات الاكثر تكراراً فتصبح لدينا رسمة لسحابة الكلمات بها العديد من المفردات غير المفهومه لسياق المشكلة التي نريد.\n",
        "\n",
        "\n",
        "لكن سنقوم بتجربة هذه التقنية على هيئتان وهما:\n",
        "- مع ‏‪ Stopwords\n",
        "- من غير ‏‪ Stopwords\n",
        "\n",
        "من أجل إيضاح الفرق ونرى جوهر الاثنان ولماذا من الاساس نريد حذف تلك الكلمات ‏‪ (Stopwords)\n",
        "\n",
        "فلنبدأ بكتابة بعض الاكواد ونرى\n",
        "\n",
        "\"فبالنهاية الصور أبلغ من الكلام\""
      ],
      "metadata": {
        "id": "hEIWJavfm-ka"
      }
    },
    {
      "cell_type": "code",
      "source": [
        "# prepare text & init wordcloud \n",
        "text = df[\"Review\"][7]\n",
        "wordcloud = WordCloud().generate(text)\n",
        "wordcloud"
      ],
      "metadata": {
        "colab": {
          "base_uri": "https://localhost:8080/"
        },
        "id": "mSyWDxPclYKA",
        "outputId": "d36b775c-0f6c-4306-9584-c78841ad53d9"
      },
      "execution_count": null,
      "outputs": [
        {
          "output_type": "execute_result",
          "data": {
            "text/plain": [
              "<wordcloud.wordcloud.WordCloud at 0x7f287d822ad0>"
            ]
          },
          "metadata": {},
          "execution_count": 12
        }
      ]
    },
    {
      "cell_type": "markdown",
      "source": [
        "لو قمنا بشتغيل الكود في الاعلى نرى انه مازال كائن ‏‪ (Object)‬ولدية عنوان ‏‪ (Address)‬في الذاكرة\n",
        "\n",
        "اذا وصلنا لهذه المرحلة فهذه نقطة ممتازة وهي ان سحابة الكلمات عملت وقامت بمعالجة النصوص الان نريد ان نرسمها باستعمال مكتبة ‏‪ Matplotlib‬"
      ],
      "metadata": {
        "id": "m3kH2cAKq1fv"
      }
    },
    {
      "cell_type": "code",
      "source": [
        "# Visualize the wordcloud\n",
        "plt.imshow(wordcloud, interpolation=\"bilinear\")\n",
        "plt.axis(False);"
      ],
      "metadata": {
        "colab": {
          "base_uri": "https://localhost:8080/",
          "height": 198
        },
        "id": "44r3d7Xkqh85",
        "outputId": "bd794f60-876f-4307-8c52-785446dfb49e"
      },
      "execution_count": null,
      "outputs": [
        {
          "output_type": "display_data",
          "data": {
            "text/plain": [
              "<Figure size 432x288 with 1 Axes>"
            ],
            "image/png": "[encoded data removed]"
          },
          "metadata": {
            "needs_background": "light"
          }
        }
      ]
    },
    {
      "cell_type": "markdown",
      "source": [
        "بعدما قمنا بوضع الكائن الذي قمنا بإنشاءه سابقاً وقمنا باستعمال ‏‪ imshow()‬لرسمة وأيضاً نلاحظ ان هنالك  ‏‪ Argument‬أول مره نراه وهو  ‏‪ interpolation‬\n",
        "يقوم بكل بساطة بتنعيم معالجة الصور \n",
        "\n",
        "وأخيراً  ‏‪ plt.axis(False);‬بكل اختصار تقوم بمسح الخطوط التي تظهر عند أي رسمة بيانية وتملك قُطبي ‏‪ X, y\n",
        "\n",
        "وعلامة الفاصلة المنقوطة لكي تخفي عنوان الذاكرة الذي يظهر للرسمة, وهذا فقط من أجل الشكل لا اكثر."
      ],
      "metadata": {
        "id": "6O_84hiGrW-C"
      }
    },
    {
      "cell_type": "code",
      "source": [
        "# Check for stopwords length & type\n",
        "len(STOPWORDS), type(STOPWORDS)"
      ],
      "metadata": {
        "colab": {
          "base_uri": "https://localhost:8080/"
        },
        "id": "oGmmWRhpqh6h",
        "outputId": "c0b146cb-d9d2-4beb-b992-8ded4d5833bb"
      },
      "execution_count": null,
      "outputs": [
        {
          "output_type": "execute_result",
          "data": {
            "text/plain": [
              "(192, set)"
            ]
          },
          "metadata": {},
          "execution_count": 14
        }
      ]
    },
    {
      "cell_type": "markdown",
      "source": [
        "نقوم بفحص العنصر الذي قمنا باستدعاء في تعريف المكتبات بأعلى الصفحة, وننظر هنا إلى عدد الكلمات الموجودة في عنصر كلمات التوقف ‏‪ (Stopwords)\n",
        "\n",
        "نلاحظ ان عدد الكلمات قليلة في القائمة و لابأس بذلك يمكننا العمل بهذه القائمة."
      ],
      "metadata": {
        "id": "ZYx4dviQs-ly"
      }
    },
    {
      "cell_type": "markdown",
      "source": [
        "#### Prepare cleaning stopwords for wordcloud | التجهيز لتنظيف البيانات من كلمات التوقف أو الشائعة\n",
        "في هذه الفقرة سوف نعمل على حذف هذه الكلمات من البيانات التي لدينا منها\n"
      ],
      "metadata": {
        "id": "Aigbzm6gw-OQ"
      }
    },
    {
      "cell_type": "code",
      "source": [
        "# Checking how words splitted\n",
        "text.split()"
      ],
      "metadata": {
        "colab": {
          "base_uri": "https://localhost:8080/"
        },
        "id": "E0F0pTXMw9fa",
        "outputId": "2e9acd32-1317-4239-bac9-239e29fdb11e"
      },
      "execution_count": null,
      "outputs": [
        {
          "output_type": "execute_result",
          "data": {
            "text/plain": [
              "['The',\n",
              " 'potatoes',\n",
              " 'were',\n",
              " 'like',\n",
              " 'rubber',\n",
              " 'and',\n",
              " 'you',\n",
              " 'could',\n",
              " 'tell',\n",
              " 'they',\n",
              " 'had',\n",
              " 'been',\n",
              " 'made',\n",
              " 'up',\n",
              " 'ahead',\n",
              " 'of',\n",
              " 'time',\n",
              " 'being',\n",
              " 'kept',\n",
              " 'under',\n",
              " 'a',\n",
              " 'warmer.']"
            ]
          },
          "metadata": {},
          "execution_count": 15
        }
      ]
    },
    {
      "cell_type": "markdown",
      "source": [
        "الأن من أجل تجهيز النص وتقسيم الجملة إلى كلمات متقطعة نستطيع ذلك باستعمال  ‏‪ .split()\n",
        "\n",
        "بشرط أن يكون استدعاء هذه الدالة على نوع  ‏‪ str‬وكما نرى ان العائد منها هو من نوع  ‏‪ List‬"
      ],
      "metadata": {
        "id": "9rkzUoLYxMKH"
      }
    },
    {
      "cell_type": "code",
      "source": [
        "# Cleaning text from stopwords\n",
        "def clean_from_stopwords(text):\n",
        "    \"\"\"\n",
        "    Splitting the sentences to tokens(words) then cleaning those tokens if they're stopwords,\n",
        "    After that return them as string after concat them again.\n",
        "\n",
        "    Args:\n",
        "    text: str type of sentences.\n",
        "\n",
        "    Returns:\n",
        "    A str object type of full cleaned sentence.\n",
        "    \"\"\"\n",
        "    cleaned_text = text.split()\n",
        "    return \" \".join([word for word in cleaned_text if word not in STOPWORDS])"
      ],
      "metadata": {
        "id": "-3Gl1ra3vN2P"
      },
      "execution_count": null,
      "outputs": []
    },
    {
      "cell_type": "markdown",
      "source": [
        "الان من اجل مسح الكلمات Stopwords نستطيع استعمال\n",
        "\n",
        "List comprehension بحيث يمكننا من خلال الشرط في\n",
        "\n",
        "- if word not in STOPWORDS: تقوم بفحص كل كلمة متقطعة وهل توجد بداخل المُتغير  ‏‪ STOPWORDS‬؟ إذا كان لا فإنها تضع الكلمة بداخل الجملة الجديدة التي نريد إنشائها وتقوم بلصقها في آخر الجملة كل كلمة جديدة مع ذكر ان هنالك مسافة بين كل كلمة جديدة كما هو موضح باستعمال\n",
        "\n",
        "     - \" \".join()\n",
        "\n",
        "ونريد إرجاع كل جملة جديدة بعد عملية حذف كلمات التوقف ‏‪ (Stopwords)"
      ],
      "metadata": {
        "id": "kbB4Ui6dyGvj"
      }
    },
    {
      "cell_type": "code",
      "source": [
        "# Preprocess the text\n",
        "df_cleaned = df.copy() \n",
        "df_cleaned[\"Review\"] = df_cleaned[\"Review\"].map(clean_from_stopwords) \n",
        "df_cleaned.head(10)"
      ],
      "metadata": {
        "colab": {
          "base_uri": "https://localhost:8080/",
          "height": 363
        },
        "id": "-tr7_GGxqh4B",
        "outputId": "00de2794-f3f1-4c17-ce2d-9a0c3c916f34"
      },
      "execution_count": null,
      "outputs": [
        {
          "output_type": "execute_result",
          "data": {
            "text/plain": [
              "                                              Review  Liked\n",
              "0                                Wow... Loved place.      1\n",
              "1                                        Crust good.      0\n",
              "2                           Not tasty texture nasty.      0\n",
              "3  Stopped late May bank holiday Rick Steve recom...      1\n",
              "4                   The selection menu great prices.      1\n",
              "5               Now I getting angry I want damn pho.      0\n",
              "6                        Honeslty taste THAT fresh.)      0\n",
              "7  The potatoes rubber tell made ahead time kept ...      0\n",
              "8                               The fries great too.      1\n",
              "9                                     A great touch.      1"
            ],
            "text/html": [
              "\n",
              "  <div id=\"df-db38cd43-6aec-45a8-8040-b32fa61f2437\">\n",
              "    <div class=\"colab-df-container\">\n",
              "      <div>\n",
              "<style scoped>\n",
              "    .dataframe tbody tr th:only-of-type {\n",
              "        vertical-align: middle;\n",
              "    }\n",
              "\n",
              "    .dataframe tbody tr th {\n",
              "        vertical-align: top;\n",
              "    }\n",
              "\n",
              "    .dataframe thead th {\n",
              "        text-align: right;\n",
              "    }\n",
              "</style>\n",
              "<table border=\"1\" class=\"dataframe\">\n",
              "  <thead>\n",
              "    <tr style=\"text-align: right;\">\n",
              "      <th></th>\n",
              "      <th>Review</th>\n",
              "      <th>Liked</th>\n",
              "    </tr>\n",
              "  </thead>\n",
              "  <tbody>\n",
              "    <tr>\n",
              "      <th>0</th>\n",
              "      <td>Wow... Loved place.</td>\n",
              "      <td>1</td>\n",
              "    </tr>\n",
              "    <tr>\n",
              "      <th>1</th>\n",
              "      <td>Crust good.</td>\n",
              "      <td>0</td>\n",
              "    </tr>\n",
              "    <tr>\n",
              "      <th>2</th>\n",
              "      <td>Not tasty texture nasty.</td>\n",
              "      <td>0</td>\n",
              "    </tr>\n",
              "    <tr>\n",
              "      <th>3</th>\n",
              "      <td>Stopped late May bank holiday Rick Steve recom...</td>\n",
              "      <td>1</td>\n",
              "    </tr>\n",
              "    <tr>\n",
              "      <th>4</th>\n",
              "      <td>The selection menu great prices.</td>\n",
              "      <td>1</td>\n",
              "    </tr>\n",
              "    <tr>\n",
              "      <th>5</th>\n",
              "      <td>Now I getting angry I want damn pho.</td>\n",
              "      <td>0</td>\n",
              "    </tr>\n",
              "    <tr>\n",
              "      <th>6</th>\n",
              "      <td>Honeslty taste THAT fresh.)</td>\n",
              "      <td>0</td>\n",
              "    </tr>\n",
              "    <tr>\n",
              "      <th>7</th>\n",
              "      <td>The potatoes rubber tell made ahead time kept ...</td>\n",
              "      <td>0</td>\n",
              "    </tr>\n",
              "    <tr>\n",
              "      <th>8</th>\n",
              "      <td>The fries great too.</td>\n",
              "      <td>1</td>\n",
              "    </tr>\n",
              "    <tr>\n",
              "      <th>9</th>\n",
              "      <td>A great touch.</td>\n",
              "      <td>1</td>\n",
              "    </tr>\n",
              "  </tbody>\n",
              "</table>\n",
              "</div>\n",
              "      <button class=\"colab-df-convert\" onclick=\"convertToInteractive('df-db38cd43-6aec-45a8-8040-b32fa61f2437')\"\n",
              "              title=\"Convert this dataframe to an interactive table.\"\n",
              "              style=\"display:none;\">\n",
              "        \n",
              "  <svg xmlns=\"http://www.w3.org/2000/svg\" height=\"24px\"viewBox=\"0 0 24 24\"\n",
              "       width=\"24px\">\n",
              "    <path d=\"M0 0h24v24H0V0z\" fill=\"none\"/>\n",
              "    <path d=\"M18.56 5.44l.94 2.06.94-2.06 2.06-.94-2.06-.94-.94-2.06-.94 2.06-2.06.94zm-11 1L8.5 8.5l.94-2.06 2.06-.94-2.06-.94L8.5 2.5l-.94 2.06-2.06.94zm10 10l.94 2.06.94-2.06 2.06-.94-2.06-.94-.94-2.06-.94 2.06-2.06.94z\"/><path d=\"M17.41 7.96l-1.37-1.37c-.4-.4-.92-.59-1.43-.59-.52 0-1.04.2-1.43.59L10.3 9.45l-7.72 7.72c-.78.78-.78 2.05 0 2.83L4 21.41c.39.39.9.59 1.41.59.51 0 1.02-.2 1.41-.59l7.78-7.78 2.81-2.81c.8-.78.8-2.07 0-2.86zM5.41 20L4 18.59l7.72-7.72 1.47 1.35L5.41 20z\"/>\n",
              "  </svg>\n",
              "      </button>\n",
              "      \n",
              "  <style>\n",
              "    .colab-df-container {\n",
              "      display:flex;\n",
              "      flex-wrap:wrap;\n",
              "      gap: 12px;\n",
              "    }\n",
              "\n",
              "    .colab-df-convert {\n",
              "      background-color: #E8F0FE;\n",
              "      border: none;\n",
              "      border-radius: 50%;\n",
              "      cursor: pointer;\n",
              "      display: none;\n",
              "      fill: #1967D2;\n",
              "      height: 32px;\n",
              "      padding: 0 0 0 0;\n",
              "      width: 32px;\n",
              "    }\n",
              "\n",
              "    .colab-df-convert:hover {\n",
              "      background-color: #E2EBFA;\n",
              "      box-shadow: 0px 1px 2px rgba(60, 64, 67, 0.3), 0px 1px 3px 1px rgba(60, 64, 67, 0.15);\n",
              "      fill: #174EA6;\n",
              "    }\n",
              "\n",
              "    [theme=dark] .colab-df-convert {\n",
              "      background-color: #3B4455;\n",
              "      fill: #D2E3FC;\n",
              "    }\n",
              "\n",
              "    [theme=dark] .colab-df-convert:hover {\n",
              "      background-color: #434B5C;\n",
              "      box-shadow: 0px 1px 3px 1px rgba(0, 0, 0, 0.15);\n",
              "      filter: drop-shadow(0px 1px 2px rgba(0, 0, 0, 0.3));\n",
              "      fill: #FFFFFF;\n",
              "    }\n",
              "  </style>\n",
              "\n",
              "      <script>\n",
              "        const buttonEl =\n",
              "          document.querySelector('#df-db38cd43-6aec-45a8-8040-b32fa61f2437 button.colab-df-convert');\n",
              "        buttonEl.style.display =\n",
              "          google.colab.kernel.accessAllowed ? 'block' : 'none';\n",
              "\n",
              "        async function convertToInteractive(key) {\n",
              "          const element = document.querySelector('#df-db38cd43-6aec-45a8-8040-b32fa61f2437');\n",
              "          const dataTable =\n",
              "            await google.colab.kernel.invokeFunction('convertToInteractive',\n",
              "                                                     [key], {});\n",
              "          if (!dataTable) return;\n",
              "\n",
              "          const docLinkHtml = 'Like what you see? Visit the ' +\n",
              "            '<a target=\"_blank\" href=https://colab.research.google.com/notebooks/data_table.ipynb>data table notebook</a>'\n",
              "            + ' to learn more about interactive tables.';\n",
              "          element.innerHTML = '';\n",
              "          dataTable['output_type'] = 'display_data';\n",
              "          await google.colab.output.renderOutput(dataTable, element);\n",
              "          const docLink = document.createElement('div');\n",
              "          docLink.innerHTML = docLinkHtml;\n",
              "          element.appendChild(docLink);\n",
              "        }\n",
              "      </script>\n",
              "    </div>\n",
              "  </div>\n",
              "  "
            ]
          },
          "metadata": {},
          "execution_count": 17
        }
      ]
    },
    {
      "cell_type": "markdown",
      "source": [
        "في أول سطر: قمنا بعمل نسخة من الاصلية لكي نقوم بالتجارب عليها قبل البدء بعمليات اخرى تأثر بتمرين الخوارزمية. وهذه من ضمن الاساسيات لأي عالم بيانات قبل البدء في عمله على بيانات معينه وهو عمل نسخة احتياطية منها.\n",
        "```python\n",
        "df_cleaned = df.copy()\n",
        "```\n",
        "\n",
        "---\n",
        "\n",
        "في السطر الثاني: في أول شطر قبل استدعاء  ‏‪ .MAP()‬هو مجرد استدعاء بيانات عامود كامل والقيمة المرجعة كــ  ‏‪ Series‬\n",
        "\n",
        "قمنا باستدعاء دالة عليه وهي التي كتبناها في الاعلى, الان ماهي آلية عمل هذه الطريقة\n",
        "\n",
        "الان في البداية مايحدث هو شبية بعملية الــ  ‏‪ (Loop)‬ويصبح كل سطر في كل لفه يذهب الى دالة الماب ‏‪ .map()‬ويقوم باستدعاء الدالة التي قمنا بها لذلك نلاحظ في الدالة لقد كتبنا في الـ  ‏‪ (Arguments)‬النص المستدعى يأتي من أول شطر له ويقوم بمعالجة النصوص صف ويليه الصف الاخر وبعد ذلك تقوم الدالة بإرجاع الجملة الجديدة بعد التنظيف من كلمات التوقف  ‏‪ (Stopwords)‬\n",
        "\n",
        "---\n",
        "بالمختصر المفيد: كل سطر من البيانات يذهب الى الدالة وتقوم بمعالجته وارجاعه بعدها تتحدث بالقيمة الجديدة المرجعة\n",
        "```python\n",
        "df_cleaned[\"Review\"].map(clean_from_stopwords)\n",
        "```\n"
      ],
      "metadata": {
        "id": "oRUZiXHmzhv6"
      }
    },
    {
      "cell_type": "code",
      "source": [
        "df_cleaned[\"Review\"][7], df[\"Review\"][7]"
      ],
      "metadata": {
        "colab": {
          "base_uri": "https://localhost:8080/"
        },
        "id": "7xLhoiFgzaxG",
        "outputId": "64a63ea4-b7ca-49aa-9a73-7bdec7aee64b"
      },
      "execution_count": null,
      "outputs": [
        {
          "output_type": "execute_result",
          "data": {
            "text/plain": [
              "('The potatoes rubber tell made ahead time kept warmer.',\n",
              " 'The potatoes were like rubber and you could tell they had been made up ahead of time being kept under a warmer.')"
            ]
          },
          "metadata": {},
          "execution_count": 18
        }
      ]
    },
    {
      "cell_type": "markdown",
      "source": [
        "\n",
        "لو رأينا هنا الفارق بين الاثنين ان الذي في اليسار لايملك الكلمتان is not \n",
        "\n",
        "بينما في اليمين يملكها وهذه النسخة الاصلية من البيانات "
      ],
      "metadata": {
        "id": "3JiAzvvLVSVU"
      }
    },
    {
      "cell_type": "markdown",
      "source": [
        "### Wordcloud without stopwords | إنشاء سحابة كلمات من غير كلمات التوقف\n",
        "الان نجرب سحابة الكلمات بعد تنظيف الجُمل من الكلمات الشائعة أو كلمات التوقف\n",
        "\n",
        "وحان الوقت لكي نجربها بكامل الجُمل الموجودة لدينا في مجموعة البيانات المخزنة في إطار البيانات  ‏‪ (DataFrame)"
      ],
      "metadata": {
        "id": "m7Xpf97l5N88"
      }
    },
    {
      "cell_type": "code",
      "source": [
        "# Try to preprocess all text\n",
        "all_texts = df_cleaned[\"Review\"]\n",
        "wordcloud_2 = WordCloud().generate(all_texts)\n",
        "plt.imshow(wordcloud_2, interpolation=\"bilinear\")\n",
        "plt.axis(False);"
      ],
      "metadata": {
        "colab": {
          "base_uri": "https://localhost:8080/",
          "height": 363
        },
        "id": "gDx_-gplqhya",
        "outputId": "08d5d857-f05f-46f6-a9b4-77c2a57f17b5"
      },
      "execution_count": null,
      "outputs": [
        {
          "output_type": "error",
          "ename": "TypeError",
          "evalue": "ignored",
          "traceback": [
            "\u001b[0;31m---------------------------------------------------------------------------\u001b[0m",
            "\u001b[0;31mTypeError\u001b[0m                                 Traceback (most recent call last)",
            "\u001b[0;32m<ipython-input-19-5e6e2953e9f7>\u001b[0m in \u001b[0;36m<module>\u001b[0;34m\u001b[0m\n\u001b[1;32m      1\u001b[0m \u001b[0mall_texts\u001b[0m \u001b[0;34m=\u001b[0m \u001b[0mdf_cleaned\u001b[0m\u001b[0;34m[\u001b[0m\u001b[0;34m\"Review\"\u001b[0m\u001b[0;34m]\u001b[0m\u001b[0;34m\u001b[0m\u001b[0;34m\u001b[0m\u001b[0m\n\u001b[0;32m----> 2\u001b[0;31m \u001b[0mwordcloud_2\u001b[0m \u001b[0;34m=\u001b[0m \u001b[0mWordCloud\u001b[0m\u001b[0;34m(\u001b[0m\u001b[0;34m)\u001b[0m\u001b[0;34m.\u001b[0m\u001b[0mgenerate\u001b[0m\u001b[0;34m(\u001b[0m\u001b[0mall_texts\u001b[0m\u001b[0;34m)\u001b[0m\u001b[0;34m\u001b[0m\u001b[0;34m\u001b[0m\u001b[0m\n\u001b[0m\u001b[1;32m      3\u001b[0m \u001b[0mplt\u001b[0m\u001b[0;34m.\u001b[0m\u001b[0mimshow\u001b[0m\u001b[0;34m(\u001b[0m\u001b[0mwordcloud_2\u001b[0m\u001b[0;34m,\u001b[0m \u001b[0minterpolation\u001b[0m\u001b[0;34m=\u001b[0m\u001b[0;34m\"bilinear\"\u001b[0m\u001b[0;34m)\u001b[0m\u001b[0;34m\u001b[0m\u001b[0;34m\u001b[0m\u001b[0m\n\u001b[1;32m      4\u001b[0m \u001b[0mplt\u001b[0m\u001b[0;34m.\u001b[0m\u001b[0maxis\u001b[0m\u001b[0;34m(\u001b[0m\u001b[0;32mFalse\u001b[0m\u001b[0;34m)\u001b[0m\u001b[0;34m;\u001b[0m\u001b[0;34m\u001b[0m\u001b[0;34m\u001b[0m\u001b[0m\n",
            "\u001b[0;32m/usr/local/lib/python3.7/dist-packages/wordcloud/wordcloud.py\u001b[0m in \u001b[0;36mgenerate\u001b[0;34m(self, text)\u001b[0m\n\u001b[1;32m    637\u001b[0m         \u001b[0mself\u001b[0m\u001b[0;34m\u001b[0m\u001b[0;34m\u001b[0m\u001b[0m\n\u001b[1;32m    638\u001b[0m         \"\"\"\n\u001b[0;32m--> 639\u001b[0;31m         \u001b[0;32mreturn\u001b[0m \u001b[0mself\u001b[0m\u001b[0;34m.\u001b[0m\u001b[0mgenerate_from_text\u001b[0m\u001b[0;34m(\u001b[0m\u001b[0mtext\u001b[0m\u001b[0;34m)\u001b[0m\u001b[0;34m\u001b[0m\u001b[0;34m\u001b[0m\u001b[0m\n\u001b[0m\u001b[1;32m    640\u001b[0m \u001b[0;34m\u001b[0m\u001b[0m\n\u001b[1;32m    641\u001b[0m     \u001b[0;32mdef\u001b[0m \u001b[0m_check_generated\u001b[0m\u001b[0;34m(\u001b[0m\u001b[0mself\u001b[0m\u001b[0;34m)\u001b[0m\u001b[0;34m:\u001b[0m\u001b[0;34m\u001b[0m\u001b[0;34m\u001b[0m\u001b[0m\n",
            "\u001b[0;32m/usr/local/lib/python3.7/dist-packages/wordcloud/wordcloud.py\u001b[0m in \u001b[0;36mgenerate_from_text\u001b[0;34m(self, text)\u001b[0m\n\u001b[1;32m    618\u001b[0m         \u001b[0mself\u001b[0m\u001b[0;34m\u001b[0m\u001b[0;34m\u001b[0m\u001b[0m\n\u001b[1;32m    619\u001b[0m         \"\"\"\n\u001b[0;32m--> 620\u001b[0;31m         \u001b[0mwords\u001b[0m \u001b[0;34m=\u001b[0m \u001b[0mself\u001b[0m\u001b[0;34m.\u001b[0m\u001b[0mprocess_text\u001b[0m\u001b[0;34m(\u001b[0m\u001b[0mtext\u001b[0m\u001b[0;34m)\u001b[0m\u001b[0;34m\u001b[0m\u001b[0;34m\u001b[0m\u001b[0m\n\u001b[0m\u001b[1;32m    621\u001b[0m         \u001b[0mself\u001b[0m\u001b[0;34m.\u001b[0m\u001b[0mgenerate_from_frequencies\u001b[0m\u001b[0;34m(\u001b[0m\u001b[0mwords\u001b[0m\u001b[0;34m)\u001b[0m\u001b[0;34m\u001b[0m\u001b[0;34m\u001b[0m\u001b[0m\n\u001b[1;32m    622\u001b[0m         \u001b[0;32mreturn\u001b[0m \u001b[0mself\u001b[0m\u001b[0;34m\u001b[0m\u001b[0;34m\u001b[0m\u001b[0m\n",
            "\u001b[0;32m/usr/local/lib/python3.7/dist-packages/wordcloud/wordcloud.py\u001b[0m in \u001b[0;36mprocess_text\u001b[0;34m(self, text)\u001b[0m\n\u001b[1;32m    580\u001b[0m         \u001b[0mregexp\u001b[0m \u001b[0;34m=\u001b[0m \u001b[0mself\u001b[0m\u001b[0;34m.\u001b[0m\u001b[0mregexp\u001b[0m \u001b[0;32mif\u001b[0m \u001b[0mself\u001b[0m\u001b[0;34m.\u001b[0m\u001b[0mregexp\u001b[0m \u001b[0;32mis\u001b[0m \u001b[0;32mnot\u001b[0m \u001b[0;32mNone\u001b[0m \u001b[0;32melse\u001b[0m \u001b[0mpattern\u001b[0m\u001b[0;34m\u001b[0m\u001b[0;34m\u001b[0m\u001b[0m\n\u001b[1;32m    581\u001b[0m \u001b[0;34m\u001b[0m\u001b[0m\n\u001b[0;32m--> 582\u001b[0;31m         \u001b[0mwords\u001b[0m \u001b[0;34m=\u001b[0m \u001b[0mre\u001b[0m\u001b[0;34m.\u001b[0m\u001b[0mfindall\u001b[0m\u001b[0;34m(\u001b[0m\u001b[0mregexp\u001b[0m\u001b[0;34m,\u001b[0m \u001b[0mtext\u001b[0m\u001b[0;34m,\u001b[0m \u001b[0mflags\u001b[0m\u001b[0;34m)\u001b[0m\u001b[0;34m\u001b[0m\u001b[0;34m\u001b[0m\u001b[0m\n\u001b[0m\u001b[1;32m    583\u001b[0m         \u001b[0;31m# remove 's\u001b[0m\u001b[0;34m\u001b[0m\u001b[0;34m\u001b[0m\u001b[0;34m\u001b[0m\u001b[0m\n\u001b[1;32m    584\u001b[0m         words = [word[:-2] if word.lower().endswith(\"'s\") else word\n",
            "\u001b[0;32m/usr/lib/python3.7/re.py\u001b[0m in \u001b[0;36mfindall\u001b[0;34m(pattern, string, flags)\u001b[0m\n\u001b[1;32m    223\u001b[0m \u001b[0;34m\u001b[0m\u001b[0m\n\u001b[1;32m    224\u001b[0m     Empty matches are included in the result.\"\"\"\n\u001b[0;32m--> 225\u001b[0;31m     \u001b[0;32mreturn\u001b[0m \u001b[0m_compile\u001b[0m\u001b[0;34m(\u001b[0m\u001b[0mpattern\u001b[0m\u001b[0;34m,\u001b[0m \u001b[0mflags\u001b[0m\u001b[0;34m)\u001b[0m\u001b[0;34m.\u001b[0m\u001b[0mfindall\u001b[0m\u001b[0;34m(\u001b[0m\u001b[0mstring\u001b[0m\u001b[0;34m)\u001b[0m\u001b[0;34m\u001b[0m\u001b[0;34m\u001b[0m\u001b[0m\n\u001b[0m\u001b[1;32m    226\u001b[0m \u001b[0;34m\u001b[0m\u001b[0m\n\u001b[1;32m    227\u001b[0m \u001b[0;32mdef\u001b[0m \u001b[0mfinditer\u001b[0m\u001b[0;34m(\u001b[0m\u001b[0mpattern\u001b[0m\u001b[0;34m,\u001b[0m \u001b[0mstring\u001b[0m\u001b[0;34m,\u001b[0m \u001b[0mflags\u001b[0m\u001b[0;34m=\u001b[0m\u001b[0;36m0\u001b[0m\u001b[0;34m)\u001b[0m\u001b[0;34m:\u001b[0m\u001b[0;34m\u001b[0m\u001b[0;34m\u001b[0m\u001b[0m\n",
            "\u001b[0;31mTypeError\u001b[0m: expected string or bytes-like object"
          ]
        }
      ]
    },
    {
      "cell_type": "markdown",
      "source": [
        "الان بعد تجهيز نفس الكود ونريد رسم سحابة الكلمات لكن ماذا نجد ؟ خطأ ومكتوب انه كان يتوقع انه يكون كائن بايت أو نص من نوع سترينق ‏‪ (str)\n",
        "\n",
        "السبب راجع لكون ‏‪ .generate(all_texts)‬تعمل كالآتي:\n",
        "\n",
        "- كان يتوقع ان المتغير من النوعين  ‏‪ (String & Bytes objects)‬لكن تحصل على نوع  ‏‪ (Pandas Series)‬لكن هنالك حل بسيط لهذه المشكلة دعونا نرى الكود مرة اخرى بالاسفل مع الحل وهو\n",
        "\n",
        "- وضع النص على حده سطر يليه سطر بدل من إدراج كامل المتُغير وهو  ‏‪ (Pandas Series)‬نستطيع تحقيق ذلك عن طريق السطر\n",
        "    - .generate(\" \".join(all_texts))\n",
        "\n",
        "\n",
        "شرح الحل: بهذه الطريقة الدالة  ‏‪.join()‬تستطيع تحويل جميع النصوص بداخل هذه سوا كانت  ‏‪ List or Series or numpy vector.\n",
        "\n",
        "ووضعنا بين علامتين التنصيص مسافة بسبب ان كل جملة عندما نقوم بدمجها مع الاخرى الشرط هو المسافة بينهما لكي لايصبح الدمج بشكل غير مفهوم الكلمات تتداخل مع بعضها البعض في نهاية الجُمل "
      ],
      "metadata": {
        "id": "bHdJqXwJ7CE8"
      }
    },
    {
      "cell_type": "code",
      "source": [
        "# Test visualizing the entire text\n",
        "all_texts = df_cleaned[\"Review\"]\n",
        "wordcloud_2 = WordCloud().generate(\" \".join(all_texts))\n",
        "plt.imshow(wordcloud_2, interpolation=\"bilinear\")\n",
        "plt.axis(False);"
      ],
      "metadata": {
        "id": "V00teJqR6Xqs",
        "colab": {
          "base_uri": "https://localhost:8080/",
          "height": 198
        },
        "outputId": "9f451ab3-ea30-434c-c74d-3d1306793c54"
      },
      "execution_count": null,
      "outputs": [
        {
          "output_type": "display_data",
          "data": {
            "text/plain": [
              "<Figure size 432x288 with 1 Axes>"
            ],
            "image/png": "[encoded data removed]"
          },
          "metadata": {
            "needs_background": "light"
          }
        }
      ]
    },
    {
      "cell_type": "markdown",
      "source": [
        "وهنا نلاحظ جميع الكلمات وعدد تكرارها حسب تضخم الكلمة في الرسمة الموجودة للكلمات السحابية\n",
        "\n",
        "ونرى وجود كلمات مثل: ‏‪  food, good, place, service, great, best, restaurant.\n",
        "\n",
        "الان من الجميل ان نرى الفرق بينهما لذلك سوف اقوم باستعمال إطار البيانات القديم ورسم الكلمات السحابية لها لنرى الفرق هل بعض الكلمات موجودة لها معنى عميق للمشكلة التي نريد حلها وهي تقييم وجبات المطعم ؟ ام لا"
      ],
      "metadata": {
        "id": "lzH2SJme8llX"
      }
    },
    {
      "cell_type": "code",
      "source": [
        "# Visualizing the original DataFrame\n",
        "texts_not_cleaned = df[\"Review\"]\n",
        "wordcloud = WordCloud().generate(\" \".join(texts_not_cleaned))\n",
        "plt.imshow(wordcloud, interpolation=\"bilinear\")\n",
        "plt.axis(False);"
      ],
      "metadata": {
        "colab": {
          "base_uri": "https://localhost:8080/",
          "height": 198
        },
        "id": "jcuKBTLZ8fe1",
        "outputId": "03f96b81-c143-4201-e760-2e264ee6a95d"
      },
      "execution_count": null,
      "outputs": [
        {
          "output_type": "display_data",
          "data": {
            "text/plain": [
              "<Figure size 432x288 with 1 Axes>"
            ],
            "image/png": "[encoded data removed]"
          },
          "metadata": {
            "needs_background": "light"
          }
        }
      ]
    },
    {
      "cell_type": "markdown",
      "source": [
        "نلاحظ هنا بشكل طفيف هنالك عدد اكبر من الكلمات في خلف الكلمات الكبيرة على عكس الرسمة التي بالاعلى. ولكن لابأس بذلك هذه احد التقنيات لو اردت استعمالها جيدة في البيانات الكبيرة ولكن هنا تم استعمالها على بيانات ليست بتلك الضخامة وغنية بالكلمات ولكن سوف اضع بعض المقالات للاستزادة ورؤية بعض الرسمات للمقارنة وحصول على فهم اعمق بها.\n",
        "\n",
        "مصادر للقراءة:\n",
        "- [Tia Plagata blog on medium](https://towardsdatascience.com/how-to-create-beautiful-word-clouds-in-python-cfcf85141214)"
      ],
      "metadata": {
        "id": "8hMwQH1O99cg"
      }
    },
    {
      "cell_type": "markdown",
      "source": [
        "## Prepare Data for preprocessing | تجهيز البيانات من أجل المعالجة\n",
        "![](https://i.imgur.com/zME4rx8.jpg)\n",
        "\n",
        "الان بعد عمليات استكشاف البيانات ‏‪ (EDA)‬ورؤية اجزاء مختلفه من مجموعة البيانات ‏‪ (Dataset)‬الان حان الوقت لبدء عملية تقسيم هذه البيانات إلى مجموعات وهي:\n",
        "\n",
        "- مجموعة التدريب ‏‪ (Training set)\n",
        "- مجموعة التحقق ‏‪ (Validation set)\n",
        "- مجموعة الاختبار  ‏‪ (Testing set)\n",
        "\n",
        "ملاحظة: يمكنك تخطي خطوة أن تصنع مجموعة للتحقق ‏‪ (Validation set)‬وتكتفي فقط بمجموعتي التدريب والاختبار\n",
        "\n",
        "وظيفة كل مجموعة:\n",
        "![Table of Comparisons](https://i.imgur.com/92O2ued.png)\n",
        "\n"
      ],
      "metadata": {
        "id": "4UF6uJyR_LXL"
      }
    },
    {
      "cell_type": "markdown",
      "source": [
        "### Splitting data | تقسيم البيانات إلى مجموعات\n",
        "خطوة مهمة قبل البدء في عملية تدريب الخوارزمية وهي تحويل النصوص هذه الى أرقام.\n",
        "\n",
        "\n",
        "**سؤال**: لماذا نقوم بتحويلها إلى أرقام لماذا لا نقوم فقط بتدريب الخوارزمية على النصوص وكل كلاس مرافق لها ؟\n",
        "\n",
        "**الجواب**: بسبب ان خوارزميات تعلم الالة يجب ان تكون مدخلاتها بصيغة أرقام\n",
        "\n",
        "لكن قبل ذلك يجب تقسيم البيانات أولاً الى:\n",
        "- نصوص وتمثل ‏‪ X\n",
        "- الكلاسات المرافقة لها (0 أو 1) وتمثل ‏‪ Y\n",
        "    - كما شرحت بالاعلى ماذا يعني كل كلاس."
      ],
      "metadata": {
        "id": "LZR-Zo2vVjqx"
      }
    },
    {
      "cell_type": "code",
      "source": [
        "from sklearn.model_selection import train_test_split # for splitting the data into sets of train, val, test"
      ],
      "metadata": {
        "id": "78hVIldj-91I"
      },
      "execution_count": null,
      "outputs": []
    },
    {
      "cell_type": "markdown",
      "source": [
        "هنا نقوم باستدعاء من مكتبة ‏‪ (Sklearn)‬ونقوم بإدراج  ‏‪ model_selection‬وندرج الدالة منها وهي مسؤوله بتقسيم البيانات الى مجموعات."
      ],
      "metadata": {
        "id": "UsDEZltHX4O_"
      }
    },
    {
      "cell_type": "code",
      "source": [
        "# Prepare X, y for sentence & target label\n",
        "X = df_cleaned[\"Review\"].to_numpy()\n",
        "y = df_cleaned[\"Liked\"].to_numpy()"
      ],
      "metadata": {
        "id": "pSibM7FacoTy"
      },
      "execution_count": null,
      "outputs": []
    },
    {
      "cell_type": "code",
      "source": [
        "# inspect X, y\n",
        "X[:5], y[:5]"
      ],
      "metadata": {
        "colab": {
          "base_uri": "https://localhost:8080/"
        },
        "id": "V3DjnbeNetxu",
        "outputId": "604c9f9f-556c-49ff-fb50-55ef1682ee49"
      },
      "execution_count": null,
      "outputs": [
        {
          "output_type": "execute_result",
          "data": {
            "text/plain": [
              "(array(['Wow... Loved place.', 'Crust good.', 'Not tasty texture nasty.',\n",
              "        'Stopped late May bank holiday Rick Steve recommendation loved it.',\n",
              "        'The selection menu great prices.'], dtype=object),\n",
              " array([1, 0, 0, 1, 1]))"
            ]
          },
          "metadata": {},
          "execution_count": 24
        }
      ]
    },
    {
      "cell_type": "markdown",
      "source": [
        "قبل البدء في عملية التقسيم إلى مجموعات تدريبية وتحققيه واختبارية من الأفضل جعلها في متغيرات ‏‪ X, y‬لو اردنا التعديل عليها لاحقاً وأيضاً استخراج البيانات كصيغة مصفوفة ‏‪ Numpy‬والسبب راجع لأنه يمكنك عمل عمليات حسابية وهنالك دوال كثيرة في هذه المكتبة لذلك هذا راجع لنا بالفائدة مستقبلاً\n",
        "\n",
        "بعد عمل المتغيرين ‏‪ X, y\n",
        "\n",
        "يجب توضيح كم النسب التي علينا استخدامها للتقسيم ؟ هنالك مجموعة من النسب لكن سوف استخدم الان\n",
        "- 80% لمجموعة التدريب\n",
        "- 10% لمجموعة التحقق\n",
        "- 10% لمجموعة الاختبار\n",
        "\n",
        "ويمكنكم ايضاً لو اردتم استعمال:\n",
        "- 70% لمجموعة التدريب\n",
        "- 15% لمجموعة التحقق\n",
        "- 15% لمجموعة الاختبار\n",
        "\n",
        "الطريقة الان تكمن في الاكواد وكيف نفعلها ونترجم هذه المتطلبات فلنرى الكود في الاسفل"
      ],
      "metadata": {
        "id": "13pZWMitdenA"
      }
    },
    {
      "cell_type": "code",
      "source": [
        "#X_train, X_test, y_train, y_test = train_test_split() — This is the original variables\n",
        "\n",
        "# Splitting For training set\n",
        "X_train, X_new, y_train, y_new = train_test_split(X,\n",
        "                                                  y,\n",
        "                                                  train_size=0.8,\n",
        "                                                  random_state=1337,\n",
        "                                                  stratify=y)"
      ],
      "metadata": {
        "id": "1PH5NIlUXn-f"
      },
      "execution_count": null,
      "outputs": []
    },
    {
      "cell_type": "markdown",
      "source": [
        "الان دعونا نفكك هذه الباراميترات وماذا يحدث في هذه الدالة:\n",
        "- أول باراميتر: تم وضع مُتغير  ‏‪ X‬وهي بيانات النصوص\n",
        "- ثاني باراميتر: وهي بيانات تحوي كلاس لكُل نَص \n",
        "\n",
        "- ثالث باراميتر train_size: وهي نسبة الاقتسام لجزئية التدريب ووضعناها 80% كما ذكرنا في الاعلى\n",
        "\n",
        "- رابع باراميتر random_state: بسبب كيفية عمل الدالة في عملية توزيع واقتسام الاجزاء من البيانات ولجعلها عملية يمكن الجميع الحصول على نفس النتيجة التي احصل عليها الان.\n",
        "\n",
        "- خامس باراميتر stratify: من أجل تطابق كل كلاس ولا تحدث مشكلة  ‏‪ imbalance‬لكل كلاس فتحرص على جعل كل مجموعة لديها نفس العدد من الكلاسات بعد التقسيم\n",
        "    - طريقة عمله: يجب وضع قائمة الكلاسات التي تريد توزيعها بتساوي\n",
        "    - مثال: لو فرضنا بعد تقسيم البيانات إلى مجموعات ووجدنا أن مجموعة التدريب لديها 54 من كلاس 0 ومجموعة التحقق لديها 150 من الكلاس 0. وهنا حدثت مشكلة الكلاس  ‏‪ imbalance‬فلذلك منعنا هذا الشيء من الحدوث باستخدام هذا الـ ‏‪ Arguments\n",
        "\n",
        "بعد شرح كل باراميتر لماذا لا نرى متغيرات مجموعة التحقق أو مجموعة الاختبار ليسوا موجودين.\n",
        "\n",
        "في مخرجات هذه الدالة ؟ ولماذا نرى اسم ‏‪ X_new + y_new\n",
        "\n",
        "السبب في ذلك سوف نأخذ هذه القيم ونقوم بعملية تقسيم اخرى لكي نحصل على:\n",
        "- validation مجموعة التحقق\n",
        "- test مجموعة الاختبار\n",
        "\n",
        "لكن قبل البدء في تقسيمها مره اخرى دعونا نرى هل قسمتنا للبيانات كانت بالشكل الصحيح ؟"
      ],
      "metadata": {
        "id": "Epj7CUA7fT1x"
      }
    },
    {
      "cell_type": "code",
      "source": [
        "# Check the splitting ratios\n",
        "print(f\"Training samples: {len(X_train)} — ratio: {len(X_train) / len(X)}\")\n",
        "print(f\"X_new samples: {len(X_new)} — ratio: {len(X_new) / len(X)}\")"
      ],
      "metadata": {
        "colab": {
          "base_uri": "https://localhost:8080/"
        },
        "id": "ioJIkklCZDUV",
        "outputId": "fa254a80-5abb-4aa6-86f9-ef593938aade"
      },
      "execution_count": null,
      "outputs": [
        {
          "output_type": "stream",
          "name": "stdout",
          "text": [
            "Training samples: 800 — ratio: 0.8\n",
            "X_new samples: 200 — ratio: 0.2\n"
          ]
        }
      ]
    },
    {
      "cell_type": "markdown",
      "source": [
        "كما نرى لقد تم تقسيمها بالشكل الممتاز حيث مجموعة اخذت نصيب 80% من القسمة كما كنا نريده والمتبقي هو 0.2 اي بمعنى 20% الان سوف نقسمها ونأخذ نصف الـ 20% بمعنى سوف نضع بقيمة الباراميتر الخاص بتوزيعها للتدريب 50% لأنها نسبة 20% هي نسبة كاملة هذا هو حدها الاقصى, ونصف أي نسبة مئوية هو 50%"
      ],
      "metadata": {
        "id": "itT0i69Qjioz"
      }
    },
    {
      "cell_type": "code",
      "source": [
        "# Splitting for validation & test\n",
        "X_val, X_test, y_val, y_test = train_test_split(X_new,\n",
        "                                                  y_new,\n",
        "                                                  train_size=0.5,\n",
        "                                                  random_state=1337,\n",
        "                                                  stratify=y_new)"
      ],
      "metadata": {
        "id": "ateeQ1qPZDSH"
      },
      "execution_count": null,
      "outputs": []
    },
    {
      "cell_type": "markdown",
      "source": [
        "لايوجد تغيير كبير فقط تم تغيير الباراميترات بما قمنا بتجهيزة وهي متغيرات\n",
        "X_new + y_new\n",
        "\n",
        "الان النسبه الـ 20% تم تقسيمها الى:\n",
        "- 10% لمجموعة التحقق\n",
        "- 10% لمجموعة الاختبار\n",
        "\n",
        "ومن أجل التحقق من ذلك سوف نفعل كما فعلنا بالكود بالاعلى"
      ],
      "metadata": {
        "id": "wK_a8MXBkZv1"
      }
    },
    {
      "cell_type": "code",
      "source": [
        "# Check the ratios for splitting\n",
        "print(f\"Training samples: {len(X_train)} — ratio: {len(X_train) / len(X)}\")\n",
        "print(f\"Validation samples: {len(X_val)} — ratio: {len(X_val) / len(X)}\")\n",
        "print(f\"Testing samples: {len(X_test)} — ratio: {len(X_test) / len(X)}\")"
      ],
      "metadata": {
        "colab": {
          "base_uri": "https://localhost:8080/"
        },
        "id": "xj0TRXgRZDPl",
        "outputId": "cecf3d03-66eb-4b58-827e-ceca707417bc"
      },
      "execution_count": null,
      "outputs": [
        {
          "output_type": "stream",
          "name": "stdout",
          "text": [
            "Training samples: 800 — ratio: 0.8\n",
            "Validation samples: 100 — ratio: 0.1\n",
            "Testing samples: 100 — ratio: 0.1\n"
          ]
        }
      ]
    },
    {
      "cell_type": "markdown",
      "source": [
        "من اجل التأكد فقط كما نرى نسب التقسيم كما كنا نريده ألا وهو\n",
        "- 80% لمجموعة التدريب\n",
        "- 10% لمجموعة التحقق\n",
        "- 10% لمجموعة الاختبار"
      ],
      "metadata": {
        "id": "khIl5TLAlCIW"
      }
    },
    {
      "cell_type": "code",
      "source": [
        "# Check the shapes for our sets\n",
        "X_train.shape, y_train.shape, X_val.shape, y_val.shape, X_test.shape, y_test.shape"
      ],
      "metadata": {
        "colab": {
          "base_uri": "https://localhost:8080/"
        },
        "id": "mgHBYRNRlCCn",
        "outputId": "fe9e0c7f-090a-47ff-ffd0-56b011e8ffea"
      },
      "execution_count": null,
      "outputs": [
        {
          "output_type": "execute_result",
          "data": {
            "text/plain": [
              "((800,), (800,), (100,), (100,), (100,), (100,))"
            ]
          },
          "metadata": {},
          "execution_count": 41
        }
      ]
    },
    {
      "cell_type": "code",
      "source": [
        "# Checking the dimensions for sets\n",
        "X_train.ndim"
      ],
      "metadata": {
        "colab": {
          "base_uri": "https://localhost:8080/"
        },
        "id": "vKPJiWf5lYGO",
        "outputId": "015faeb7-6ff0-432e-b5d4-53d001e9e6a2"
      },
      "execution_count": null,
      "outputs": [
        {
          "output_type": "execute_result",
          "data": {
            "text/plain": [
              "1"
            ]
          },
          "metadata": {},
          "execution_count": 45
        }
      ]
    },
    {
      "cell_type": "markdown",
      "source": [
        "هنا لمحة سريعة على ابعاد المجموعات لدينا وبسبب انها كلها من مصدر واحد من البيانات وطريقه المعالجة والتقسيم لم نغير بها شيء فلذلك قمنا بالتحقق من عنصر واحد وهو الـ ‏‪ X‬لمجموعة التدريب كما نرى انه ذو بُعد واحد بمعنى انه مصفوفه وحيدة الابعاد ‏‪ (Vector)\n",
        "\n",
        "مالسبب لحرصنا على معرفه هذه المعلومات ؟ السبب راجع لطريقه بناء المدخلات الخاصه بمعماريات التعلم العميق لاحقاً \n",
        "\n",
        "فهنا البُعد الخاص بالبيانات التي نملكها لكل مجموعة عبارة عن اسطر عددها 1000 وهي الجمل كما نتذكر وهي ايضاً عباره عن عامود واحد فقط صحيح ؟ لأنه لايوجد سوى الجمل هذا عامود و التقييمات وهذا العامود الثاني, ولقد تم فصله بطبيعة الحال لأنه ينتمي الى العناصر التي يستطيع التعلم العميق من خلالها تقييم ومعرفه ماهو الجواب لهذه الجملة\n",
        "\n",
        "\n",
        "ملاحظة مهمة: جميع التقسيمات يجب ان تكون قيمها متساوية لبعضها البعض. بمعنى أخر ان عدد القيم في المُتغير  ‏‪ X‬مساويه له في المُتغير ‏‪ Y‬\n",
        "\n",
        "X_train == y_train"
      ],
      "metadata": {
        "id": "bpNm8j0Yll1T"
      }
    },
    {
      "cell_type": "markdown",
      "source": [
        "## Tokenization & Embedding | تقسيم الجُمل وتضمين الكلمات\n",
        "![](https://i.imgur.com/Cop90Ff.jpg)\n",
        "\n",
        "وأخيراً وصلنا إلى جزئية تحويل كل كلمة في المجموعات التي نملكها الى أرقام تستطيع خوارزمية التعلم العميق من إيجاد الانماط وتتعلم وتستطيع تصنيف أراء العملاء للوجبات المقدمة من المطاعم\n",
        "\n",
        "في مجال معالجة اللغات الطبيعية يوجد مفهومان يجب التطرق لهما وهما:\n",
        "- Tokenization (تفريق كلمات الجملة)\n",
        "- Embedding (تمثيل للكلمة على شكل مصفوفات)\n",
        "\n",
        "وكل مفهوم له اكثر من طريقه للاستخدام:\n",
        "- Tokenization:\n",
        "    - Character-level tokenization: حيث يكون كل حرف في الجملة عبارة عن  ‏‪ Token‬\n",
        "        - مثال: كَتَبَ تكون \"ك\" 0, \"ت\" 1, \"ب\" 2 وطبعا الارقام تأتي من حروف اللغة اي بمعنى حرف الكاف لا يمثل 0 بل حسب الترتيب الابجدي لو كانت العربية من أ الى ي وتحولها الى أرقام وبعدها تمثل هذه الارقام على الاحرف في الكلمة بالنص. أي انه حرف الألف هو 0.\n",
        "    - Word-level tokenization: يتم تقسيم كل كلمة في الجملة إلى عنصر ‏‪ Token‬وحيد\n",
        "        - مثال: كتب محمد الدرس تصبح \"كتب\" هي 0  و\"محمد\" هو 1 و \"الدرس\" هو 2\n",
        "    - Sub-word tokenization: هي تقنية تقسم الكلمة حسب مقطعها الصوتي.\n",
        "        - مثال: لو اردنا باللغة الانجليزية نطق كلمة forget فتصبح \"for\" - \"get\" مقطعين وهنا تتحول المقطعين الى توكين كل واحد على حدى\n",
        "        - مصدر للاستزادة: [مقالة جميلة لشخص استعمل هذه التقنية بمشروع](https://nbviewer.org/github/ethen8181/machine-learning/blob/master/deep_learning/subword/bpe.ipynb#Byte-Pair-Encoding-(BPE)---Handling-Rare-Words-with-Subword-Tokenization)\n",
        "\n",
        "- Embedding:\n",
        "    - إنشاء مصفوفه خاصه بك وجعلها تتدرب مع الخوارزمية للتعلم العميق وإيجاد الانماط وتحديثها مع كل إنتهاء لفه.\n",
        "    - إستعمال مصفوفه منشأه مسبقاً من قبل أشخاص نشروها في المصادر الحره كالقيت هب او موقع hugging face وغيرها..\n"
      ],
      "metadata": {
        "id": "6J8-rYS5lqVk"
      }
    },
    {
      "cell_type": "markdown",
      "source": [
        "### Create Text vectorization | إنشاء كائن لتحويل الكلمات إلى أرقام\n",
        "الان سوف نبدأ عملية تحويل الكلمات الى أرقام وسوف نستعمل في التحويل تقنية\n",
        "- Word-level tokenization\n",
        "\n",
        "وسوف نقوم ببناء ‏‪ Embedding‬من الصفر وندربها مع الخوارزمية التي سوف نقوم ببنائها بعد هذه العمليات.\n",
        "\n",
        "وأيضاً سوف نشرح طريقه جديدة لم نشرحها في الفصل الأول من هذا الكتيب ألا وهي كيفية بناء النماذج للتعلم العميق باستخدام ‏‪ Functional API\n",
        "\n",
        "لكن قبل ذلك يجب علينا إيجاد قيم بعض من المتغيرات قبل البدء وإنشاء هذه الدالة ‏‪ (TEXT VECTORIZER)‬ونشرح قيمها:\n",
        "- كم حجم معجم المفردات الذي تملكه ويجب ان تكون الكلمات الفريدة وليست بالتكرار\n",
        "- كم الطول الاقصى للجُمل التي لديك ؟\n"
      ],
      "metadata": {
        "id": "X4WYTl_9vJ5f"
      }
    },
    {
      "cell_type": "code",
      "source": [
        "# Inspect how many words in a sentence\n",
        "[len(sentence.split()) for sentence in X_train][0]"
      ],
      "metadata": {
        "colab": {
          "base_uri": "https://localhost:8080/"
        },
        "id": "XRg-qK0wyzDp",
        "outputId": "7632cf7b-6c74-4648-a770-7b6c99da2280"
      },
      "execution_count": null,
      "outputs": [
        {
          "output_type": "execute_result",
          "data": {
            "text/plain": [
              "20"
            ]
          },
          "metadata": {},
          "execution_count": 29
        }
      ]
    },
    {
      "cell_type": "markdown",
      "source": [
        "من خلال الـ  ‏‪ List Comprehension‬في الاعلى نستطيع إيجاد كم عدد الكلمات الموجودة في الجملة وبهذه الطريقة نستطيع إيجاد طول كل جملة في هذه البيانات ونقسمها على عددها الكلي لإيجاد متوسط الطول للجمل لأن المتبقي سوف يتم اقتصاصه ووضع مكانه 0."
      ],
      "metadata": {
        "id": "IzUBZCoE1Ahz"
      }
    },
    {
      "cell_type": "code",
      "source": [
        "# Calculate how many words in entire text rows\n",
        "sum([len(sentence.split()) for sentence in X_train])"
      ],
      "metadata": {
        "colab": {
          "base_uri": "https://localhost:8080/"
        },
        "id": "GQx93Z3l1oBm",
        "outputId": "2a306b54-9f8d-4fcc-83f1-7c6af93d1404"
      },
      "execution_count": null,
      "outputs": [
        {
          "output_type": "execute_result",
          "data": {
            "text/plain": [
              "5280"
            ]
          },
          "metadata": {},
          "execution_count": 30
        }
      ]
    },
    {
      "cell_type": "markdown",
      "source": [
        "من خلال تغليف كامل السطر الذي بالاعلى بدالة ‏‪ sum()\n",
        "\n",
        "نستطيع من خلالها ايجاد اجمالي عدد الكلمات ونستطيع بعدها قسمتها على العدد بالكامل للجمل"
      ],
      "metadata": {
        "id": "IIVuaMkx1ul2"
      }
    },
    {
      "cell_type": "code",
      "source": [
        "# Calculate the avg sentence length\n",
        "sum([len(sentence.split()) for sentence in X_train])/len(X_train)"
      ],
      "metadata": {
        "colab": {
          "base_uri": "https://localhost:8080/"
        },
        "id": "64Ggm5NR18oW",
        "outputId": "934f76bd-fd26-453a-f04a-61549e50bd17"
      },
      "execution_count": null,
      "outputs": [
        {
          "output_type": "execute_result",
          "data": {
            "text/plain": [
              "6.6"
            ]
          },
          "metadata": {},
          "execution_count": 31
        }
      ]
    },
    {
      "cell_type": "markdown",
      "source": [
        "كما نرى لقد قسمنا جميع عدد الكلمات على اجمالي عدد الجمل التي نملك وظهر لنا رقم 6.6 لكن هنالك مشكله الدالة لاتقبل ارقام بفواصل وهذا شيء منطقي لأن عندما يتم تحويل الكلمات الى ارقام وبعدها يتم اقتصاص الزائد من الجملة لايوجد هنالك جمله سليمة لغويا تملك عدد كلمات 6.6\n",
        "\n",
        "الحل: استعمال دالة موجودة بلغة البايثون ايضاً وهي  ‏‪ round()\n",
        "\n",
        "سوف نغلف جميع الكود بالاعلى بالكامل وتعيين المخرج منه الى متغير جديد نسمية ‏‪ max_length"
      ],
      "metadata": {
        "id": "e-t7eR5j2AWd"
      }
    },
    {
      "cell_type": "code",
      "source": [
        "# The average length of words in sentences\n",
        "max_length = round(sum([len(sentence.split()) for sentence in X_train])/len(X_train))\n",
        "max_length"
      ],
      "metadata": {
        "colab": {
          "base_uri": "https://localhost:8080/"
        },
        "id": "RIehCVdO2p5y",
        "outputId": "3e8801d5-ff58-4f01-eba4-b168b6a6d3a5"
      },
      "execution_count": null,
      "outputs": [
        {
          "output_type": "execute_result",
          "data": {
            "text/plain": [
              "7"
            ]
          },
          "metadata": {},
          "execution_count": 32
        }
      ]
    },
    {
      "cell_type": "markdown",
      "source": [
        "ممتاز تم تقريب العدد الى 7 فيما معناه ان الدالة الان سوف تعمل على تحويل الكلمات الى ارقام وعند حصول جملة على اكثر من 7 كلمات سوف يتم اخذ فقط اول 7 كلمات والباقي يوضع مكانه اصفار"
      ],
      "metadata": {
        "id": "UPvQsalj42vQ"
      }
    },
    {
      "cell_type": "code",
      "source": [
        "# Setting sizes for hyperparameters\n",
        "max_vocabulary = 1000\n",
        "\n",
        "# Initialize text vectorizer\n",
        "text_vectorizer = layers.TextVectorization(max_tokens=max_vocabulary,\n",
        "                                           ngrams=None,\n",
        "                                           output_mode=\"int\",\n",
        "                                           output_sequence_length=max_length)\n",
        "text_vectorizer.adapt(X_train)"
      ],
      "metadata": {
        "id": "Q44-m-bDlBKE"
      },
      "execution_count": null,
      "outputs": []
    },
    {
      "cell_type": "markdown",
      "source": [
        "تم إنشاء الكلاس لتحويل النصوص إلى أرقام لكن لو نلاحظ انه تم استدعائها من  ‏‪ layers‬الخاصة بمكتبة  ‏‪ TensorFlow‬وهذا يعني انه يمكن استعمالها كطبقة في المودل.\n",
        "\n",
        "الان سوف نشرح كل باراميتر في هذا الكلاس وماهي فائدته:\n",
        "- max_tokens: كم عدد المفردات المميزة في البيانات التي لديك وعاده تأتي لو البيانات كانت ضخمة على صيغة 10 الاف, 20 الف, 30 الف كلمة وهكذا.\n",
        "\n",
        "    - توضيح: وضعت هنا 1000 فقط لأن حجم البيانات قبل تقسيمها لمجموعات كان هذا عددها لكن تستطيعون وضع الرقم الموجود في مجموعة التدريب لكن انتبهوا يجب عليكم اضافه أشياء إضافية مثل المسافة و ‏‪ OOV\n",
        "\n",
        "    - توكين ‏‪ OOV‬هي كلمة ليست موجودة بالبيانات التي حددتها مثلاً بالنسبة لي البيانات جميعها عبارة عن 1000 صف من الجمل سوف نواجه عند تجربة جمل ليست موجودة بهذا المعجم الصغير ذو ال1000 جملة من الكلمات. عندها سوف نتحصل على هذا التوكين.\n",
        "\n",
        "- nrgams: وهي صيغة تحويل الكلمات هذه هل تريدها على فرد من كلمتين ؟ ام 3 كلمات وهكذا\n",
        "    - توضيح: ماذا تعني قيمة ‏‪ None‬هي عند وضعها تعني انه لاتفعل شيء فقط عالج البيانات كما تأتيك (ونحن نمرر البيانات للدالة كصيغة كلمة كلمة)\n",
        "- output_mode: طريقة معالجة النصوص هل تريد إخراج الكلمة بعد المعُالجة مثلا بصيغة 0,1,2 أم تريدها بصيغة [0,0,1]\n",
        "    - توضيح: صيغة الـ ‏‪ Integers‬وهي صيغة الارقام العشرية, صيغة الـ ‏‪OneHot‬و هي التي نراها كأصفار والكلاس الصحيح موضوع عنده الرقم واحد\n",
        "        - مثال: [0,1,0]\n",
        "- output_sequence_length: طول الجملة التي تظهر بالمخرجات وهي التي حددناها بالكود الذي في الاعلى وخرج لنا رقم 7. اعلى من هذا الرقم سوف يتم اقتصاص الجملة واذا كانت اقل من 7 كلمات سوف يتم تعبئة اماكنها بالاصفار حتى تصل الى رقم 7 وهو الحد الاقصى الذي منحناه لكل جملة موجودة في هذه البيانات\n",
        "    - توضيح: لماذا نريد جعل طول الجملة رقم لايتغير السبب الأول هو كي يتم معالجة البيانات في طبقات الخوارزمية يجب ان تكون سلسلة البيانات ذو بُعد واحد والسبب الاخر لو اردنا استعمالها كـ  ‏‪ Batches\n",
        "\n",
        "- adapt: من غير هذه الدالة في لا يستطيع هذا الكائن معرفه المفردات التي يجب تحويلها. لو شبهناها في شيء فهي تشبه خوارزميات تعلم الالة مالم تدربها على البيانات لاتستطيع التصنيف.\n",
        "\n",
        "مصادر للقراءة:\n",
        "- [Tensorflow docs](https://www.tensorflow.org/api_docs/python/tf/keras/layers/TextVectorization)\n",
        "- [Multi-label Text Classification with Keras by Usman Malik](https://stackabuse.com/python-for-nlp-multi-label-text-classification-with-keras/)\n",
        "\n",
        "الان دعونا نجرب قليلاً ماذا نستطيع ان نستخرج ونرى من مخرجات هذه الدالة"
      ],
      "metadata": {
        "id": "rtAx2FPU5MpN"
      }
    },
    {
      "cell_type": "code",
      "source": [
        "# Convert text to numbers\n",
        "sample_sentence = \"That's a bad food don't eat it!\"\n",
        "text_vectorizer([sample_sentence])"
      ],
      "metadata": {
        "colab": {
          "base_uri": "https://localhost:8080/"
        },
        "id": "Tc2fWZNS3Bdc",
        "outputId": "2fedfa38-821f-4f2b-f40b-39330af3ef76"
      },
      "execution_count": null,
      "outputs": [
        {
          "output_type": "execute_result",
          "data": {
            "text/plain": [
              "<tf.Tensor: shape=(1, 7), dtype=int64, numpy=array([[464, 184,  55,   4, 399,  35,  11]])>"
            ]
          },
          "metadata": {},
          "execution_count": 34
        }
      ]
    },
    {
      "cell_type": "markdown",
      "source": [
        "كما نرى هذه 7 كلمات وقام هذا الكائن بتحويل النصوص بشكل ممتاز ولو كانت الجملة اقل من 7 كلمات لرأينا الاصفار واترك لكم التجربة الان لو اردتم\n",
        "\n",
        "الان دعونا نرى المزيد من قيم التي نستطيع استخراجها من هذه الدالة"
      ],
      "metadata": {
        "id": "7CMjVC_Z86iN"
      }
    },
    {
      "cell_type": "code",
      "source": [
        "# Inspect the values returned by text vectorizer\n",
        "words_in_vocabulary = text_vectorizer.get_vocabulary()\n",
        "top_5_words = words_in_vocabulary[0:5]\n",
        "bottom_5_words = words_in_vocabulary[-5:]\n",
        "print(f\"Full number of Vocabulary: {len(words_in_vocabulary)}\")\n",
        "print(f\"top 5 most common words: {top_5_words}\")\n",
        "print(f\"Bottom 5 least common words: {bottom_5_words}\")"
      ],
      "metadata": {
        "colab": {
          "base_uri": "https://localhost:8080/"
        },
        "id": "yvWUgPGs3BvU",
        "outputId": "80881688-9cf9-4e61-97d7-b9f1cb197a69"
      },
      "execution_count": null,
      "outputs": [
        {
          "output_type": "stream",
          "name": "stdout",
          "text": [
            "Full number of Vocabulary: 1000\n",
            "top 5 most common words: ['', '[UNK]', 'i', 'the', 'food']\n",
            "Bottom 5 least common words: ['rudely', 'rubber', 'rowdy', 'round', 'rotating']\n"
          ]
        }
      ]
    },
    {
      "cell_type": "markdown",
      "source": [
        "ماذا قمنا باستخراجة هنا هو اعلى 5 كلمات تكراراً واقل 5 كلمات استخداماً ويمكننا ايضاً استخراج كم عدد المفردات التي يمتلكها وهي بالطبع ماقمنا بتعريف الكلاس عليه وهي 1000 كلمة\n",
        "\n",
        "سؤال: ماهو الشيء المكتوب كـ  ‏‪ [UNK]‬هذا يدل على ان هنالك كلمات  ‏‪ OOV(Out of vocabulary)‬وهي مشكلة شائعة تحدث عندما توجد كلمات كثيرة ليست شائعة ويكون حجم المفردات التي عرفتها بالدالة كانت رقم صغير كمثل أن نملك بيانات بحجم 1000 جملة ووضعنا الحد الاقصى للمفردات التي يستطيع احتوائها ومعالجتها هي 1000 فقط. لربما كانت هنالك كلمات ليست من ضمن الـ 1000 وهذا يحدث لأن مستحيل ان نغطي جميع مفردات اللغة فقط بـ 1000 جملة"
      ],
      "metadata": {
        "id": "NYj_JoY99tOD"
      }
    },
    {
      "cell_type": "markdown",
      "source": [
        "### Create an Embedding | إنشاء كائن لتضمين الكلمات\n",
        "بعد وصولنا الى هذه النقطة يمكننا الان ان ندرب الخوارزمية على هذه البيانات التي نملك وهي النصوص ولقد حولناها الى ارقام والكلاسات لكل نص موجود.\n",
        "\n",
        "لكن لماذا نريد إنشاء تضمين الكلمات ‏‪ (Embedding)‬؟ ؟ لكن أولاً نريد قول حقيقة أنه يمكننا الان جعل الخوارزمية للتعلم العميق ان تتدرب على البيانات التي لدينا وهي مجرد نصوص تحولت الى ارقام مع كل جملة بكلاس خاص بها. لكن تخيل معي ان هنالك تقنية تسمح لك بجعل كل ترميز لكلمة تم وضعها بمصفوفه أيضاً يمكنها ان تتطور وتتدرب مع تقدم الخوارزمية بالتدريب ويصبح لديها منحنى يعبر عن تقارب كلمتين مع بعض ومعناهم هل هو قريب ام لا.\n",
        "\n",
        "مصدر للاستزادة: \n",
        "- فيديو من قناة المهندس [هشام عاصم](https://www.youtube.com/watch?v=73QZH7Be85Y)\n",
        "\n",
        "لذلك سوف نقوم بإنشاء تضمين كلمات من الصفر خاص بنا  ‏‪ (Embedding)\n",
        "\n",
        "نستطيع إنشاء هذا الشيء من مكتبة ‏‪ TensorFlow‬\n",
        "\n",
        "- [tf.keras.layers.Embedding()](https://www.tensorflow.org/api_docs/python/tf/keras/layers/Embedding)\n"
      ],
      "metadata": {
        "id": "ZQNyUYI7oJnG"
      }
    },
    {
      "cell_type": "code",
      "source": [
        "# Initialize embedding layer\n",
        "embedding = layers.Embedding(input_dim=max_vocabulary,\n",
        "                             output_dim=32,\n",
        "                             input_length=max_length,\n",
        "                             name=\"Embedding_B0\")\n",
        "embedding"
      ],
      "metadata": {
        "colab": {
          "base_uri": "https://localhost:8080/"
        },
        "id": "Kall1PtReybp",
        "outputId": "e2f90494-a122-49ba-b252-0b217bca8d01"
      },
      "execution_count": null,
      "outputs": [
        {
          "output_type": "execute_result",
          "data": {
            "text/plain": [
              "<keras.layers.embeddings.Embedding at 0x7f28759e2b10>"
            ]
          },
          "metadata": {},
          "execution_count": 36
        }
      ]
    },
    {
      "cell_type": "markdown",
      "source": [
        "ممتاز! تم إنشاء طبقة تضمين الكلمات من مكتبة ‏‪ TensorFlow‬فكما نرى تم ارجاع عنوانها في الذاكرة, الان زي ماتعودنا نشرح كل باراميتر مع بعض الامثله وفي الاخير نرى التجربة على نص حقيقي للتجريب فقط قبل ان نبني الخوارزمية وندربها.\n",
        "\n",
        "---\n",
        "شرح كل باراميتر:\n",
        "- input_dim: هي حجم المفردات الخاصه بالبيانات كامله لديك وهي التي حددناها من قبل وهي 1000 جملة ولكن ايضاً يمكننا وضع الرقم بالضبط عن طريق استخدام الكائن الخاص بطبقة تحويل النصوص الى ارقام ‏‪ Text Vectorizer\n",
        "‬\n",
        "    - كيف تستخرج الرقم بالضبط : len(text_vectorizer.get_vocabulary())\n",
        "    - طبعا لو كنت تتبع نفس المنهجية وهي وضع ارقام مضاعفات العدد ألف فيمكنك استعمال نفس المتغير المنشأ سابقاً وهو  ‏‪ (max_vocabulary)‬\n",
        "\n",
        "- output_dim: هو حجم المصفوفه للكلمة\n",
        "    - مثال: لو وضعنا الرقم 32 هذا يعني ان المصفوفه للكلمة \"برتقالة\" هو 32 رقم بداخلها وهكذا مع باقي الكلمات في الجملة الواحدة\n",
        "    - توضيح: هذا الرقم يأتي بالتجريب وليس له قانون يتبع حسب معرفتي ولكن هنالك مقاله من غوغل وضعو بها كيفية اختيار الرقم [للاطلاع على المقاله](https://developers.googleblog.com/2017/11/introducing-tensorflow-feature-columns.html)\n",
        "    - أرقام يمكنك تجربتها حسب تجاربي السابقة : 32, 64, 128, 256, 768, 1024\n",
        "        - ملاحظة: احذرو من حجم البيانات لديكم وحجم الابعاد التي تضعونها في تضمين الكلمات على سبيل المثال البيانات التي نعمل عليها الان مكونه من 1000 جملة فوضعت بشكل تقريبي 32 وليس رقم كبير على سبيل المثال 300 لكي لاتحدث مشكلة فرط التخصيص ‏‪ (Overfitting)‬\n",
        "\n",
        "- input_length: هو عدد سلسلة الكلمات التي تمر من خلال هذه الطبقة, لو تتذكرون أقصى عدد للكلمات وضعناه هو 7 حسب العمليات التي قمنا بها.\n",
        "- name: أسم الطبقة لو اردت تسميه خاصه بها\n",
        "    - توضيح: بعد بناء الخوارزمية واستدعاء الدالة ‏‪ .summary()‬سوف نرى أسماء كل طبقة في المعمارية التي لدينا."
      ],
      "metadata": {
        "id": "hxlMycWG3_Lm"
      }
    },
    {
      "cell_type": "markdown",
      "source": [
        "#### Inspecting what embeddings output | فحص مُخرجات كائن تضمين الكلمات"
      ],
      "metadata": {
        "id": "AuoILAyrCl5f"
      }
    },
    {
      "cell_type": "code",
      "source": [
        "# Get a random sentence \n",
        "random_sample = random.choice(X_train)\n",
        "\n",
        "# Print original text before conversion\n",
        "print(f\"Original text: {random_sample}\")\n",
        "\n",
        "# Embed the random sentence\n",
        "embedded_text = embedding(text_vectorizer([random_sample]))\n",
        "\n",
        "# Print converted text after conversion\n",
        "print(f\"Shape of embedded text: {embedded_text.shape} \\nConverted text: {embedded_text}\")"
      ],
      "metadata": {
        "colab": {
          "base_uri": "https://localhost:8080/"
        },
        "id": "8V1666ma3WuH",
        "outputId": "eaeb8907-099c-4d43-df7b-e003489fd4b0"
      },
      "execution_count": null,
      "outputs": [
        {
          "output_type": "stream",
          "name": "stdout",
          "text": [
            "Original text: After disappointing dinner went elsewhere dessert.\n",
            "Shape of embedded text: (1, 7, 32) \n",
            "Converted text: [[[-0.04765464 -0.04763227  0.00036535  0.0313457  -0.01733092\n",
            "    0.00020907  0.03502775 -0.02268287 -0.02711328 -0.03019412\n",
            "    0.00725249 -0.04892396 -0.04294168  0.04917631 -0.02782937\n",
            "   -0.03574351 -0.01071206  0.0062236  -0.02915493 -0.01595285\n",
            "    0.03757471 -0.0349002  -0.03450648  0.01417737  0.01391784\n",
            "    0.03477761 -0.01764455  0.02849323 -0.04569986  0.02193341\n",
            "   -0.01143639 -0.00044153]\n",
            "  [ 0.00686746  0.01974436 -0.0114121   0.04560746  0.04215536\n",
            "   -0.04676114  0.00800567  0.02502067  0.03434778  0.01473479\n",
            "    0.04657396 -0.03772676  0.02254634 -0.04945636 -0.00638063\n",
            "    0.02942249 -0.04962204 -0.02607812 -0.03628654 -0.03269324\n",
            "   -0.03862805 -0.00720366  0.00474144 -0.02283984  0.03352724\n",
            "    0.03605613 -0.02135223  0.03655081 -0.03581027 -0.02316248\n",
            "    0.00225051  0.02865478]\n",
            "  [-0.00334591 -0.04257112  0.04135454 -0.02891086 -0.00568647\n",
            "   -0.02963394  0.01251724 -0.01891013 -0.00346558  0.02212865\n",
            "    0.04058203 -0.00256652 -0.00555425 -0.04473896 -0.00229486\n",
            "   -0.03395982  0.00475932 -0.01379419 -0.02955711  0.01085754\n",
            "    0.01536832 -0.01345346  0.01481349  0.04340713 -0.02366077\n",
            "    0.04628539 -0.02714902  0.01902482 -0.00639926  0.03129626\n",
            "    0.01854667 -0.02520884]\n",
            "  [ 0.00129735  0.00393545  0.03543666 -0.03175431 -0.01043367\n",
            "   -0.01473363  0.03691495  0.00663651  0.0228627  -0.00992477\n",
            "    0.03386793 -0.0124227  -0.02965434  0.04336864 -0.04771173\n",
            "   -0.00466152  0.02088242 -0.0382477  -0.0292403  -0.01554447\n",
            "   -0.031063   -0.02674833  0.03970518  0.00406153  0.04579004\n",
            "   -0.0398937   0.01914724  0.0405939   0.0446584  -0.01140039\n",
            "   -0.02703494 -0.00631811]\n",
            "  [-0.03698428  0.03930055  0.03569665 -0.02269015  0.04601682\n",
            "    0.04066852  0.00969953  0.02465766 -0.0126983  -0.031463\n",
            "   -0.04950448  0.02849591 -0.00031536  0.02328468 -0.02288911\n",
            "    0.03103591 -0.02009648  0.0039451   0.03299513 -0.01282004\n",
            "    0.03054691 -0.04307634  0.03997976  0.0185626  -0.03461068\n",
            "    0.00706539  0.02998937  0.02444575 -0.00871266  0.02565981\n",
            "    0.01803282 -0.00599285]\n",
            "  [ 0.04058919  0.01622775 -0.00596871  0.00469283 -0.0477901\n",
            "    0.02833654  0.03756105 -0.00804936 -0.00295252  0.03967562\n",
            "    0.03638354  0.0448086  -0.01376488  0.01060753  0.02596762\n",
            "   -0.00625362 -0.04951512  0.04440024  0.04859865  0.00685658\n",
            "   -0.01006492  0.02456542  0.00201012  0.0367036   0.02195747\n",
            "    0.0018     -0.03428922  0.00396838  0.02850986  0.04783021\n",
            "   -0.00973885  0.00589845]\n",
            "  [-0.02598985 -0.04554372  0.00948758  0.04359292 -0.00793239\n",
            "    0.01561311  0.02547849  0.04500148 -0.03920174  0.047173\n",
            "    0.03968215 -0.04291968 -0.0244031   0.03013411  0.04666925\n",
            "    0.04218867  0.01933316  0.01900795  0.02794954 -0.01234324\n",
            "    0.00817104 -0.03756881  0.00042583  0.03350881 -0.02378873\n",
            "   -0.04894666 -0.00119665 -0.02000198  0.03567109 -0.04558745\n",
            "    0.03750116  0.01387935]]]\n"
          ]
        }
      ]
    },
    {
      "cell_type": "markdown",
      "source": [
        "أول شيء راح نعلق عليه هو ضخامة وعشوائية هذه الأرقام, هذه هي تقنية تضمين الكلمات وكما قلنا ان لكل كلمة  حجمها 32 فكما ترون هنالك قائمة بداخل قائمة اخرى مليئة بالارقام.\n",
        "\n",
        "الان دعونا نشرح ماذا فعلنا بكل سطر:\n",
        "- random.choice(X_train): هنا استخدمنا مكتبة ‏‪ Random‬من اجل جلب جملة عشوائية لدينا من مجموعة التدريب وهذا للتوضيح فقط لن يتم سحب هذه الجملة بشكل نهائي من هذه المجموعة, فقط نسخة منه وارجاع هذه النسخة في متغير جديد وضعناه.\n",
        "- embedding(text_vectorizer([random_sample])): لو نرى في هذا السطر قد يتسائل البعض أو من لديه سوء فهم بالموضوع لماذا تم استعمال كائن  ‏‪ text_vectorizer‬و بداخل تضمين الكلمات ؟ الجواب بكل بساطة هذه تقنية تستخدم الأرقام وايجاد العلاقات بين الكلمات الاخرى وليست لتخزين النصوص تذكروا ليست من اجل النصوص الخام بل يجب ان تكون محوله الى أرقام.\n",
        "\n",
        "وأيضاً نرى ان حجم هذا المتغير كالتالي:\n",
        "\n",
        "Shape of embedded text: (1, 7, 32) \n",
        "\n",
        "حسناً من توقع ان رقم 32 هو الرقم الذي وضعناه كمخرجات لكل كلمة من هذه الطبقة و 7 هو حد الكلمات المسموح في الجملة التي وضعناها بطبقة تحويل النصوص الى ارقام فسأقول أحسنت, لكن ماهو رقم 1 الذي في البداية ؟\n",
        "\n",
        "هذا راجع لسبب اننا قمنا بوضع جملة واحدة فقط لهذه الطبقة ومررناها فإذا وضعت رقم 1 بدلاله انه تلقت مدخل واحد. بمعنى لو لديك 5000 جملة وقمت بتجربتها دفعه واحدة فإذا سوف يتغير الرقم من 1 الى 5000.\n",
        "\n",
        "شيء اخير دعونا نرى كيف نستطيع الوصول الى اول جملة ونستخرج ثاني كلمة ‏‪ (Token)‬"
      ],
      "metadata": {
        "id": "nTYVsTh0AWbZ"
      }
    },
    {
      "cell_type": "code",
      "source": [
        "# Check the First sentence, 2nd token\n",
        "embedded_text[0][1]"
      ],
      "metadata": {
        "colab": {
          "base_uri": "https://localhost:8080/"
        },
        "id": "sw2Am-f2_y7e",
        "outputId": "a55de60a-ed21-4b46-a07a-00e8f14f269a"
      },
      "execution_count": null,
      "outputs": [
        {
          "output_type": "execute_result",
          "data": {
            "text/plain": [
              "<tf.Tensor: shape=(32,), dtype=float32, numpy=\n",
              "array([ 0.00686746,  0.01974436, -0.0114121 ,  0.04560746,  0.04215536,\n",
              "       -0.04676114,  0.00800567,  0.02502067,  0.03434778,  0.01473479,\n",
              "        0.04657396, -0.03772676,  0.02254634, -0.04945636, -0.00638063,\n",
              "        0.02942249, -0.04962204, -0.02607812, -0.03628654, -0.03269324,\n",
              "       -0.03862805, -0.00720366,  0.00474144, -0.02283984,  0.03352724,\n",
              "        0.03605613, -0.02135223,  0.03655081, -0.03581027, -0.02316248,\n",
              "        0.00225051,  0.02865478], dtype=float32)>"
            ]
          },
          "metadata": {},
          "execution_count": 38
        }
      ]
    },
    {
      "cell_type": "markdown",
      "source": [
        "بهذه الطريقة نستطيع التوصل الى اول جملة وثاني كلمة موجودة به.\n",
        "\n",
        "سؤال بسيط: كيف عرفت انه يجب وضع 0 وبعدها رقم 1 ؟\n",
        "\n",
        "الجواب: حسب الترتيب الذي رأيناه عندما رأينا ابعاد المتغير العائد من طبقة تضمين الكلمات ‏‪ (Embedding)‬\n",
        "\n",
        "(1, 7, 32) ونبدأ من اليسار الى اليمين فأول خانه قلنا انها الجملة فوضعنا صفر والخانه الثانيه تمثل الكلمات في الجملة ولذلك وضعنا رقم 1, لماذا رقم 1 ؟ بسبب انه النظام يبدأ من الانديكس 0 لذلك صفر هو الانديكس 1 والخانه 2 هو الانديكس 1\n",
        "\n",
        "ورقم 32 هو حجم المصفوفه العائده لكل كلمة وليس جملة.\n"
      ],
      "metadata": {
        "id": "-S7R7QNfDONV"
      }
    },
    {
      "cell_type": "markdown",
      "source": [
        "الان في ختام تجهيز البيانات بشكل مبدئي ومقبول نستطيع ان نبدأ في بناء الخوارزميات وتدريبها على البيانات التي صنعناها.\n",
        "\n",
        "ملاحظة: مفهوما تحويل النصوص و تضمين الكلمات هي حجر الاساس في معالجة اللغات الطبيعية لذلك رجاءًا لا تتسرع حتى تفهمها بشكل جيد وبعدها اكمل الجزء التالي...\n",
        "\n"
      ],
      "metadata": {
        "id": "5hpHQtFOEb35"
      }
    },
    {
      "cell_type": "markdown",
      "source": [
        "## Building models | إنشاء المعماريات\n",
        "والان وصلنا لفقرة بناء الخوارزميات وسوف نتمكن اخيراً من بناء المعماريات المختلفه من:\n",
        "- Dense (FC Aka. Fully connected)\n",
        "- LSTM (Long short-term memory)\n",
        "- Bi-directional LSTM (Bidirectional long short-term memory)\n",
        "- GRU (Gated recurrent units)\n",
        "- Conv1D (Convolutional neural network 1 dimension)\n",
        "\n",
        "وسوف نبدأ بها بالترتيب من اعلى القائمة الى الاسفل وسوف نرى أداء كل واحدة ونقوم بتقييمها على مقاييس مختلفه كمثل\n",
        "\n",
        "F1, Precesion, Recall, Accuracy\n",
        "\n",
        "الطريقة المستعمله في بناء الطبقات الان سوف تختلف عن الفصل السابق (الرؤية الحاسوبية) حيث تم استعمال طريقة  ‏‪ Sequential‬ولكن هذه المره سوف نستعمل الطريقه الاخرى وهي باستعمال ‏‪ Functional API‬و  هذه الطريقة تتيح حرية باستعمال وربط الطبقات ببعضها البعض ويمكنك توصيل طبقات كثيره بطبقه واحده.\n",
        "\n",
        "المفتاح لفهم كيف تعمل هو \"كيف يتم ربط الطبقات ببعض\" إذا فهمت هذا المفهوم فسوف تسهل جميع الاشياء الاخرى لأنها تشبه بعضها ولا يوجد اختلاف كبير عن المودلات في فصل الرؤية الحاسوبية.\n",
        "\n",
        "\n",
        "اطار العمل المتبع لن يختلف كثيراً ببقيه المعماريات وهي كالآتي:\n",
        "- Input layer (نعرف المعمارية بحجم المدخل ونوعه)\n",
        "- Text Vectorization (تحويل المدخل الى ارقام بالاعدادات التي وضعناها له)\n",
        "- Embedding layer (عمل مصفوفه لكل رقم موجود لدينا اللي هي الكلمة)\n",
        "- {أحد المعماريات} أو GlobalAveragePooling1D()\n",
        "    - GlobalAveragePooling1D: هذه الطبقة جديده وسوف نشرح ماذا تفعل وماهي اهميتها عند بناء المعمارية .\n",
        "- Output layer (Dense layer)"
      ],
      "metadata": {
        "id": "t2FOLrsRFalh"
      }
    },
    {
      "cell_type": "markdown",
      "source": [
        "### Dense model | معمارية الشبكة العصبية تامة الاتصال"
      ],
      "metadata": {
        "id": "7Lpf_mOJKPfB"
      }
    },
    {
      "cell_type": "code",
      "source": [
        "# Set seed for reproducability \n",
        "tf.random.set_seed(1337)\n",
        "\n",
        "# Create the Dense model\n",
        "model_1_inputs = layers.Input(shape=(1,), dtype=tf.string)\n",
        "text_vectorized = text_vectorizer(model_1_inputs)\n",
        "text_embed = embedding(text_vectorized)\n",
        "average_pooling = layers.GlobalAveragePooling1D()(text_embed)\n",
        "fc_layer = layers.Dense(8, activation=\"relu\")(average_pooling)\n",
        "model_1_outputs = layers.Dense(1, activation=\"sigmoid\")(fc_layer)\n",
        "\n",
        "# Build the model\n",
        "model_1 = tf.keras.Model(inputs=model_1_inputs,\n",
        "                         outputs=model_1_outputs,\n",
        "                         name=\"Model_1_Dense\")\n",
        "\n",
        "# Compile the model\n",
        "model_1.compile(loss=\"binary_crossentropy\",\n",
        "                optimizer=\"adam\",\n",
        "                metrics=[\"accuracy\"])\n",
        "\n",
        "# Summary of model\n",
        "model_1.summary()\n",
        "\n",
        "# Visualize the architecture\n",
        "tf.keras.utils.plot_model(model_1)"
      ],
      "metadata": {
        "colab": {
          "base_uri": "https://localhost:8080/",
          "height": 963
        },
        "id": "z-Gqhi_kC8oT",
        "outputId": "54da8705-e9b7-406b-a5fa-01e64066f1e5"
      },
      "execution_count": null,
      "outputs": [
        {
          "output_type": "stream",
          "name": "stdout",
          "text": [
            "Model: \"Model_1_Dense\"\n",
            "_________________________________________________________________\n",
            " Layer (type)                Output Shape              Param #   \n",
            "=================================================================\n",
            " input_3 (InputLayer)        [(None, 1)]               0         \n",
            "                                                                 \n",
            " text_vectorization (TextVec  (None, 7)                0         \n",
            " torization)                                                     \n",
            "                                                                 \n",
            " Embedding_B0 (Embedding)    (None, 7, 32)             32000     \n",
            "                                                                 \n",
            " global_average_pooling1d_1   (None, 32)               0         \n",
            " (GlobalAveragePooling1D)                                        \n",
            "                                                                 \n",
            " dense_4 (Dense)             (None, 8)                 264       \n",
            "                                                                 \n",
            " dense_5 (Dense)             (None, 1)                 9         \n",
            "                                                                 \n",
            "=================================================================\n",
            "Total params: 32,273\n",
            "Trainable params: 32,273\n",
            "Non-trainable params: 0\n",
            "_________________________________________________________________\n"
          ]
        },
        {
          "output_type": "execute_result",
          "data": {
            "image/png": "[encoded data removed]",
            "text/plain": [
              "<IPython.core.display.Image object>"
            ]
          },
          "metadata": {},
          "execution_count": 49
        }
      ]
    },
    {
      "cell_type": "markdown",
      "source": [
        "#### Fitting the model | البدء في تدريب الخوارزمية\n",
        "الان سوف نُفَصِل كل جزء من الكود بالتفصيل الممل لأن باقي الكود يشبه بعضه لباقي المعماريات وتغيير طفيف فقط\n",
        "\n",
        "قبل البدء اود ان اضع صورة توضيحية للكود بالاعلى بصورة أفضل:\n",
        "![Functional API](https://i.imgur.com/mDXKoDf.gif)\n",
        "\n",
        "لمن أراد النسخة للصورة غير المتحركة: [Functional API PNG](https://i.imgur.com/O7JxrEw.png)\n",
        "\n",
        "---\n",
        "\n",
        "حسنا اذا سوف نبدأ بكل سطر كود وماهي الباراميترات ولماذا وضعت بالقيم هذه\n",
        "\n",
        "tf.random.set_seed():\n",
        "- من أجل جعل النتائج لهذه التجربة قابله للاعادة لمن اراد تجربتها لاحقاً\n",
        "\n",
        "layers.Input():\n",
        "- shape: معناه المدخلات الى هذه المعمارية كيف شكله ؟ هل هو نفس الصور في السابق بأبعاد  ‏‪ (224, 224, 3)‬أم انه مجرد بُعد واحد فقط ؟ طبعا اخترنا انه بُعد واحد والسبب راجع لأن الجمل كلها سطر واحد.\n",
        "    - توضيح: لماذا كتبت (,1) بهذه الصيغة السبب راجع لمكتبة  ‏‪ TensorFlow‬وطريقتها لمعالجة هذا الشيء, وهذا يدل على انه هنالك مدخل لجملة نصية واحدة\n",
        "- dtype: هذا مايحدد نوع المدخل هل هو رقم ؟ ام انه نصوص, طبعاً لا احد ينسى اننا لم نحول النصوص الى ارقام بعد. لذلك عرفناها كنص\n",
        "\n",
        "text_vectorizer():\n",
        "- هنا تحدث عملية تحويل النصوص الى ارقام وهذا الشيء عرفناه بالأكواد السابقه. الجزء الاهم هنا اننا قمنا بإدراج الناتج من الطبقة الاولى الى الكائن الخاص بهذه الطبقه وهنا حدثت أول عملية ربط بين مدخل ومخرج بين طبقتين باستعمال الطريقة الجديدة ‏‪ (Functional API)‬\n",
        "    - للتوضيح: لقد قمت برسم معمارية الخوارزمية بالكامل في الاسفل يمكنكم ان تروها\n",
        "    - الالية بشكل مبسط: طريقة الربط تكمن في جعل مُخرج الطبقة السابقة يصبح هو مكان الـ ‏‪ Arguments‬في الطبقة التالية أو بالخارج بعد الاستدعاء للطبقة في حال كانت الطبقة لا تقبل إدخالها كـ ‏‪ Argument‬\n",
        "        - مثل: GlobalAveragePooling() etc....\n",
        "- embedding():\n",
        "    - طبقة تضمين الكلمات  ‏‪ Embeddings‬و نمرر لها في الــ ‏‪ Arguments‬مُخرج الطبقة السابقة وهي النصوص محوله الى ارقام.\n",
        "\n",
        "- GlobalAveragePooling1D()\n",
        "    - هذه الطبقة تقوم بتقليل الابعاد الناتجة عن مخرجات الطبقات التي تسبقها ولدينا طبقة تضمين الكلمات وهي طبقة تخرج لنا قيم من 3 ابعاد كما شاهدنا من قبل عند تجريبنا لها.\n",
        "\n",
        "        - السبب: راجع لكون طريقة عمل طبقة ‏‪ Dense‬فهي تقبل مدخلات ابعادها تكون أول خانه عبارة عن حجم الباتش وثاني خانه عبارة عن القيم بهذه الحالة بالنسبه لنا النصوص.\n",
        "\n",
        "    - لا نستدعيها بأي ‏‪ Arguments‬فقط استدعاء من غير تعديل, ماعدا عملية وهي مخرج الطبقة السابقة نفتح أقواس ونضعه بعد تعريف هذه الطبقة ونضع بداخل الاقواس وهو مُخرج الطبقة السابقة وهكذا ربطنا مُخرج الطبقة السابقة بمُدخل الطبقة التالية.\n",
        "\n",
        "- fc_layer = Dense():\n",
        "    - طبقة تامة الاتصال ‏‪ (Fully Connected Layer)‬يمكنكم  ان لاتضعوها فلا مشكلة بذلك, لكن هدف هذه الطبقة في بعض الاحيان قبل اخر طبقة وهي المخرجات للمعمارية كاملة من اجل تعلم المزيد من الانماط وتحسين التصنيف.\n",
        "\n",
        "- model_1_outputs = Dense():\n",
        "    - اخر طبقة وهي طبقه تعمل كمخرجات هذه المعمارية كاملة.\n",
        "    - عدد الخلايا التي تملكها 1 وذلك راجع لسبب المشكلة التي نريد تصنيفها كما تتذكرون كانت تقييم الطعام سيء أو جيد فقط خيارين إما هذا أو هذا.\n",
        "    - نوع الـ  ‏‪ Activation‬وهو ‏‪ Sigmoid‬بسبب ان المخرج من نوع  ‏‪ Binary\n",
        "        - مثال: لو كان هنالك اكثر من تقييم نريد تصنيفه لوضعنا بدلا من  ‏‪ Sigmoid‬نضع مكانه ‏‪ Softmax‬\n",
        "\n",
        "\n",
        "tf.keras.Model():\n",
        "- من أجل إنشاء المعمارية لابد من استدعاء هذا الكلاس ووضع مدخلاتنا ومخرجاتنا بها ولو اردت ايضا ان تعطيه اسم خاص للمودل يمكنك ذلك\n",
        "    - سؤال لماذا وضعنا فقط المدخلات والمخرجات ؟\n",
        "        - الجواب: هذا كما تم عمله مع جميع الطبقات اننا قمنا بربطها مع بعضها البعض بداية من المدخل حتى المخرج وبهذا وضعنا فقط المدخل والمخرج للمعمارية هذه.\n",
        "\n",
        "الباقي تم شرحة بالفصل الخاص برؤية الحاسب وهي مقاييس المعمارية التي سوف تتبعها في قياس الخطأ وطريقة تحسين الباراميترز الخاصه بها \n"
      ],
      "metadata": {
        "id": "GAvNSrnXU2wY"
      }
    },
    {
      "cell_type": "code",
      "source": [
        "# Start training the model\n",
        "hist_1 = model_1.fit(X_train, \n",
        "                     y_train,\n",
        "                     epochs=100,\n",
        "                     validation_data=(X_val, y_val),\n",
        "                     callbacks=[tf.keras.callbacks.EarlyStopping(monitor=\"val_loss\", patience=3, restore_best_weights=True)])"
      ],
      "metadata": {
        "colab": {
          "base_uri": "https://localhost:8080/"
        },
        "id": "O0HHuFOYWCqL",
        "outputId": "ff2629d7-48f5-4e35-b9f4-fa7d3fcdd5cb"
      },
      "execution_count": null,
      "outputs": [
        {
          "output_type": "stream",
          "name": "stdout",
          "text": [
            "Epoch 1/100\n",
            "25/25 [==============================] - 1s 14ms/step - loss: 0.6918 - accuracy: 0.5025 - val_loss: 0.6896 - val_accuracy: 0.5400\n",
            "Epoch 2/100\n",
            "25/25 [==============================] - 0s 2ms/step - loss: 0.6831 - accuracy: 0.5562 - val_loss: 0.6844 - val_accuracy: 0.5800\n",
            "Epoch 3/100\n",
            "25/25 [==============================] - 0s 2ms/step - loss: 0.6687 - accuracy: 0.6488 - val_loss: 0.6759 - val_accuracy: 0.6300\n",
            "Epoch 4/100\n",
            "25/25 [==============================] - 0s 2ms/step - loss: 0.6445 - accuracy: 0.7613 - val_loss: 0.6634 - val_accuracy: 0.6600\n",
            "Epoch 5/100\n",
            "25/25 [==============================] - 0s 2ms/step - loss: 0.6078 - accuracy: 0.8000 - val_loss: 0.6463 - val_accuracy: 0.6500\n",
            "Epoch 6/100\n",
            "25/25 [==============================] - 0s 2ms/step - loss: 0.5596 - accuracy: 0.8413 - val_loss: 0.6279 - val_accuracy: 0.6700\n",
            "Epoch 7/100\n",
            "25/25 [==============================] - 0s 2ms/step - loss: 0.5055 - accuracy: 0.8863 - val_loss: 0.6104 - val_accuracy: 0.6600\n",
            "Epoch 8/100\n",
            "25/25 [==============================] - 0s 2ms/step - loss: 0.4500 - accuracy: 0.9025 - val_loss: 0.5936 - val_accuracy: 0.6800\n",
            "Epoch 9/100\n",
            "25/25 [==============================] - 0s 2ms/step - loss: 0.3963 - accuracy: 0.9250 - val_loss: 0.5801 - val_accuracy: 0.6900\n",
            "Epoch 10/100\n",
            "25/25 [==============================] - 0s 2ms/step - loss: 0.3462 - accuracy: 0.9400 - val_loss: 0.5681 - val_accuracy: 0.6800\n",
            "Epoch 11/100\n",
            "25/25 [==============================] - 0s 2ms/step - loss: 0.3020 - accuracy: 0.9400 - val_loss: 0.5654 - val_accuracy: 0.6700\n",
            "Epoch 12/100\n",
            "25/25 [==============================] - 0s 2ms/step - loss: 0.2630 - accuracy: 0.9463 - val_loss: 0.5635 - val_accuracy: 0.6800\n",
            "Epoch 13/100\n",
            "25/25 [==============================] - 0s 2ms/step - loss: 0.2297 - accuracy: 0.9563 - val_loss: 0.5666 - val_accuracy: 0.6900\n",
            "Epoch 14/100\n",
            "25/25 [==============================] - 0s 2ms/step - loss: 0.2020 - accuracy: 0.9600 - val_loss: 0.5794 - val_accuracy: 0.6700\n",
            "Epoch 15/100\n",
            "25/25 [==============================] - 0s 2ms/step - loss: 0.1785 - accuracy: 0.9675 - val_loss: 0.5882 - val_accuracy: 0.6900\n"
          ]
        }
      ]
    },
    {
      "cell_type": "markdown",
      "source": [
        "الان نضع كل القيم بكل ‏‪ Argument‬خاص به وليس هنالك جديد سوى شيء واحد وهو ‏‪ Callback argument‬و فائدته بكل اختصار عبارة عن دوال تعمل أثناء تدريب الخوارزمية بشرط اذا  لم يتم توقف مؤشرات هامش الخطأ مثلا.\n",
        "\n",
        "وهنالك كثير من الدوال في هذه المكتبة  ‏‪ TensorFlow‬و لكن ماسوف نستخدمة هو\n",
        "\n",
        "EarlyStopping(): وظيفتها مراقبه مقياس انت تحدده وعند تخطي رقم محدد توقف هذه الدالة عمل التدريب للخوارزمية لكي لا يحدث مشكلة فرط التخصيص ‏‪ (Overfitting)‬\n",
        "- monitor: هنا يتم كتابة المقياس الذي تريد من هذه الدالة مراقبته اثناء تدريب الخوارزمية\n",
        "- patience: هو عدد مرات تكرار الرقم الناتج من المقياس حتى يتوقف بعدها\n",
        "    - مثال: لو كان رقم 3 فهذا معناه انه يتوقف تدريب الخوارزمية عند ظهور 3 نتائج من هذا المقياس تشبه بعضها\n",
        "- restore_best_weights: عند تعريفه  ‏‪ True‬سوف  يقوم بإرجاع لك فقط افضل الانماط التي عثر عليها وافضل مقاييس عثر عليها وليس اخر نتيجة وصل اليها المودل(الخوارزمية) وبالغالب تكون سيئة.\n"
      ],
      "metadata": {
        "id": "HDQH4GfR9JDu"
      }
    },
    {
      "cell_type": "markdown",
      "source": [
        "### Visualize the model performance | الرسم البياني لأداء الخوارزمية\n",
        "\n",
        "![](https://i.imgur.com/QIDzGMJ.jpg)"
      ],
      "metadata": {
        "id": "6T7MNU3vEwIB"
      }
    },
    {
      "cell_type": "code",
      "source": [
        "# Visualize the model losses metrics\n",
        "predictions_model_1 = pd.DataFrame(hist_1.history)\n",
        "predictions_model_1[[\"val_loss\", \"loss\"]].plot()\n",
        "predictions_model_1[[\"accuracy\", \"val_accuracy\"]].plot()"
      ],
      "metadata": {
        "colab": {
          "base_uri": "https://localhost:8080/",
          "height": 530
        },
        "id": "HYfQf3CNWsMT",
        "outputId": "1c934a26-62f7-4468-851f-b983421a7e84"
      },
      "execution_count": null,
      "outputs": [
        {
          "output_type": "execute_result",
          "data": {
            "text/plain": [
              "<matplotlib.axes._subplots.AxesSubplot at 0x7f28768991d0>"
            ]
          },
          "metadata": {},
          "execution_count": 51
        },
        {
          "output_type": "display_data",
          "data": {
            "text/plain": [
              "<Figure size 432x288 with 1 Axes>"
            ],
            "image/png": "[encoded data removed]"
          },
          "metadata": {
            "needs_background": "light"
          }
        },
        {
          "output_type": "display_data",
          "data": {
            "text/plain": [
              "<Figure size 432x288 with 1 Axes>"
            ],
            "image/png": "[encoded data removed]"
          },
          "metadata": {
            "needs_background": "light"
          }
        }
      ]
    },
    {
      "cell_type": "markdown",
      "source": [
        "هنا نرى انه مقاييس الاخطاء والدقة الخاصه بالمعمارية التي قمنا بتدريبها. كما شرحنا فوائدها وكيف تعمل بالفصل السابق الخاص برؤية الحاسب لكن الفرق هنا اننا قمنا باستعمال طريقة مختصره من غير الحاجة لتعريف دالة خاصه بنا واستدعاءات من مكتبات اخرى.\n",
        "\n",
        "الطريقة فقط نحتاج الى مكتبة  ‏‪ (Pandas)‬\n",
        "\n",
        "pd.DataFrame(hist_1.history): كما قلنا العائد من الهيستوري هو  ‏‪ (Dictionary)‬وعند وضعه بداخل إطار بيانات  ‏‪(Pandas)‬نستطيع استخراج عامودان مع بعضهم وعمل طريقة  ‏‪ (Method Chaining)‬عليهم  وهي ‏‪ .plot()‬\n",
        "\n",
        "[ [\"val_loss\", \"loss\"] ].plot()"
      ],
      "metadata": {
        "id": "dkgEkixQ_CRb"
      }
    },
    {
      "cell_type": "markdown",
      "source": [
        "### Evaluate the model with test set(Aritifical test) | تقييم أداء الخوارزمية على بيانات الاختبار"
      ],
      "metadata": {
        "id": "yw_a0y8IE2Tz"
      }
    },
    {
      "cell_type": "code",
      "source": [
        "# making predictions\n",
        "preds = model_1.predict(X_test)\n",
        "preds[0:10]"
      ],
      "metadata": {
        "colab": {
          "base_uri": "https://localhost:8080/"
        },
        "id": "ptYPyP-iB7F0",
        "outputId": "2c19a262-9b95-4619-cf86-9902c31a00f3"
      },
      "execution_count": null,
      "outputs": [
        {
          "output_type": "execute_result",
          "data": {
            "text/plain": [
              "array([[0.6686722 ],\n",
              "       [0.71293366],\n",
              "       [0.23059589],\n",
              "       [0.24490395],\n",
              "       [0.92977726],\n",
              "       [0.3398985 ],\n",
              "       [0.25246304],\n",
              "       [0.2039141 ],\n",
              "       [0.34715128],\n",
              "       [0.28736776]], dtype=float32)"
            ]
          },
          "metadata": {},
          "execution_count": 54
        }
      ]
    },
    {
      "cell_type": "markdown",
      "source": [
        "من أجل جعل المودل لدينا يصنف الجمل من تقييمات الزبائن وهل التقييم يعبر عن اعجابهم بالطعام أم لا\n",
        "\n",
        "يمكننا إنشاء التنبؤات (التصنيفات) من خلال الدالة  ‏‪ (Predict)‬وقمنا بإدراج مجموعة الاختبار لها في ‏‪ (Argument)\n",
        "\n",
        "وكما نرى هنا ان الكلاسات المخرجة عبارة عن ارقام عشرية ؟؟ مالسبب هذا طبعاً عائد بسبب العملية الرياضية التي استعملناها وهي  ‏‪ (Sigmoid)‬فمخرجات هذه العملية هي احتمالات احصائية. لذلك سوف نقوم باستعمال بعض الدوال لجعل هذه الارقام من مجموعة الاعداد الصحيحة من غير فواصل.\n",
        "\n",
        "باستعمال :\n",
        "```python\n",
        "tf.round & tf.squeeze()\n",
        "```"
      ],
      "metadata": {
        "id": "Txv51oQVErKs"
      }
    },
    {
      "cell_type": "code",
      "source": [
        "# Round the probs\n",
        "tf.round(preds)[0:10]"
      ],
      "metadata": {
        "colab": {
          "base_uri": "https://localhost:8080/"
        },
        "id": "rfzoyiznCmJ0",
        "outputId": "54df067b-9783-4d51-e67b-ec23e9792e01"
      },
      "execution_count": null,
      "outputs": [
        {
          "output_type": "execute_result",
          "data": {
            "text/plain": [
              "<tf.Tensor: shape=(10, 1), dtype=float32, numpy=\n",
              "array([[1.],\n",
              "       [1.],\n",
              "       [0.],\n",
              "       [0.],\n",
              "       [1.],\n",
              "       [0.],\n",
              "       [0.],\n",
              "       [0.],\n",
              "       [0.],\n",
              "       [0.]], dtype=float32)>"
            ]
          },
          "metadata": {},
          "execution_count": 59
        }
      ]
    },
    {
      "cell_type": "markdown",
      "source": [
        "باستعمال التقريب  ‏‪ tf.round‬نستطيع  تقريب الاعداد مافوق 0.5 ان تصبح رقم 1 ومادون ذلك تصبح 0"
      ],
      "metadata": {
        "id": "X_ulq-taGiA_"
      }
    },
    {
      "cell_type": "code",
      "source": [
        "# Inspect the ground truth values\n",
        "y_test[0:10], y_test.shape"
      ],
      "metadata": {
        "colab": {
          "base_uri": "https://localhost:8080/"
        },
        "id": "lCRP0aOBC1PC",
        "outputId": "a9b8695e-54ec-4f34-fae1-319196897e2c"
      },
      "execution_count": null,
      "outputs": [
        {
          "output_type": "execute_result",
          "data": {
            "text/plain": [
              "(array([0, 1, 0, 0, 1, 0, 0, 1, 1, 1]), (100,))"
            ]
          },
          "metadata": {},
          "execution_count": 61
        }
      ]
    },
    {
      "cell_type": "markdown",
      "source": [
        "مالسبب الذي يدفعنا لفعل ذلك ؟ لأننا نريد مقارنه الكلاسات الطبيعية وهي ارقام طبيعية من غير فواصل عشرية وأيضاً نريدها ان تصبح (مصفوفه) وليست ماتريكس مثل الذي فوق لديها اكثر من بُعد اعمدة وصفوف.\n",
        "\n",
        "لذلك سوف نستعمل tf.squeeze():\n",
        "\n",
        "تتيح لنا حذف الابعاد الزائدة التي بالعادة تصبح برقم 1"
      ],
      "metadata": {
        "id": "WRVEx0UYGrC7"
      }
    },
    {
      "cell_type": "code",
      "source": [
        "# Remove 1-D from predictions\n",
        "tf.squeeze(tf.round(preds))"
      ],
      "metadata": {
        "colab": {
          "base_uri": "https://localhost:8080/"
        },
        "id": "OjlVnKJcC-6F",
        "outputId": "d458454a-fb7f-4ea0-c410-f44dc1bd7781"
      },
      "execution_count": null,
      "outputs": [
        {
          "output_type": "execute_result",
          "data": {
            "text/plain": [
              "<tf.Tensor: shape=(100,), dtype=float32, numpy=\n",
              "array([1., 1., 0., 0., 1., 0., 0., 0., 0., 0., 0., 0., 0., 0., 0., 1., 1.,\n",
              "       1., 1., 0., 1., 0., 0., 1., 0., 1., 0., 1., 0., 0., 0., 0., 1., 1.,\n",
              "       1., 1., 0., 1., 1., 1., 0., 1., 1., 1., 0., 1., 1., 1., 1., 1., 0.,\n",
              "       1., 1., 0., 0., 1., 0., 0., 1., 1., 0., 0., 1., 0., 1., 0., 0., 1.,\n",
              "       1., 0., 0., 0., 1., 0., 0., 1., 0., 0., 0., 0., 1., 0., 0., 0., 1.,\n",
              "       0., 1., 1., 0., 0., 0., 0., 0., 0., 1., 0., 1., 0., 1., 1.],\n",
              "      dtype=float32)>"
            ]
          },
          "metadata": {},
          "execution_count": 62
        }
      ]
    },
    {
      "cell_type": "markdown",
      "source": [
        "الان بهذا الشكل مانريده عبارة عن مصفوفه من 100 عنصر نفس الرقم لمجموعة الاختبار وكلاساتها"
      ],
      "metadata": {
        "id": "BZsN_zDNHOAU"
      }
    },
    {
      "cell_type": "code",
      "source": [
        "# Create the y_preds for model predictions\n",
        "y_preds = tf.squeeze(tf.round(preds))"
      ],
      "metadata": {
        "id": "NDwGRvEhDE0k"
      },
      "execution_count": null,
      "outputs": []
    },
    {
      "cell_type": "markdown",
      "source": [
        "#### Calculate other evaluation metrics | حساب بعض مقاييس الأداء الاخرى المهمة"
      ],
      "metadata": {
        "id": "DJvzuDjeDm04"
      }
    },
    {
      "cell_type": "code",
      "source": [
        "from sklearn.metrics import accuracy_score, precision_recall_fscore_support\n",
        "def calculate_eval_metrics(y_true, y_pred):\n",
        "    \"\"\"\n",
        "    Calculate the evaluation metrics for F1 score, precesion, recall, accuracy for binary classification problem.\n",
        "    in our case it's sentiment analysis\n",
        "\n",
        "    Args:\n",
        "    y_true: the ground truth labels(classes) the ones from the dataset.\n",
        "    y_pred: the predicted labels the ones from model prediction.\n",
        "\n",
        "    Returns:\n",
        "    Dictionary: a dictionary of F1 score, precesion, recall, accuracy\n",
        "    \"\"\"\n",
        "\n",
        "    # Calculate accuracy evaluation score\n",
        "    model_accuracy = accuracy_score(y_true, y_pred) * 100\n",
        "    # Calculate model precesion, recall, f1 score\n",
        "    model_precesion, model_recall, model_f1, _ = precision_recall_fscore_support(y_true, y_pred, average=\"weighted\")\n",
        "\n",
        "    return {\"F1 score\": model_f1,\n",
        "            \"Precesion\": model_precesion,\n",
        "            \"Recall\": model_recall,\n",
        "            \"Accuracy\": model_accuracy}"
      ],
      "metadata": {
        "id": "7Oq6HcF-YJeH"
      },
      "execution_count": null,
      "outputs": []
    },
    {
      "cell_type": "markdown",
      "source": [
        "طبعاً من خلال استدعاء لدالة من مكتبة  ‏‪ Sklearn\n",
        "```python‬\n",
        "precision_recall_fscore_support\n",
        "```\n",
        "\n",
        "هذه داله نستطيع منها استخراج اهم 3 مقاييس وبكل اختصار هي:\n",
        "- F1 score: مقياس يضم المقياسان ‏‪ (Precesion & Recall)‬وايحاج المتوسط لهم\n",
        "- Precesion: هذا المقياس بكل اختصار عندما يعتقد المودل انه تنبأ بكلاس 1 وهو في الحقيقه كلاس 0\n",
        "- Recall: وهذا المقياس بكل اختصار يعتقد انه تنبأ بكلاس 0 وهو الكلاس الحقيقي 1\n",
        "\n",
        "السبب ان هنالك متغير بهذا الاسم (_) يعود لأننا لانريده وهو  ‏‪ (Support)‬ويمثل  عدد مرات ظهور الكلاس الصحيح.\n",
        "\n",
        "وهنالك  ‏‪ Argument\n",
        "\n",
        "average=\"weighted\" \n",
        "\n",
        "وهو جعل النتائج العائدة بصيغة ارقام وايجاد متوسطهم.\n",
        "- اذا لم تضعها فسوف تعود النتائج كمصفوفات\n",
        "\n"
      ],
      "metadata": {
        "id": "06THVOzuHVjF"
      }
    },
    {
      "cell_type": "code",
      "source": [
        "# Calculate the model metrics\n",
        "calculate_eval_metrics(y_true=y_test,\n",
        "                       y_pred=y_preds)"
      ],
      "metadata": {
        "id": "A9_BfHHEYJs9",
        "colab": {
          "base_uri": "https://localhost:8080/"
        },
        "outputId": "568295f0-e38c-440f-d1d5-48b23fe81fd7"
      },
      "execution_count": null,
      "outputs": [
        {
          "output_type": "execute_result",
          "data": {
            "text/plain": [
              "{'F1 score': 0.7694235588972431,\n",
              " 'Precesion': 0.7727272727272728,\n",
              " 'Recall': 0.77,\n",
              " 'Accuracy': 77.0}"
            ]
          },
          "metadata": {},
          "execution_count": 70
        }
      ]
    }
  ]
}